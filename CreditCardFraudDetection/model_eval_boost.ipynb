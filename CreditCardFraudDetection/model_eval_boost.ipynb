{
 "cells": [
  {
   "cell_type": "code",
   "execution_count": 9,
   "metadata": {
    "collapsed": true
   },
   "outputs": [],
   "source": [
    "from __future__ import division, print_function, absolute_import\n",
    "import time\n",
    "import numpy as np\n",
    "import pandas as pd\n",
    "\n",
    "import data_prep\n",
    "from models import RandomForest, GradientBoosting, XGBoost, Score"
   ]
  },
  {
   "cell_type": "markdown",
   "metadata": {},
   "source": [
    "## Data Prep"
   ]
  },
  {
   "cell_type": "code",
   "execution_count": 5,
   "metadata": {},
   "outputs": [
    {
     "name": "stdout",
     "output_type": "stream",
     "text": [
      "Input trainX.shape=(230693, 29) and trainY.shape=(230693, 1)\n"
     ]
    },
    {
     "name": "stderr",
     "output_type": "stream",
     "text": [
      "/Users/sam/App-Setup/anaconda/envs/anaconda35/lib/python3.5/site-packages/sklearn/utils/validation.py:578: DataConversionWarning: A column-vector y was passed when a 1d array was expected. Please change the shape of y to (n_samples, ), for example using ravel().\n",
      "  y = column_or_1d(y, warn=True)\n",
      "/Users/sam/App-Setup/anaconda/envs/anaconda35/lib/python3.5/site-packages/sklearn/utils/deprecation.py:77: DeprecationWarning: Function _ratio_float is deprecated; Use a float for 'ratio' is deprecated from version 0.2. The support will be removed in 0.4. Use a dict, str, or a callable instead.\n",
      "  warnings.warn(msg, category=DeprecationWarning)\n"
     ]
    },
    {
     "name": "stdout",
     "output_type": "stream",
     "text": [
      "testX.shape=(28481, 29), Y=0->28434, Y=1->47\n",
      "cvalid.shape=(25633, 29), Y=0->25589, Y=1->44\n",
      "train.shape=(460584, 29), Y=0->230292, Y=1->230292\n"
     ]
    }
   ],
   "source": [
    "dataX, dataY, xFeatures, yLabel = data_prep.feature_transform()\n",
    "trainX, trainY, testX, testY, cvalidX, cvalidY = data_prep.data_prep(dataX, dataY)\n",
    "trX, trY = data_prep.upscale_minority_class(trainX=trainX, trainY=trainY)\n",
    "print ('testX.shape=%s, Y=0->%s, Y=1->%s'%(str(testX.shape), str(len(np.where(testY==0)[0])), str(len(np.where(testY==1)[0]))))\n",
    "print ('cvalid.shape=%s, Y=0->%s, Y=1->%s'%(str(cvalidX.shape), str(len(np.where(cvalidY==0)[0])), str(len(np.where(cvalidY==1)[0]))))\n",
    "print ('train.shape=%s, Y=0->%s, Y=1->%s'%(str(trX.shape), str(len(np.where(trY==0)[0])), str(len(np.where(trY==1)[0]))))"
   ]
  },
  {
   "cell_type": "markdown",
   "metadata": {},
   "source": [
    "## Random forest:"
   ]
  },
  {
   "cell_type": "code",
   "execution_count": null,
   "metadata": {},
   "outputs": [],
   "source": [
    "classifier = RandomForest()\n",
    "\n",
    "start_time = time.time()\n",
    "classifier.fit(trX, trY)\n",
    "tot_time = time.time() - start_time\n",
    "\n",
    "trY_pred = classifier.predict(trX)\n",
    "cvY_pred = classifier.predict(cvalidX)\n",
    "tsY_pred = classifier.predict(testX)\n",
    "dataOUT = classifier.feature_importance(xFeatures, is_plot=True)\n",
    "\n",
    "tr_acc = Score.accuracy(trY, trY_pred)\n",
    "cv_acc = Score.accuracy(cvalidY, cvY_pred)\n",
    "ts_acc = Score.accuracy(testY, tsY_pred)\n",
    "\n",
    "tr_precision = Score.precision(trY, trY_pred)\n",
    "cv_precision = Score.precision(cvalidY, cvY_pred)\n",
    "ts_precision = Score.precision(testY, tsY_pred)\n",
    "\n",
    "tr_recall = Score.recall(trY, trY_pred)\n",
    "cv_recall = Score.recall(cvalidY, cvY_pred)\n",
    "ts_recall = Score.recall(testY, tsY_pred)\n",
    "\n",
    "print('Time taken to fit: ', str(tot_time))\n",
    "print ('ACCURACY: train, cvalid, test ', tr_acc, cv_acc, ts_acc)\n",
    "print ('PRECISION: train, cvalid, test ', tr_precision, cv_precision, ts_precision)\n",
    "print ('RECALL: train, cvalid, test ', tr_recall, cv_recall, ts_recall)"
   ]
  },
  {
   "cell_type": "markdown",
   "metadata": {},
   "source": [
    "## Gradient Boosting:"
   ]
  },
  {
   "cell_type": "code",
   "execution_count": null,
   "metadata": {
    "collapsed": true
   },
   "outputs": [],
   "source": [
    "classifier = GradientBoosting()\n",
    "\n",
    "start_time = time.time()\n",
    "classifier.fit(trX, trY)\n",
    "tot_time = time.time() - start_time\n",
    "\n",
    "trY_pred = classifier.predict(trX)\n",
    "cvY_pred = classifier.predict(cvalidX)\n",
    "tsY_pred = classifier.predict(testX)\n",
    "dataOUT = classifier.feature_importance(xFeatures, is_plot=True)\n",
    "\n",
    "tr_acc = Score.accuracy(trY, trY_pred)\n",
    "cv_acc = Score.accuracy(cvalidY, cvY_pred)\n",
    "ts_acc = Score.accuracy(testY, tsY_pred)\n",
    "\n",
    "tr_precision = Score.precision(trY, trY_pred)\n",
    "cv_precision = Score.precision(cvalidY, cvY_pred)\n",
    "ts_precision = Score.precision(testY, tsY_pred)\n",
    "\n",
    "tr_recall = Score.recall(trY, trY_pred)\n",
    "cv_recall = Score.recall(cvalidY, cvY_pred)\n",
    "ts_recall = Score.recall(testY, tsY_pred)\n",
    "\n",
    "print('Time taken to fit: ', str(tot_time))\n",
    "print ('ACCURACY: train, cvalid, test ', tr_acc, cv_acc, ts_acc)\n",
    "print ('PRECISION: train, cvalid, test ', tr_precision, cv_precision, ts_precision)\n",
    "print ('RECALL: train, cvalid, test ', tr_recall, cv_recall, ts_recall)"
   ]
  },
  {
   "cell_type": "code",
   "execution_count": 2,
   "metadata": {},
   "outputs": [
    {
     "name": "stdout",
     "output_type": "stream",
     "text": [
      "25589 44\n"
     ]
    }
   ],
   "source": [
    "\n",
    "#     trX, trY = data_prep.upscale_minority_class(trainX=trainX, trainY=trainY)\n",
    "    \n",
    "    \n",
    "#     # classifier = RandomForest()\n",
    "#     # classifier = GradientBoosting()\n",
    "#     classifier = XGBoost()\n",
    "    \n",
    "#     ## Random Forest\n",
    "    \n",
    "#     start_time = time.time()\n",
    "#     classifier.fit(trX, trY)\n",
    "#     tot_time = time.time() - start_time\n",
    "    \n",
    "#     trY_pred = classifier.predict(trX)\n",
    "#     cvY_pred = classifier.predict(cvalidX)\n",
    "#     tsY_pred = classifier.predict(testX)\n",
    "#     dataOUT = classifier.feature_importance(xFeatures, is_plot=True)\n",
    "\n",
    "#     print('Time taken to fit: ', str(tot_time))\n",
    "#     print('Train - Recall Score: ', Score.recall(trY, trY_pred))\n",
    "#     print('Train - Recall Score reversed: ', Score.recall(trY, trY_pred, reverse=True))\n",
    "#     print('Cvalid - Recall Score: ',Score.recall(cvalidY, cvY_pred))\n",
    "#     print('Cvalid - Recall Score reversed: ',Score.recall(cvalidY, cvY_pred, reverse=True))\n",
    "#     print('Test - Recall Score: ', Score.recall(testY, tsY_pred))\n",
    "#     print('Test - Recall Score reversed: ',Score.recall(testY, tsY_pred, reverse=True))\n",
    "\n",
    "#     # Random Forest\n",
    "#     # Time taken to fit:  5194.590213060379\n",
    "#     # Train - Recall Score:  1.0\n",
    "#     # Train - Recall Score reversed:  0.0\n",
    "#     # Cvalid - Recall Score:  0.840909090909\n",
    "#     # Cvalid - Recall Score reversed:  0.000234475751299\n",
    "#     # Test - Recall Score:  0.829787234043\n",
    "#     # Test - Recall Score reversed:  0.000316522473096\n",
    "    \n",
    "#     # Gradient Boosting Method: took appx 1.30 hrs to complete, But worth the try\n",
    "#     # Train - Recall Score: 1.0\n",
    "#     # Train - Recall Score reversed: 0.000794643322391\n",
    "#     # Cvalid - Recall Score:: 0.909090909091\n",
    "#     # Cvalid - Recall Score reversed: 0.00121145804838\n",
    "#     # Test - Recall Score: 0.872340425532\n",
    "#     # Test - Recall Score reversed: 0.00112541323767\n",
    "\n",
    "#     # XGBoost\n",
    "#     # Time taken to fit:  36.861494064331055\n",
    "#     # Train - Recall Score:  0.93499557084\n",
    "#     # Train - Recall Score reversed:  0.99038177618\n",
    "#     # Cvalid - Recall Score:  0.909090909091\n",
    "#     # Cvalid - Recall Score reversed:  0.989917542694\n",
    "#     # Test - Recall Score:  0.936170212766\n",
    "#     # Test - Recall Score reversed:  0.989906450025\n",
    "\n",
    "# # main()"
   ]
  },
  {
   "cell_type": "code",
   "execution_count": null,
   "metadata": {
    "collapsed": true
   },
   "outputs": [],
   "source": []
  }
 ],
 "metadata": {
  "kernelspec": {
   "display_name": "Python 3",
   "language": "python",
   "name": "python3"
  },
  "language_info": {
   "codemirror_mode": {
    "name": "ipython",
    "version": 3
   },
   "file_extension": ".py",
   "mimetype": "text/x-python",
   "name": "python",
   "nbconvert_exporter": "python",
   "pygments_lexer": "ipython3",
   "version": "3.5.4"
  }
 },
 "nbformat": 4,
 "nbformat_minor": 2
}
