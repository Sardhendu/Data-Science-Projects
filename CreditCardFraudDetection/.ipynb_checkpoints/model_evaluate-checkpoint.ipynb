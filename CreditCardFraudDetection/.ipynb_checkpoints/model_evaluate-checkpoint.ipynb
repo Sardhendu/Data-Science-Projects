{
 "cells": [
  {
   "cell_type": "code",
   "execution_count": 3,
   "metadata": {},
   "outputs": [],
   "source": [
    "from __future__ import division, print_function, absolute_import\n",
    "\n",
    "import numpy as np\n",
    "import pandas as pd\n",
    "from nnet import nnet"
   ]
  },
  {
   "cell_type": "code",
   "execution_count": null,
   "metadata": {
    "collapsed": true
   },
   "outputs": [],
   "source": []
  },
  {
   "cell_type": "code",
   "execution_count": null,
   "metadata": {
    "collapsed": true
   },
   "outputs": [],
   "source": [
    "layers = [20, 20, 20, 2]\n",
    "batch_size = 2048\n",
    "display_step = 10\n",
    "num_epochs = 20\n",
    "learning_rate = 0.005\n",
    "\n",
    "(tr_loss_arr, tr_acc_arr, tr_precision_arr, tr_recall_arr,\n",
    " cv_loss_arr, cv_acc_arr, cv_precision_arr, cv_recall_arr,\n",
    " tsacc, ts_precsion_score, ts_recall_score) = nnet(layers, batch_size, display_step, num_epochs, learning_rate)"
   ]
  },
  {
   "cell_type": "code",
   "execution_count": null,
   "metadata": {
    "collapsed": true
   },
   "outputs": [],
   "source": []
  }
 ],
 "metadata": {
  "kernelspec": {
   "display_name": "Python 3",
   "language": "python",
   "name": "python3"
  },
  "language_info": {
   "codemirror_mode": {
    "name": "ipython",
    "version": 3
   },
   "file_extension": ".py",
   "mimetype": "text/x-python",
   "name": "python",
   "nbconvert_exporter": "python",
   "pygments_lexer": "ipython3",
   "version": "3.5.4"
  }
 },
 "nbformat": 4,
 "nbformat_minor": 1
}
