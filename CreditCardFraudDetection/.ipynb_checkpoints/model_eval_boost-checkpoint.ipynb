{
 "cells": [
  {
   "cell_type": "code",
   "execution_count": 1,
   "metadata": {
    "collapsed": true
   },
   "outputs": [],
   "source": [
    "from __future__ import division, print_function, absolute_import\n",
    "import time\n",
    "import numpy as np\n",
    "import pandas as pd\n",
    "\n",
    "import data_prep\n",
    "from models import RandomForest, GradientBoosting, XGBoost, Score"
   ]
  },
  {
   "cell_type": "markdown",
   "metadata": {},
   "source": [
    "## Data Prep"
   ]
  },
  {
   "cell_type": "code",
   "execution_count": 2,
   "metadata": {},
   "outputs": [
    {
     "name": "stdout",
     "output_type": "stream",
     "text": [
      "Input trainX.shape=(230693, 29) and trainY.shape=(230693, 1)\n"
     ]
    },
    {
     "name": "stderr",
     "output_type": "stream",
     "text": [
      "/Users/sam/App-Setup/anaconda/envs/anaconda35/lib/python3.5/site-packages/sklearn/utils/validation.py:578: DataConversionWarning: A column-vector y was passed when a 1d array was expected. Please change the shape of y to (n_samples, ), for example using ravel().\n",
      "  y = column_or_1d(y, warn=True)\n",
      "/Users/sam/App-Setup/anaconda/envs/anaconda35/lib/python3.5/site-packages/sklearn/utils/deprecation.py:77: DeprecationWarning: Function _ratio_float is deprecated; Use a float for 'ratio' is deprecated from version 0.2. The support will be removed in 0.4. Use a dict, str, or a callable instead.\n",
      "  warnings.warn(msg, category=DeprecationWarning)\n"
     ]
    },
    {
     "name": "stdout",
     "output_type": "stream",
     "text": [
      "testX.shape=(28481, 29), Y=0->28434, Y=1->47\n",
      "cvalid.shape=(25633, 29), Y=0->25589, Y=1->44\n",
      "train.shape=(460584, 29), Y=0->230292, Y=1->230292\n"
     ]
    }
   ],
   "source": [
    "dataX, dataY, xFeatures, yLabel = data_prep.feature_transform()\n",
    "trainX, trainY, testX, testY, cvalidX, cvalidY = data_prep.data_prep(dataX, dataY)\n",
    "trX, trY = data_prep.upscale_minority_class(trainX=trainX, trainY=trainY)\n",
    "print ('testX.shape=%s, Y=0->%s, Y=1->%s'%(str(testX.shape), str(len(np.where(testY==0)[0])), str(len(np.where(testY==1)[0]))))\n",
    "print ('cvalid.shape=%s, Y=0->%s, Y=1->%s'%(str(cvalidX.shape), str(len(np.where(cvalidY==0)[0])), str(len(np.where(cvalidY==1)[0]))))\n",
    "print ('train.shape=%s, Y=0->%s, Y=1->%s'%(str(trX.shape), str(len(np.where(trY==0)[0])), str(len(np.where(trY==1)[0]))))"
   ]
  },
  {
   "cell_type": "markdown",
   "metadata": {},
   "source": [
    "## Random forest:"
   ]
  },
  {
   "cell_type": "code",
   "execution_count": 12,
   "metadata": {},
   "outputs": [
    {
     "name": "stdout",
     "output_type": "stream",
     "text": [
      "Time taken to fit:  5985.628396987915\n",
      "TRAIN: accuracy, precision, recall  1.0 1.0 1.0\n",
      "CVALID: accuracy, precision, recall  0.999492841259 0.860465116279 0.840909090909\n",
      "TEST: accuracy, precision, recall  0.999403110846 0.829787234043 0.829787234043\n"
     ]
    }
   ],
   "source": [
    "classifier = RandomForest()\n",
    "\n",
    "start_time = time.time()\n",
    "classifier.fit(trX, trY)\n",
    "tot_time = time.time() - start_time\n",
    "\n",
    "trY_pred = classifier.predict(trX)\n",
    "cvY_pred = classifier.predict(cvalidX)\n",
    "tsY_pred = classifier.predict(testX)\n",
    "\n",
    "tr_acc = Score.accuracy(trY, trY_pred)\n",
    "cv_acc = Score.accuracy(cvalidY, cvY_pred)\n",
    "ts_acc = Score.accuracy(testY, tsY_pred)\n",
    "\n",
    "tr_precision = Score.precision(trY, trY_pred)\n",
    "cv_precision = Score.precision(cvalidY, cvY_pred)\n",
    "ts_precision = Score.precision(testY, tsY_pred)\n",
    "\n",
    "tr_recall = Score.recall(trY, trY_pred)\n",
    "cv_recall = Score.recall(cvalidY, cvY_pred)\n",
    "ts_recall = Score.recall(testY, tsY_pred)\n",
    "\n",
    "print('Time taken to fit: ', str(tot_time))\n",
    "print ('TRAIN: accuracy, precision, recall ', tr_acc, tr_precision, tr_recall)\n",
    "print ('CVALID: accuracy, precision, recall ', cv_acc, cv_precision, cv_recall)\n",
    "print ('TEST: accuracy, precision, recall ', ts_acc, ts_precision, ts_recall)"
   ]
  },
  {
   "cell_type": "markdown",
   "metadata": {},
   "source": [
    "## Gradient Boosting:"
   ]
  },
  {
   "cell_type": "code",
   "execution_count": 3,
   "metadata": {},
   "outputs": [
    {
     "name": "stdout",
     "output_type": "stream",
     "text": [
      "Time taken to fit:  5541.878492116928\n",
      "TRAIN: accuracy, precision, recall  0.999600507182 0.999201652233 1.0\n",
      "CVALID: accuracy, precision, recall  0.99859556041 0.555555555556 0.909090909091\n",
      "TEST: accuracy, precision, recall  0.998595554931 0.872340425532 0.872340425532\n"
     ]
    }
   ],
   "source": [
    "classifier = GradientBoosting()\n",
    "\n",
    "start_time = time.time()\n",
    "classifier.fit(trX, trY)\n",
    "tot_time = time.time() - start_time\n",
    "\n",
    "trY_pred = classifier.predict(trX)\n",
    "cvY_pred = classifier.predict(cvalidX)\n",
    "tsY_pred = classifier.predict(testX)\n",
    "# dataOUT = classifier.feature_importance(xFeatures, is_plot=True)\n",
    "\n",
    "tr_acc = Score.accuracy(trY, trY_pred)\n",
    "cv_acc = Score.accuracy(cvalidY, cvY_pred)\n",
    "ts_acc = Score.accuracy(testY, tsY_pred)\n",
    "\n",
    "tr_precision = Score.precision(trY, trY_pred)\n",
    "cv_precision = Score.precision(cvalidY, cvY_pred)\n",
    "ts_precision = Score.precision(testY, tsY_pred)\n",
    "\n",
    "tr_recall = Score.recall(trY, trY_pred)\n",
    "cv_recall = Score.recall(cvalidY, cvY_pred)\n",
    "ts_recall = Score.recall(testY, tsY_pred)\n",
    "\n",
    "print('Time taken to fit: ', str(tot_time))\n",
    "print ('TRAIN: accuracy, precision, recall ', tr_acc, tr_precision, tr_recall)\n",
    "print ('CVALID: accuracy, precision, recall ', cv_acc, cv_precision, cv_recall)\n",
    "print ('TEST: accuracy, precision, recall ', ts_acc, ts_precision, ts_recall)"
   ]
  },
  {
   "cell_type": "markdown",
   "metadata": {},
   "source": [
    "## XGBOOST:"
   ]
  },
  {
   "cell_type": "code",
   "execution_count": null,
   "metadata": {},
   "outputs": [],
   "source": [
    "classifier = XGBoost()\n",
    "\n",
    "start_time = time.time()\n",
    "classifier.fit(trX, trY)\n",
    "tot_time = time.time() - start_time\n",
    "\n",
    "trY_pred = classifier.predict(trX)\n",
    "cvY_pred = classifier.predict(cvalidX)\n",
    "tsY_pred = classifier.predict(testX)\n",
    "# dataOUT = classifier.feature_importance(xFeatures, is_plot=True)\n",
    "\n",
    "tr_acc = Score.accuracy(trY, trY_pred)\n",
    "cv_acc = Score.accuracy(cvalidY, cvY_pred)\n",
    "ts_acc = Score.accuracy(testY, tsY_pred)\n",
    "\n",
    "tr_precision = Score.precision(trY, trY_pred)\n",
    "cv_precision = Score.precision(cvalidY, cvY_pred)\n",
    "ts_precision = Score.precision(testY, tsY_pred)\n",
    "\n",
    "tr_recall = Score.recall(trY, trY_pred)\n",
    "cv_recall = Score.recall(cvalidY, cvY_pred)\n",
    "ts_recall = Score.recall(testY, tsY_pred)\n",
    "\n",
    "print('Time taken to fit: ', str(tot_time))\n",
    "print ('TRAIN: accuracy, precision, recall ', tr_acc, tr_precision, tr_recall)\n",
    "print ('CVALID: accuracy, precision, recall ', cv_acc, cv_precision, cv_recall)\n",
    "print ('TEST: accuracy, precision, recall ', ts_acc, ts_precision, ts_recall)"
   ]
  },
  {
   "cell_type": "code",
   "execution_count": null,
   "metadata": {
    "collapsed": true
   },
   "outputs": [],
   "source": []
  }
 ],
 "metadata": {
  "kernelspec": {
   "display_name": "Python 3",
   "language": "python",
   "name": "python3"
  },
  "language_info": {
   "codemirror_mode": {
    "name": "ipython",
    "version": 3
   },
   "file_extension": ".py",
   "mimetype": "text/x-python",
   "name": "python",
   "nbconvert_exporter": "python",
   "pygments_lexer": "ipython3",
   "version": "3.5.4"
  }
 },
 "nbformat": 4,
 "nbformat_minor": 2
}
