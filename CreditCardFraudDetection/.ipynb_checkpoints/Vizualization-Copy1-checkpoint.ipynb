{
 "cells": [
  {
   "cell_type": "code",
   "execution_count": 6,
   "metadata": {},
   "outputs": [],
   "source": [
    "import pandas as pd\n",
    "import numpy as np\n",
    "import pickle\n",
    "import matplotlib.pyplot as plt\n",
    "from scipy import stats\n",
    "import tensorflow as tf\n",
    "import seaborn as sns\n",
    "from pylab import rcParams\n",
    "from sklearn.model_selection import train_test_split\n",
    "from keras.models import Model, load_model\n",
    "from keras.layers import Input, Dense\n",
    "from keras.callbacks import ModelCheckpoint, TensorBoard\n",
    "from keras import regularizers\n",
    "\n",
    "RANDOM_SEED = 42\n",
    "LABELS = [\"Normal\", \"Fraud\"]"
   ]
  },
  {
   "cell_type": "code",
   "execution_count": 7,
   "metadata": {
    "collapsed": true
   },
   "outputs": [],
   "source": [
    "\n",
    "import pandas as pd\n",
    "import numpy as np\n",
    "import matplotlib\n",
    "import matplotlib.pyplot as plt\n",
    "import seaborn as sns\n",
    "%matplotlib inline\n",
    "sns.set_style(\"whitegrid\")\n",
    "sns.set(color_codes=True)\n",
    "# matplotlib.style.use('ggplot')\n",
    "\n",
    "import statistics as get_stats\n",
    "data_dir = '/Users/sam/All-Program/App-DataSet/z-others/creditcard.csv'\n"
   ]
  },
  {
   "cell_type": "code",
   "execution_count": 8,
   "metadata": {},
   "outputs": [
    {
     "name": "stdout",
     "output_type": "stream",
     "text": [
      "(284807, 31)\n"
     ]
    },
    {
     "data": {
      "text/html": [
       "<div>\n",
       "<style>\n",
       "    .dataframe thead tr:only-child th {\n",
       "        text-align: right;\n",
       "    }\n",
       "\n",
       "    .dataframe thead th {\n",
       "        text-align: left;\n",
       "    }\n",
       "\n",
       "    .dataframe tbody tr th {\n",
       "        vertical-align: top;\n",
       "    }\n",
       "</style>\n",
       "<table border=\"1\" class=\"dataframe\">\n",
       "  <thead>\n",
       "    <tr style=\"text-align: right;\">\n",
       "      <th></th>\n",
       "      <th>Time</th>\n",
       "      <th>V1</th>\n",
       "      <th>V2</th>\n",
       "      <th>V3</th>\n",
       "      <th>V4</th>\n",
       "      <th>V5</th>\n",
       "      <th>V6</th>\n",
       "      <th>V7</th>\n",
       "      <th>V8</th>\n",
       "      <th>V9</th>\n",
       "      <th>...</th>\n",
       "      <th>V21</th>\n",
       "      <th>V22</th>\n",
       "      <th>V23</th>\n",
       "      <th>V24</th>\n",
       "      <th>V25</th>\n",
       "      <th>V26</th>\n",
       "      <th>V27</th>\n",
       "      <th>V28</th>\n",
       "      <th>Amount</th>\n",
       "      <th>Class</th>\n",
       "    </tr>\n",
       "  </thead>\n",
       "  <tbody>\n",
       "    <tr>\n",
       "      <th>0</th>\n",
       "      <td>0.0</td>\n",
       "      <td>-1.359807</td>\n",
       "      <td>-0.072781</td>\n",
       "      <td>2.536347</td>\n",
       "      <td>1.378155</td>\n",
       "      <td>-0.338321</td>\n",
       "      <td>0.462388</td>\n",
       "      <td>0.239599</td>\n",
       "      <td>0.098698</td>\n",
       "      <td>0.363787</td>\n",
       "      <td>...</td>\n",
       "      <td>-0.018307</td>\n",
       "      <td>0.277838</td>\n",
       "      <td>-0.110474</td>\n",
       "      <td>0.066928</td>\n",
       "      <td>0.128539</td>\n",
       "      <td>-0.189115</td>\n",
       "      <td>0.133558</td>\n",
       "      <td>-0.021053</td>\n",
       "      <td>149.62</td>\n",
       "      <td>0</td>\n",
       "    </tr>\n",
       "    <tr>\n",
       "      <th>1</th>\n",
       "      <td>0.0</td>\n",
       "      <td>1.191857</td>\n",
       "      <td>0.266151</td>\n",
       "      <td>0.166480</td>\n",
       "      <td>0.448154</td>\n",
       "      <td>0.060018</td>\n",
       "      <td>-0.082361</td>\n",
       "      <td>-0.078803</td>\n",
       "      <td>0.085102</td>\n",
       "      <td>-0.255425</td>\n",
       "      <td>...</td>\n",
       "      <td>-0.225775</td>\n",
       "      <td>-0.638672</td>\n",
       "      <td>0.101288</td>\n",
       "      <td>-0.339846</td>\n",
       "      <td>0.167170</td>\n",
       "      <td>0.125895</td>\n",
       "      <td>-0.008983</td>\n",
       "      <td>0.014724</td>\n",
       "      <td>2.69</td>\n",
       "      <td>0</td>\n",
       "    </tr>\n",
       "    <tr>\n",
       "      <th>2</th>\n",
       "      <td>1.0</td>\n",
       "      <td>-1.358354</td>\n",
       "      <td>-1.340163</td>\n",
       "      <td>1.773209</td>\n",
       "      <td>0.379780</td>\n",
       "      <td>-0.503198</td>\n",
       "      <td>1.800499</td>\n",
       "      <td>0.791461</td>\n",
       "      <td>0.247676</td>\n",
       "      <td>-1.514654</td>\n",
       "      <td>...</td>\n",
       "      <td>0.247998</td>\n",
       "      <td>0.771679</td>\n",
       "      <td>0.909412</td>\n",
       "      <td>-0.689281</td>\n",
       "      <td>-0.327642</td>\n",
       "      <td>-0.139097</td>\n",
       "      <td>-0.055353</td>\n",
       "      <td>-0.059752</td>\n",
       "      <td>378.66</td>\n",
       "      <td>0</td>\n",
       "    </tr>\n",
       "    <tr>\n",
       "      <th>3</th>\n",
       "      <td>1.0</td>\n",
       "      <td>-0.966272</td>\n",
       "      <td>-0.185226</td>\n",
       "      <td>1.792993</td>\n",
       "      <td>-0.863291</td>\n",
       "      <td>-0.010309</td>\n",
       "      <td>1.247203</td>\n",
       "      <td>0.237609</td>\n",
       "      <td>0.377436</td>\n",
       "      <td>-1.387024</td>\n",
       "      <td>...</td>\n",
       "      <td>-0.108300</td>\n",
       "      <td>0.005274</td>\n",
       "      <td>-0.190321</td>\n",
       "      <td>-1.175575</td>\n",
       "      <td>0.647376</td>\n",
       "      <td>-0.221929</td>\n",
       "      <td>0.062723</td>\n",
       "      <td>0.061458</td>\n",
       "      <td>123.50</td>\n",
       "      <td>0</td>\n",
       "    </tr>\n",
       "    <tr>\n",
       "      <th>4</th>\n",
       "      <td>2.0</td>\n",
       "      <td>-1.158233</td>\n",
       "      <td>0.877737</td>\n",
       "      <td>1.548718</td>\n",
       "      <td>0.403034</td>\n",
       "      <td>-0.407193</td>\n",
       "      <td>0.095921</td>\n",
       "      <td>0.592941</td>\n",
       "      <td>-0.270533</td>\n",
       "      <td>0.817739</td>\n",
       "      <td>...</td>\n",
       "      <td>-0.009431</td>\n",
       "      <td>0.798278</td>\n",
       "      <td>-0.137458</td>\n",
       "      <td>0.141267</td>\n",
       "      <td>-0.206010</td>\n",
       "      <td>0.502292</td>\n",
       "      <td>0.219422</td>\n",
       "      <td>0.215153</td>\n",
       "      <td>69.99</td>\n",
       "      <td>0</td>\n",
       "    </tr>\n",
       "  </tbody>\n",
       "</table>\n",
       "<p>5 rows × 31 columns</p>\n",
       "</div>"
      ],
      "text/plain": [
       "   Time        V1        V2        V3        V4        V5        V6        V7  \\\n",
       "0   0.0 -1.359807 -0.072781  2.536347  1.378155 -0.338321  0.462388  0.239599   \n",
       "1   0.0  1.191857  0.266151  0.166480  0.448154  0.060018 -0.082361 -0.078803   \n",
       "2   1.0 -1.358354 -1.340163  1.773209  0.379780 -0.503198  1.800499  0.791461   \n",
       "3   1.0 -0.966272 -0.185226  1.792993 -0.863291 -0.010309  1.247203  0.237609   \n",
       "4   2.0 -1.158233  0.877737  1.548718  0.403034 -0.407193  0.095921  0.592941   \n",
       "\n",
       "         V8        V9  ...         V21       V22       V23       V24  \\\n",
       "0  0.098698  0.363787  ...   -0.018307  0.277838 -0.110474  0.066928   \n",
       "1  0.085102 -0.255425  ...   -0.225775 -0.638672  0.101288 -0.339846   \n",
       "2  0.247676 -1.514654  ...    0.247998  0.771679  0.909412 -0.689281   \n",
       "3  0.377436 -1.387024  ...   -0.108300  0.005274 -0.190321 -1.175575   \n",
       "4 -0.270533  0.817739  ...   -0.009431  0.798278 -0.137458  0.141267   \n",
       "\n",
       "        V25       V26       V27       V28  Amount  Class  \n",
       "0  0.128539 -0.189115  0.133558 -0.021053  149.62      0  \n",
       "1  0.167170  0.125895 -0.008983  0.014724    2.69      0  \n",
       "2 -0.327642 -0.139097 -0.055353 -0.059752  378.66      0  \n",
       "3  0.647376 -0.221929  0.062723  0.061458  123.50      0  \n",
       "4 -0.206010  0.502292  0.219422  0.215153   69.99      0  \n",
       "\n",
       "[5 rows x 31 columns]"
      ]
     },
     "execution_count": 8,
     "metadata": {},
     "output_type": "execute_result"
    }
   ],
   "source": [
    "data = pd.read_csv(data_dir)\n",
    "print (data.shape)\n",
    "data.head()"
   ]
  },
  {
   "cell_type": "code",
   "execution_count": 187,
   "metadata": {
    "collapsed": true
   },
   "outputs": [],
   "source": [
    "# a = int(data.shape[0]/2)\n",
    "# b = int((data.shape[0]-a)/4)\n",
    "# c = int((data.shape[0]-a)/4)\n",
    "# d = int((data.shape[0]-(a+b+c)))\n",
    "# cat_column = np.array(['dummy1'] * a + ['dummy2']*b + ['dummy3'] * c + ['dummy4']*d )\n",
    "# cat_column2 = cat_column.copy()\n",
    "# np.random.shuffle(cat_column)"
   ]
  },
  {
   "cell_type": "code",
   "execution_count": 207,
   "metadata": {},
   "outputs": [
    {
     "name": "stdout",
     "output_type": "stream",
     "text": [
      "284315 492\n"
     ]
    }
   ],
   "source": [
    "# zeros = np.array(data[data['Class']==0].reset_index()['index'], dtype='int32')\n",
    "# ones = np.array(data[data['Class']==1].reset_index()['index'], dtype='int32')\n",
    "# print(len(zeros), len(ones))\n",
    "# cat_column2[zeros] = 'dummy1'\n",
    "# cat_column2[ones] = 'dummy2'"
   ]
  },
  {
   "cell_type": "code",
   "execution_count": 209,
   "metadata": {},
   "outputs": [
    {
     "name": "stdout",
     "output_type": "stream",
     "text": [
      "(284807, 34)\n"
     ]
    },
    {
     "data": {
      "text/html": [
       "<div>\n",
       "<style>\n",
       "    .dataframe thead tr:only-child th {\n",
       "        text-align: right;\n",
       "    }\n",
       "\n",
       "    .dataframe thead th {\n",
       "        text-align: left;\n",
       "    }\n",
       "\n",
       "    .dataframe tbody tr th {\n",
       "        vertical-align: top;\n",
       "    }\n",
       "</style>\n",
       "<table border=\"1\" class=\"dataframe\">\n",
       "  <thead>\n",
       "    <tr style=\"text-align: right;\">\n",
       "      <th></th>\n",
       "      <th>Time</th>\n",
       "      <th>V1</th>\n",
       "      <th>V2</th>\n",
       "      <th>V3</th>\n",
       "      <th>V4</th>\n",
       "      <th>V5</th>\n",
       "      <th>V6</th>\n",
       "      <th>V7</th>\n",
       "      <th>V8</th>\n",
       "      <th>V9</th>\n",
       "      <th>...</th>\n",
       "      <th>V24</th>\n",
       "      <th>V25</th>\n",
       "      <th>V26</th>\n",
       "      <th>V27</th>\n",
       "      <th>V28</th>\n",
       "      <th>Amount</th>\n",
       "      <th>Class</th>\n",
       "      <th>garbage_cat_col</th>\n",
       "      <th>garbage_cat_col1</th>\n",
       "      <th>garbage_cat_col2</th>\n",
       "    </tr>\n",
       "  </thead>\n",
       "  <tbody>\n",
       "    <tr>\n",
       "      <th>0</th>\n",
       "      <td>0.0</td>\n",
       "      <td>-1.359807</td>\n",
       "      <td>-0.072781</td>\n",
       "      <td>2.536347</td>\n",
       "      <td>1.378155</td>\n",
       "      <td>-0.338321</td>\n",
       "      <td>0.462388</td>\n",
       "      <td>0.239599</td>\n",
       "      <td>0.098698</td>\n",
       "      <td>0.363787</td>\n",
       "      <td>...</td>\n",
       "      <td>0.066928</td>\n",
       "      <td>0.128539</td>\n",
       "      <td>-0.189115</td>\n",
       "      <td>0.133558</td>\n",
       "      <td>-0.021053</td>\n",
       "      <td>149.62</td>\n",
       "      <td>0</td>\n",
       "      <td>dummy1</td>\n",
       "      <td>dummy4</td>\n",
       "      <td>dummy1</td>\n",
       "    </tr>\n",
       "    <tr>\n",
       "      <th>1</th>\n",
       "      <td>0.0</td>\n",
       "      <td>1.191857</td>\n",
       "      <td>0.266151</td>\n",
       "      <td>0.166480</td>\n",
       "      <td>0.448154</td>\n",
       "      <td>0.060018</td>\n",
       "      <td>-0.082361</td>\n",
       "      <td>-0.078803</td>\n",
       "      <td>0.085102</td>\n",
       "      <td>-0.255425</td>\n",
       "      <td>...</td>\n",
       "      <td>-0.339846</td>\n",
       "      <td>0.167170</td>\n",
       "      <td>0.125895</td>\n",
       "      <td>-0.008983</td>\n",
       "      <td>0.014724</td>\n",
       "      <td>2.69</td>\n",
       "      <td>0</td>\n",
       "      <td>dummy4</td>\n",
       "      <td>dummy4</td>\n",
       "      <td>dummy1</td>\n",
       "    </tr>\n",
       "    <tr>\n",
       "      <th>2</th>\n",
       "      <td>1.0</td>\n",
       "      <td>-1.358354</td>\n",
       "      <td>-1.340163</td>\n",
       "      <td>1.773209</td>\n",
       "      <td>0.379780</td>\n",
       "      <td>-0.503198</td>\n",
       "      <td>1.800499</td>\n",
       "      <td>0.791461</td>\n",
       "      <td>0.247676</td>\n",
       "      <td>-1.514654</td>\n",
       "      <td>...</td>\n",
       "      <td>-0.689281</td>\n",
       "      <td>-0.327642</td>\n",
       "      <td>-0.139097</td>\n",
       "      <td>-0.055353</td>\n",
       "      <td>-0.059752</td>\n",
       "      <td>378.66</td>\n",
       "      <td>0</td>\n",
       "      <td>dummy3</td>\n",
       "      <td>dummy3</td>\n",
       "      <td>dummy1</td>\n",
       "    </tr>\n",
       "    <tr>\n",
       "      <th>3</th>\n",
       "      <td>1.0</td>\n",
       "      <td>-0.966272</td>\n",
       "      <td>-0.185226</td>\n",
       "      <td>1.792993</td>\n",
       "      <td>-0.863291</td>\n",
       "      <td>-0.010309</td>\n",
       "      <td>1.247203</td>\n",
       "      <td>0.237609</td>\n",
       "      <td>0.377436</td>\n",
       "      <td>-1.387024</td>\n",
       "      <td>...</td>\n",
       "      <td>-1.175575</td>\n",
       "      <td>0.647376</td>\n",
       "      <td>-0.221929</td>\n",
       "      <td>0.062723</td>\n",
       "      <td>0.061458</td>\n",
       "      <td>123.50</td>\n",
       "      <td>0</td>\n",
       "      <td>dummy1</td>\n",
       "      <td>dummy1</td>\n",
       "      <td>dummy1</td>\n",
       "    </tr>\n",
       "    <tr>\n",
       "      <th>4</th>\n",
       "      <td>2.0</td>\n",
       "      <td>-1.158233</td>\n",
       "      <td>0.877737</td>\n",
       "      <td>1.548718</td>\n",
       "      <td>0.403034</td>\n",
       "      <td>-0.407193</td>\n",
       "      <td>0.095921</td>\n",
       "      <td>0.592941</td>\n",
       "      <td>-0.270533</td>\n",
       "      <td>0.817739</td>\n",
       "      <td>...</td>\n",
       "      <td>0.141267</td>\n",
       "      <td>-0.206010</td>\n",
       "      <td>0.502292</td>\n",
       "      <td>0.219422</td>\n",
       "      <td>0.215153</td>\n",
       "      <td>69.99</td>\n",
       "      <td>0</td>\n",
       "      <td>dummy4</td>\n",
       "      <td>dummy1</td>\n",
       "      <td>dummy1</td>\n",
       "    </tr>\n",
       "  </tbody>\n",
       "</table>\n",
       "<p>5 rows × 34 columns</p>\n",
       "</div>"
      ],
      "text/plain": [
       "   Time        V1        V2        V3        V4        V5        V6        V7  \\\n",
       "0   0.0 -1.359807 -0.072781  2.536347  1.378155 -0.338321  0.462388  0.239599   \n",
       "1   0.0  1.191857  0.266151  0.166480  0.448154  0.060018 -0.082361 -0.078803   \n",
       "2   1.0 -1.358354 -1.340163  1.773209  0.379780 -0.503198  1.800499  0.791461   \n",
       "3   1.0 -0.966272 -0.185226  1.792993 -0.863291 -0.010309  1.247203  0.237609   \n",
       "4   2.0 -1.158233  0.877737  1.548718  0.403034 -0.407193  0.095921  0.592941   \n",
       "\n",
       "         V8        V9        ...              V24       V25       V26  \\\n",
       "0  0.098698  0.363787        ...         0.066928  0.128539 -0.189115   \n",
       "1  0.085102 -0.255425        ...        -0.339846  0.167170  0.125895   \n",
       "2  0.247676 -1.514654        ...        -0.689281 -0.327642 -0.139097   \n",
       "3  0.377436 -1.387024        ...        -1.175575  0.647376 -0.221929   \n",
       "4 -0.270533  0.817739        ...         0.141267 -0.206010  0.502292   \n",
       "\n",
       "        V27       V28  Amount  Class  garbage_cat_col  garbage_cat_col1  \\\n",
       "0  0.133558 -0.021053  149.62      0           dummy1            dummy4   \n",
       "1 -0.008983  0.014724    2.69      0           dummy4            dummy4   \n",
       "2 -0.055353 -0.059752  378.66      0           dummy3            dummy3   \n",
       "3  0.062723  0.061458  123.50      0           dummy1            dummy1   \n",
       "4  0.219422  0.215153   69.99      0           dummy4            dummy1   \n",
       "\n",
       "   garbage_cat_col2  \n",
       "0            dummy1  \n",
       "1            dummy1  \n",
       "2            dummy1  \n",
       "3            dummy1  \n",
       "4            dummy1  \n",
       "\n",
       "[5 rows x 34 columns]"
      ]
     },
     "execution_count": 209,
     "metadata": {},
     "output_type": "execute_result"
    }
   ],
   "source": [
    "# data['garbage_cat_col1'] = cat_column\n",
    "# data['garbage_cat_col2'] = cat_column2\n",
    "# print(data.shape)\n",
    "# data.head()"
   ]
  },
  {
   "cell_type": "code",
   "execution_count": 9,
   "metadata": {
    "collapsed": true
   },
   "outputs": [],
   "source": [
    "from sklearn.preprocessing import StandardScaler\n",
    "data = data.drop(['Time'], axis=1)\n",
    "data['Amount'] = StandardScaler().fit_transform(data['Amount'].values.reshape(-1, 1))"
   ]
  },
  {
   "cell_type": "code",
   "execution_count": 10,
   "metadata": {},
   "outputs": [
    {
     "data": {
      "text/html": [
       "<div>\n",
       "<style>\n",
       "    .dataframe thead tr:only-child th {\n",
       "        text-align: right;\n",
       "    }\n",
       "\n",
       "    .dataframe thead th {\n",
       "        text-align: left;\n",
       "    }\n",
       "\n",
       "    .dataframe tbody tr th {\n",
       "        vertical-align: top;\n",
       "    }\n",
       "</style>\n",
       "<table border=\"1\" class=\"dataframe\">\n",
       "  <thead>\n",
       "    <tr style=\"text-align: right;\">\n",
       "      <th></th>\n",
       "      <th>V1</th>\n",
       "      <th>V2</th>\n",
       "      <th>V3</th>\n",
       "      <th>V4</th>\n",
       "      <th>V5</th>\n",
       "      <th>V6</th>\n",
       "      <th>V7</th>\n",
       "      <th>V8</th>\n",
       "      <th>V9</th>\n",
       "      <th>V10</th>\n",
       "      <th>...</th>\n",
       "      <th>V21</th>\n",
       "      <th>V22</th>\n",
       "      <th>V23</th>\n",
       "      <th>V24</th>\n",
       "      <th>V25</th>\n",
       "      <th>V26</th>\n",
       "      <th>V27</th>\n",
       "      <th>V28</th>\n",
       "      <th>Amount</th>\n",
       "      <th>Class</th>\n",
       "    </tr>\n",
       "  </thead>\n",
       "  <tbody>\n",
       "    <tr>\n",
       "      <th>0</th>\n",
       "      <td>-1.359807</td>\n",
       "      <td>-0.072781</td>\n",
       "      <td>2.536347</td>\n",
       "      <td>1.378155</td>\n",
       "      <td>-0.338321</td>\n",
       "      <td>0.462388</td>\n",
       "      <td>0.239599</td>\n",
       "      <td>0.098698</td>\n",
       "      <td>0.363787</td>\n",
       "      <td>0.090794</td>\n",
       "      <td>...</td>\n",
       "      <td>-0.018307</td>\n",
       "      <td>0.277838</td>\n",
       "      <td>-0.110474</td>\n",
       "      <td>0.066928</td>\n",
       "      <td>0.128539</td>\n",
       "      <td>-0.189115</td>\n",
       "      <td>0.133558</td>\n",
       "      <td>-0.021053</td>\n",
       "      <td>0.244964</td>\n",
       "      <td>0</td>\n",
       "    </tr>\n",
       "    <tr>\n",
       "      <th>1</th>\n",
       "      <td>1.191857</td>\n",
       "      <td>0.266151</td>\n",
       "      <td>0.166480</td>\n",
       "      <td>0.448154</td>\n",
       "      <td>0.060018</td>\n",
       "      <td>-0.082361</td>\n",
       "      <td>-0.078803</td>\n",
       "      <td>0.085102</td>\n",
       "      <td>-0.255425</td>\n",
       "      <td>-0.166974</td>\n",
       "      <td>...</td>\n",
       "      <td>-0.225775</td>\n",
       "      <td>-0.638672</td>\n",
       "      <td>0.101288</td>\n",
       "      <td>-0.339846</td>\n",
       "      <td>0.167170</td>\n",
       "      <td>0.125895</td>\n",
       "      <td>-0.008983</td>\n",
       "      <td>0.014724</td>\n",
       "      <td>-0.342475</td>\n",
       "      <td>0</td>\n",
       "    </tr>\n",
       "    <tr>\n",
       "      <th>2</th>\n",
       "      <td>-1.358354</td>\n",
       "      <td>-1.340163</td>\n",
       "      <td>1.773209</td>\n",
       "      <td>0.379780</td>\n",
       "      <td>-0.503198</td>\n",
       "      <td>1.800499</td>\n",
       "      <td>0.791461</td>\n",
       "      <td>0.247676</td>\n",
       "      <td>-1.514654</td>\n",
       "      <td>0.207643</td>\n",
       "      <td>...</td>\n",
       "      <td>0.247998</td>\n",
       "      <td>0.771679</td>\n",
       "      <td>0.909412</td>\n",
       "      <td>-0.689281</td>\n",
       "      <td>-0.327642</td>\n",
       "      <td>-0.139097</td>\n",
       "      <td>-0.055353</td>\n",
       "      <td>-0.059752</td>\n",
       "      <td>1.160686</td>\n",
       "      <td>0</td>\n",
       "    </tr>\n",
       "    <tr>\n",
       "      <th>3</th>\n",
       "      <td>-0.966272</td>\n",
       "      <td>-0.185226</td>\n",
       "      <td>1.792993</td>\n",
       "      <td>-0.863291</td>\n",
       "      <td>-0.010309</td>\n",
       "      <td>1.247203</td>\n",
       "      <td>0.237609</td>\n",
       "      <td>0.377436</td>\n",
       "      <td>-1.387024</td>\n",
       "      <td>-0.054952</td>\n",
       "      <td>...</td>\n",
       "      <td>-0.108300</td>\n",
       "      <td>0.005274</td>\n",
       "      <td>-0.190321</td>\n",
       "      <td>-1.175575</td>\n",
       "      <td>0.647376</td>\n",
       "      <td>-0.221929</td>\n",
       "      <td>0.062723</td>\n",
       "      <td>0.061458</td>\n",
       "      <td>0.140534</td>\n",
       "      <td>0</td>\n",
       "    </tr>\n",
       "    <tr>\n",
       "      <th>4</th>\n",
       "      <td>-1.158233</td>\n",
       "      <td>0.877737</td>\n",
       "      <td>1.548718</td>\n",
       "      <td>0.403034</td>\n",
       "      <td>-0.407193</td>\n",
       "      <td>0.095921</td>\n",
       "      <td>0.592941</td>\n",
       "      <td>-0.270533</td>\n",
       "      <td>0.817739</td>\n",
       "      <td>0.753074</td>\n",
       "      <td>...</td>\n",
       "      <td>-0.009431</td>\n",
       "      <td>0.798278</td>\n",
       "      <td>-0.137458</td>\n",
       "      <td>0.141267</td>\n",
       "      <td>-0.206010</td>\n",
       "      <td>0.502292</td>\n",
       "      <td>0.219422</td>\n",
       "      <td>0.215153</td>\n",
       "      <td>-0.073403</td>\n",
       "      <td>0</td>\n",
       "    </tr>\n",
       "  </tbody>\n",
       "</table>\n",
       "<p>5 rows × 30 columns</p>\n",
       "</div>"
      ],
      "text/plain": [
       "         V1        V2        V3        V4        V5        V6        V7  \\\n",
       "0 -1.359807 -0.072781  2.536347  1.378155 -0.338321  0.462388  0.239599   \n",
       "1  1.191857  0.266151  0.166480  0.448154  0.060018 -0.082361 -0.078803   \n",
       "2 -1.358354 -1.340163  1.773209  0.379780 -0.503198  1.800499  0.791461   \n",
       "3 -0.966272 -0.185226  1.792993 -0.863291 -0.010309  1.247203  0.237609   \n",
       "4 -1.158233  0.877737  1.548718  0.403034 -0.407193  0.095921  0.592941   \n",
       "\n",
       "         V8        V9       V10  ...         V21       V22       V23  \\\n",
       "0  0.098698  0.363787  0.090794  ...   -0.018307  0.277838 -0.110474   \n",
       "1  0.085102 -0.255425 -0.166974  ...   -0.225775 -0.638672  0.101288   \n",
       "2  0.247676 -1.514654  0.207643  ...    0.247998  0.771679  0.909412   \n",
       "3  0.377436 -1.387024 -0.054952  ...   -0.108300  0.005274 -0.190321   \n",
       "4 -0.270533  0.817739  0.753074  ...   -0.009431  0.798278 -0.137458   \n",
       "\n",
       "        V24       V25       V26       V27       V28    Amount  Class  \n",
       "0  0.066928  0.128539 -0.189115  0.133558 -0.021053  0.244964      0  \n",
       "1 -0.339846  0.167170  0.125895 -0.008983  0.014724 -0.342475      0  \n",
       "2 -0.689281 -0.327642 -0.139097 -0.055353 -0.059752  1.160686      0  \n",
       "3 -1.175575  0.647376 -0.221929  0.062723  0.061458  0.140534      0  \n",
       "4  0.141267 -0.206010  0.502292  0.219422  0.215153 -0.073403      0  \n",
       "\n",
       "[5 rows x 30 columns]"
      ]
     },
     "execution_count": 10,
     "metadata": {},
     "output_type": "execute_result"
    }
   ],
   "source": [
    "data.head()"
   ]
  },
  {
   "cell_type": "code",
   "execution_count": 11,
   "metadata": {},
   "outputs": [
    {
     "name": "stdout",
     "output_type": "stream",
     "text": [
      "(256326, 29) (256326,) (28481, 29) (28481,)\n"
     ]
    }
   ],
   "source": [
    "dataX = data.drop(['Class'], axis=1)\n",
    "dataY = data['Class']\n",
    "trainX, testX, trainY, testY = train_test_split(\n",
    "    dataX, dataY, test_size=0.1, random_state=RANDOM_SEED)\n",
    "print (trainX.shape, trainY.shape, testX.shape, testY.shape)"
   ]
  },
  {
   "cell_type": "code",
   "execution_count": 14,
   "metadata": {},
   "outputs": [
    {
     "name": "stdout",
     "output_type": "stream",
     "text": [
      "(255880,) (446,)\n",
      "(28435,) (46,)\n"
     ]
    }
   ],
   "source": [
    "print (np.where(trainY == 0)[0].shape, np.where(trainY == 1)[0].shape)\n",
    "print (np.where(testY == 0)[0].shape, np.where(testY == 1)[0].shape)"
   ]
  },
  {
   "cell_type": "code",
   "execution_count": 15,
   "metadata": {},
   "outputs": [
    {
     "name": "stdout",
     "output_type": "stream",
     "text": [
      "(230693, 29) (230693,) (25633, 29) (25633,)\n"
     ]
    }
   ],
   "source": [
    "trainX, cvalidX, trainY, cvalidY = train_test_split(\n",
    "    trainX, trainY, test_size=0.1, random_state=873)\n",
    "print (trainX.shape, trainY.shape, cvalidX.shape, cvalidY.shape)"
   ]
  },
  {
   "cell_type": "code",
   "execution_count": 16,
   "metadata": {},
   "outputs": [
    {
     "name": "stdout",
     "output_type": "stream",
     "text": [
      "(230291,) (402,)\n",
      "(25589,) (44,)\n"
     ]
    }
   ],
   "source": [
    "print (np.where(trainY == 0)[0].shape, np.where(trainY == 1)[0].shape)\n",
    "print (np.where(cvalidY == 0)[0].shape, np.where(cvalidY == 1)[0].shape)"
   ]
  },
  {
   "cell_type": "code",
   "execution_count": null,
   "metadata": {
    "collapsed": true
   },
   "outputs": [],
   "source": [
    "print (trainX, trainY)"
   ]
  },
  {
   "cell_type": "code",
   "execution_count": 17,
   "metadata": {
    "collapsed": true
   },
   "outputs": [],
   "source": [
    "from imblearn.over_sampling import SMOTE\n",
    "sm = SMOTE(random_state=12, ratio = 1.0)"
   ]
  },
  {
   "cell_type": "code",
   "execution_count": 20,
   "metadata": {},
   "outputs": [
    {
     "name": "stderr",
     "output_type": "stream",
     "text": [
      "/Users/sam/App-Setup/anaconda/envs/anaconda35/lib/python3.5/site-packages/sklearn/utils/deprecation.py:77: DeprecationWarning: Function _ratio_float is deprecated; Use a float for 'ratio' is deprecated from version 0.2. The support will be removed in 0.4. Use a dict, str, or a callable instead.\n",
      "  warnings.warn(msg, category=DeprecationWarning)\n"
     ]
    }
   ],
   "source": [
    "x_train_res, y_train_res = sm.fit_sample(trainX, trainY)"
   ]
  },
  {
   "cell_type": "code",
   "execution_count": 22,
   "metadata": {
    "collapsed": true
   },
   "outputs": [],
   "source": [
    "from sklearn.ensemble import RandomForestClassifier\n",
    "clf_rf = RandomForestClassifier(n_estimators=25, random_state=12)"
   ]
  },
  {
   "cell_type": "code",
   "execution_count": 23,
   "metadata": {},
   "outputs": [
    {
     "data": {
      "text/plain": [
       "RandomForestClassifier(bootstrap=True, class_weight=None, criterion='gini',\n",
       "            max_depth=None, max_features='auto', max_leaf_nodes=None,\n",
       "            min_impurity_decrease=0.0, min_impurity_split=None,\n",
       "            min_samples_leaf=1, min_samples_split=2,\n",
       "            min_weight_fraction_leaf=0.0, n_estimators=25, n_jobs=1,\n",
       "            oob_score=False, random_state=12, verbose=0, warm_start=False)"
      ]
     },
     "execution_count": 23,
     "metadata": {},
     "output_type": "execute_result"
    }
   ],
   "source": [
    "clf_rf.fit(x_train_res, y_train_res)"
   ]
  },
  {
   "cell_type": "code",
   "execution_count": 25,
   "metadata": {},
   "outputs": [
    {
     "name": "stdout",
     "output_type": "stream",
     "text": [
      "0.999414816838\n"
     ]
    }
   ],
   "source": [
    "print (clf_rf.score(cvalidX, cvalidY))"
   ]
  },
  {
   "cell_type": "code",
   "execution_count": 26,
   "metadata": {},
   "outputs": [
    {
     "name": "stdout",
     "output_type": "stream",
     "text": [
      "0.818181818182\n"
     ]
    }
   ],
   "source": [
    "from sklearn.metrics import recall_score\n",
    "print (recall_score(cvalidY, clf_rf.predict(cvalidX)))"
   ]
  },
  {
   "cell_type": "code",
   "execution_count": 27,
   "metadata": {},
   "outputs": [
    {
     "name": "stdout",
     "output_type": "stream",
     "text": [
      "0.999543555353\n",
      "0.804347826087\n"
     ]
    }
   ],
   "source": [
    "print (clf_rf.score(testX, testY))\n",
    "print (recall_score(testY, clf_rf.predict(testX)))"
   ]
  },
  {
   "cell_type": "code",
   "execution_count": null,
   "metadata": {
    "collapsed": true
   },
   "outputs": [],
   "source": []
  },
  {
   "cell_type": "markdown",
   "metadata": {},
   "source": [
    "## ROUGH"
   ]
  },
  {
   "cell_type": "code",
   "execution_count": 3,
   "metadata": {
    "collapsed": true
   },
   "outputs": [],
   "source": [
    "import numpy as np\n",
    "import pandas as pd\n",
    "from sklearn.model_selection import train_test_split\n",
    "from sklearn.preprocessing import StandardScaler"
   ]
  },
  {
   "cell_type": "code",
   "execution_count": 18,
   "metadata": {},
   "outputs": [
    {
     "name": "stdout",
     "output_type": "stream",
     "text": [
      "trainX.shape=(256326, 29), trainY.shape=(256326,), testX.shape=(28481, 29), testY.shape=(28481,)\n"
     ]
    }
   ],
   "source": [
    "def data_prep():\n",
    "    data_dir = '/Users/sam/All-Program/App-DataSet/z-others/creditcard.csv'\n",
    "    data = pd.read_csv(data_dir)\n",
    "    data = data.drop(['Time'], axis=1)\n",
    "    data['Amount'] = StandardScaler().fit_transform(data['Amount'].values.reshape(-1, 1))\n",
    "    dataX = data.drop(['Class'], axis=1)\n",
    "    dataY = data['Class']\n",
    "\n",
    "    trainX, testX, trainY, testY = train_test_split(\n",
    "            dataX, dataY, test_size=0.1, random_state=873)\n",
    "    print('trainX.shape=%s, trainY.shape=%s, testX.shape=%s, testY.shape=%s' % (str(trainX.shape), str(trainY.shape),\n",
    "                                                                                str(testX.shape), str(testY.shape)))\n",
    "    return trainX, testX, trainY, testY\n",
    "\n",
    "trainX, testX, trainY, testY = data_prep()"
   ]
  },
  {
   "cell_type": "code",
   "execution_count": 19,
   "metadata": {},
   "outputs": [
    {
     "name": "stdout",
     "output_type": "stream",
     "text": [
      "trainX.shape=(230693, 29), trainY.shape=(230693,), testX.shape=(28481, 29), testY.shape=(28481,)\n"
     ]
    }
   ],
   "source": [
    "trainX, cvalidX, trainY, cvalidY = train_test_split(\n",
    "            trainX, trainY, test_size=0.1, random_state=231)\n",
    "print('trainX.shape=%s, trainY.shape=%s, testX.shape=%s, testY.shape=%s' % (str(trainX.shape), str(trainY.shape),\n",
    "                                                                                str(testX.shape), str(testY.shape)))\n",
    "trainX = np.array(trainX, dtype='float32')\n",
    "trainY = np.array(trainY, dtype='int')\n",
    "cvalidX = np.array(cvalidX, dtype='float32')\n",
    "cvalidY = np.array(cvalidY, dtype='int32')"
   ]
  },
  {
   "cell_type": "code",
   "execution_count": null,
   "metadata": {
    "collapsed": true
   },
   "outputs": [],
   "source": [
    "trainX.shape=(230693, 29), trainY.shape=(256326,), testX.shape=(28481, 29), testY.shape=(28481,), cvalidX.shape=(25633, 29), cvalidY.shape=(25633,)"
   ]
  },
  {
   "cell_type": "code",
   "execution_count": 20,
   "metadata": {},
   "outputs": [
    {
     "name": "stdout",
     "output_type": "stream",
     "text": [
      "230292 401\n",
      "[0 1 2 3 4] [ 916 2787 2824 3020 3931]\n"
     ]
    }
   ],
   "source": [
    "class_0_indices = np.where(trainY==0)[0]\n",
    "class_1_indices = np.where(trainY==1)[0]\n",
    "\n",
    "class_0_len = len(class_0_indices)\n",
    "class_1_len = len(class_1_indices)\n",
    "print (class_0_len, class_1_len)\n",
    "print (class_0_indices[0:5], class_1_indices[0:5])"
   ]
  },
  {
   "cell_type": "code",
   "execution_count": 25,
   "metadata": {
    "collapsed": true
   },
   "outputs": [],
   "source": [
    "batch_size = 128\n",
    "smote_batch_size = 50"
   ]
  },
  {
   "cell_type": "code",
   "execution_count": 22,
   "metadata": {},
   "outputs": [
    {
     "name": "stdout",
     "output_type": "stream",
     "text": [
      "Larger Class: Num of batches:  1800\n",
      "Extra Samples class:  108\n",
      "New Upsampled Data Size:  230400\n"
     ]
    }
   ],
   "source": [
    "# For Larger Class\n",
    "class_0_num_batches = int(np.ceil(class_0_len/batch_size))\n",
    "class_0_extra_smaple = np.random.choice(class_0_indices, class_0_num_batches*batch_size - class_0_len, replace=False)\n",
    "class_0_indices = np.append(class_0_indices, class_0_extra_smaple)\n",
    "#######  shuffle the indices here\n",
    "print ('Larger Class: Num of batches: ',class_0_num_batches)\n",
    "print ('Extra Samples class: ', len(class_0_extra_smaple))\n",
    "print ('New Upsampled Data Size: ', len(class_0_indices))"
   ]
  },
  {
   "cell_type": "code",
   "execution_count": 23,
   "metadata": {},
   "outputs": [
    {
     "name": "stdout",
     "output_type": "stream",
     "text": [
      "smote augmentation:  90000\n",
      "140400\n"
     ]
    }
   ],
   "source": [
    "# For smaller Class\n",
    "\n",
    "smote_augmentation_len = smote_batch_size*class_0_num_batches\n",
    "print ('smote augmentation: ', smote_augmentation_len)\n",
    "upsampling_class_1_len = len(class_0_indices)  - smote_augmentation_len\n",
    "print (upsampling_class_1_len)\n",
    "class_1_indices = np.random.choice(class_1_indices, upsampling_class_1_len, replace=True)\n",
    "if (len(class_1_indices) +  smote_augmentation_len) !=  len(class_0_indices):\n",
    "    raise ValueError('Mismatch is data length')"
   ]
  },
  {
   "cell_type": "code",
   "execution_count": 32,
   "metadata": {},
   "outputs": [
    {
     "name": "stdout",
     "output_type": "stream",
     "text": [
      "0 128 0 78\n",
      "(128, 29) (78, 29) (128,) (78,) (206, 29) (206,)\n",
      "(256, 29) (256,)\n",
      "128 128\n",
      "0\n"
     ]
    },
    {
     "name": "stderr",
     "output_type": "stream",
     "text": [
      "/Users/sam/App-Setup/anaconda/envs/anaconda35/lib/python3.5/site-packages/sklearn/utils/deprecation.py:77: DeprecationWarning: Function _ratio_float is deprecated; Use a float for 'ratio' is deprecated from version 0.2. The support will be removed in 0.4. Use a dict, str, or a callable instead.\n",
      "  warnings.warn(msg, category=DeprecationWarning)\n"
     ]
    }
   ],
   "source": [
    "from imblearn.over_sampling import SMOTE\n",
    "sm = SMOTE(random_state=12, ratio = 1.0)\n",
    "\n",
    "for batch_num in range(0,class_0_num_batches):\n",
    "    class_0_from = batch_num*batch_size\n",
    "    class_0_to = (batch_num*batch_size)+batch_size\n",
    "    class_1_from = batch_num*(batch_size-smote_batch_size)\n",
    "    class_1_to = (batch_num*(batch_size-smote_batch_size))+(batch_size-smote_batch_size)\n",
    "    print (class_0_from, class_0_to, class_1_from, class_1_to)\n",
    "    \n",
    "    batch_0_X = trainX[class_0_indices[class_0_from:class_0_to]]\n",
    "    batch_0_Y = trainY[class_0_indices[class_0_from:class_0_to]]\n",
    "    \n",
    "    batch_1_X = trainX[class_1_indices[class_1_from:class_1_to]]\n",
    "    batch_1_Y = trainY[class_1_indices[class_1_from:class_1_to]]\n",
    "    \n",
    "    batchX = np.vstack((batch_0_X, batch_1_X))\n",
    "    batchY = np.append(batch_0_Y, batch_1_Y)\n",
    "#     print (batch_0_X.shape, batch_1_X.shape, batch_0_Y.shape, batch_1_Y.shape, batchX.shape, batchY.shape)\n",
    "    batchX, batchY = sm.fit_sample(batchX, batchY)\n",
    "#     print (batchX_.shape, batchY_.shape)\n",
    "#     print (len(np.where(batchY_ == 0)[0]), len(np.where(batchY_ == 1)[0]))\n",
    "#     if batch_num ==20:\n",
    "    return batchX, batchY\n",
    "print (batch_num)"
   ]
  },
  {
   "cell_type": "code",
   "execution_count": null,
   "metadata": {
    "collapsed": true
   },
   "outputs": [],
   "source": []
  },
  {
   "cell_type": "code",
   "execution_count": null,
   "metadata": {
    "collapsed": true
   },
   "outputs": [],
   "source": []
  },
  {
   "cell_type": "code",
   "execution_count": null,
   "metadata": {
    "collapsed": true
   },
   "outputs": [],
   "source": []
  },
  {
   "cell_type": "code",
   "execution_count": null,
   "metadata": {
    "collapsed": true
   },
   "outputs": [],
   "source": []
  },
  {
   "cell_type": "code",
   "execution_count": null,
   "metadata": {
    "collapsed": true
   },
   "outputs": [],
   "source": []
  },
  {
   "cell_type": "code",
   "execution_count": null,
   "metadata": {
    "collapsed": true
   },
   "outputs": [],
   "source": []
  },
  {
   "cell_type": "markdown",
   "metadata": {},
   "source": [
    "## ROUGH 2:"
   ]
  },
  {
   "cell_type": "code",
   "execution_count": 53,
   "metadata": {},
   "outputs": [
    {
     "data": {
      "text/plain": [
       "numpy.ndarray"
      ]
     },
     "execution_count": 53,
     "metadata": {},
     "output_type": "execute_result"
    }
   ],
   "source": [
    "# Since the class is unbalanced, the number of batches would differ by a lot for each class.\n",
    "# Here we loop for the max number of batches and reset the \n",
    "\n",
    "# smote_size = 40\n",
    "\n",
    "\n",
    "\n",
    "\n",
    "from_idx = 0\n",
    "to_idx = batch_size\n",
    "for batch_num in class_1_num_batches:\n",
    "    batchY = trainY[from_idx:to_idx]\n",
    "    if batch_num == class_0_num_batches-1:\n",
    "        np.random.shuffle(indices)\n",
    "    yield , labels[indices]\n"
   ]
  },
  {
   "cell_type": "code",
   "execution_count": 44,
   "metadata": {},
   "outputs": [
    {
     "data": {
      "text/plain": [
       "110"
      ]
     },
     "execution_count": 44,
     "metadata": {},
     "output_type": "execute_result"
    }
   ],
   "source": [
    "class_1_num_batches*batch_size - class_1_len"
   ]
  },
  {
   "cell_type": "code",
   "execution_count": 42,
   "metadata": {},
   "outputs": [
    {
     "data": {
      "text/plain": [
       "109"
      ]
     },
     "execution_count": 42,
     "metadata": {},
     "output_type": "execute_result"
    }
   ],
   "source": [
    "class_0_num_batches*batch_size - class_0_len"
   ]
  },
  {
   "cell_type": "code",
   "execution_count": 41,
   "metadata": {},
   "outputs": [
    {
     "data": {
      "text/plain": [
       "230400"
      ]
     },
     "execution_count": 41,
     "metadata": {},
     "output_type": "execute_result"
    }
   ],
   "source": [
    "class_0_num_batches*batch_size"
   ]
  },
  {
   "cell_type": "code",
   "execution_count": 33,
   "metadata": {},
   "outputs": [
    {
     "data": {
      "text/plain": [
       "230272"
      ]
     },
     "execution_count": 33,
     "metadata": {},
     "output_type": "execute_result"
    }
   ],
   "source": [
    "1799*128"
   ]
  },
  {
   "cell_type": "code",
   "execution_count": 40,
   "metadata": {},
   "outputs": [
    {
     "data": {
      "text/plain": [
       "3.140625"
      ]
     },
     "execution_count": 40,
     "metadata": {},
     "output_type": "execute_result"
    }
   ],
   "source": [
    "class_1_len/batch_size"
   ]
  },
  {
   "cell_type": "code",
   "execution_count": 36,
   "metadata": {},
   "outputs": [
    {
     "data": {
      "text/plain": [
       "1799.1484375"
      ]
     },
     "execution_count": 36,
     "metadata": {},
     "output_type": "execute_result"
    }
   ],
   "source": [
    "len(np.where(trainY==0)[0])/128"
   ]
  },
  {
   "cell_type": "code",
   "execution_count": 12,
   "metadata": {},
   "outputs": [
    {
     "data": {
      "text/plain": [
       "(227451, 29)"
      ]
     },
     "execution_count": 12,
     "metadata": {},
     "output_type": "execute_result"
    }
   ],
   "source": [
    "X_train = X_train[X_train.Class == 0]\n",
    "X_train = X_train.drop(['Class'], axis=1)\n",
    "y_test = X_test['Class']\n",
    "X_test = X_test.drop(['Class'], axis=1)\n",
    "X_train = X_train.values\n",
    "X_test = X_test.values\n",
    "X_train.shape"
   ]
  },
  {
   "cell_type": "code",
   "execution_count": null,
   "metadata": {
    "collapsed": true
   },
   "outputs": [],
   "source": [
    "X_train"
   ]
  },
  {
   "cell_type": "code",
   "execution_count": 13,
   "metadata": {},
   "outputs": [
    {
     "name": "stdout",
     "output_type": "stream",
     "text": [
      "(227451, 29) (56962, 29)\n"
     ]
    }
   ],
   "source": [
    "print (X_train.shape, X_test.shape)"
   ]
  },
  {
   "cell_type": "code",
   "execution_count": 18,
   "metadata": {},
   "outputs": [
    {
     "data": {
      "text/plain": [
       "56864"
      ]
     },
     "execution_count": 18,
     "metadata": {},
     "output_type": "execute_result"
    }
   ],
   "source": [
    "len(np.where(np.array(y_test) == 0)[0])"
   ]
  },
  {
   "cell_type": "code",
   "execution_count": 19,
   "metadata": {},
   "outputs": [
    {
     "data": {
      "text/plain": [
       "98"
      ]
     },
     "execution_count": 19,
     "metadata": {},
     "output_type": "execute_result"
    }
   ],
   "source": [
    "len(np.where(np.array(y_test) == 1)[0])"
   ]
  },
  {
   "cell_type": "markdown",
   "metadata": {},
   "source": [
    "## Auto Encoder"
   ]
  },
  {
   "cell_type": "code",
   "execution_count": 25,
   "metadata": {},
   "outputs": [
    {
     "name": "stdout",
     "output_type": "stream",
     "text": [
      "(?, 29)\n",
      "(?, 14)\n",
      "(?, 7)\n",
      "(?, 7)\n",
      "(?, 7)\n",
      "<keras.engine.training.Model object at 0x116a55c88>\n"
     ]
    }
   ],
   "source": [
    "input_dim = X_train.shape[1]\n",
    "encoding_dim = 14\n",
    "\n",
    "input_layer = Input(shape=(input_dim, ))   # (m x 29) m batch_size and 29 features\n",
    "print (input_layer.shape)\n",
    "encoder = Dense(encoding_dim, activation=\"tanh\", \n",
    "                activity_regularizer=regularizers.l1(10e-5))(input_layer)\n",
    "print (encoder.shape)\n",
    "encoder = Dense(int(encoding_dim / 2), activation=\"relu\")(encoder)\n",
    "print (encoder.shape)\n",
    "decoder = Dense(int(encoding_dim / 2), activation='tanh')(encoder)\n",
    "print (encoder.shape)\n",
    "decoder = Dense(input_dim, activation='relu')(decoder)\n",
    "print (encoder.shape)\n",
    "autoencoder = Model(inputs=input_layer, outputs=decoder)\n",
    "print (autoencoder)"
   ]
  },
  {
   "cell_type": "code",
   "execution_count": 28,
   "metadata": {
    "collapsed": true
   },
   "outputs": [],
   "source": [
    "nb_epoch = 100\n",
    "batch_size = 32\n",
    "autoencoder.compile(optimizer='adam', \n",
    "                    loss='mean_squared_error', \n",
    "                    metrics=['accuracy'])"
   ]
  },
  {
   "cell_type": "code",
   "execution_count": 29,
   "metadata": {
    "collapsed": true
   },
   "outputs": [],
   "source": [
    "filepath = '/Users/sam/All-Program/App-DataSet/caseStudiesPrep/'\n",
    "checkpointer = ModelCheckpoint(filepath=filepath+\"/model.h5\",\n",
    "                               verbose=0,\n",
    "                               save_best_only=True)"
   ]
  },
  {
   "cell_type": "code",
   "execution_count": 30,
   "metadata": {
    "collapsed": true
   },
   "outputs": [],
   "source": [
    "tensorboard = TensorBoard(log_dir=filepath+'/logs',\n",
    "                          histogram_freq=0,\n",
    "                          write_graph=True,\n",
    "                          write_images=True)"
   ]
  },
  {
   "cell_type": "code",
   "execution_count": 31,
   "metadata": {},
   "outputs": [
    {
     "name": "stdout",
     "output_type": "stream",
     "text": [
      "Train on 227451 samples, validate on 56962 samples\n",
      "Epoch 1/100\n",
      "227451/227451 [==============================] - 12s 54us/step - loss: 0.8184 - acc: 0.6041 - val_loss: 0.7919 - val_acc: 0.6667\n",
      "Epoch 2/100\n",
      "227451/227451 [==============================] - 12s 54us/step - loss: 0.7524 - acc: 0.6788 - val_loss: 0.7740 - val_acc: 0.6920\n",
      "Epoch 3/100\n",
      "227451/227451 [==============================] - 12s 53us/step - loss: 0.7397 - acc: 0.6905 - val_loss: 0.7696 - val_acc: 0.6893\n",
      "Epoch 4/100\n",
      "227451/227451 [==============================] - 12s 54us/step - loss: 0.7356 - acc: 0.6903 - val_loss: 0.7699 - val_acc: 0.6868\n",
      "Epoch 5/100\n",
      "227451/227451 [==============================] - 12s 54us/step - loss: 0.7331 - acc: 0.6907 - val_loss: 0.7682 - val_acc: 0.6874\n",
      "Epoch 6/100\n",
      "227451/227451 [==============================] - 12s 54us/step - loss: 0.7316 - acc: 0.6905 - val_loss: 0.7644 - val_acc: 0.6848\n",
      "Epoch 7/100\n",
      "227451/227451 [==============================] - 12s 54us/step - loss: 0.7310 - acc: 0.6909 - val_loss: 0.7662 - val_acc: 0.6910\n",
      "Epoch 8/100\n",
      "227451/227451 [==============================] - 12s 53us/step - loss: 0.7300 - acc: 0.6911 - val_loss: 0.7637 - val_acc: 0.6965\n",
      "Epoch 9/100\n",
      "227451/227451 [==============================] - 12s 54us/step - loss: 0.7298 - acc: 0.6914 - val_loss: 0.7658 - val_acc: 0.6915\n",
      "Epoch 10/100\n",
      "227451/227451 [==============================] - 12s 54us/step - loss: 0.7296 - acc: 0.6909 - val_loss: 0.7628 - val_acc: 0.6968\n",
      "Epoch 11/100\n",
      "227451/227451 [==============================] - 12s 54us/step - loss: 0.7287 - acc: 0.6910 - val_loss: 0.7640 - val_acc: 0.6908\n",
      "Epoch 12/100\n",
      "227451/227451 [==============================] - 12s 53us/step - loss: 0.7283 - acc: 0.6911 - val_loss: 0.7621 - val_acc: 0.6932\n",
      "Epoch 13/100\n",
      "227451/227451 [==============================] - 12s 51us/step - loss: 0.7279 - acc: 0.6907 - val_loss: 0.7606 - val_acc: 0.6890\n",
      "Epoch 14/100\n",
      "227451/227451 [==============================] - 11s 50us/step - loss: 0.7276 - acc: 0.6910 - val_loss: 0.7619 - val_acc: 0.6933\n",
      "Epoch 15/100\n",
      "227451/227451 [==============================] - 11s 50us/step - loss: 0.7271 - acc: 0.6929 - val_loss: 0.7625 - val_acc: 0.6915\n",
      "Epoch 16/100\n",
      "227451/227451 [==============================] - 11s 48us/step - loss: 0.7273 - acc: 0.6936 - val_loss: 0.7595 - val_acc: 0.6953\n",
      "Epoch 17/100\n",
      "227451/227451 [==============================] - 11s 48us/step - loss: 0.7261 - acc: 0.6951 - val_loss: 0.7582 - val_acc: 0.6954\n",
      "Epoch 18/100\n",
      "227451/227451 [==============================] - 11s 49us/step - loss: 0.7264 - acc: 0.6942 - val_loss: 0.7582 - val_acc: 0.6916\n",
      "Epoch 19/100\n",
      "227451/227451 [==============================] - 11s 50us/step - loss: 0.7257 - acc: 0.6941 - val_loss: 0.7583 - val_acc: 0.6940\n",
      "Epoch 20/100\n",
      "227451/227451 [==============================] - 11s 48us/step - loss: 0.7254 - acc: 0.6948 - val_loss: 0.7656 - val_acc: 0.6839\n",
      "Epoch 21/100\n",
      "227451/227451 [==============================] - 11s 50us/step - loss: 0.7253 - acc: 0.6944 - val_loss: 0.7593 - val_acc: 0.6921\n",
      "Epoch 22/100\n",
      "227451/227451 [==============================] - 11s 48us/step - loss: 0.7255 - acc: 0.6942 - val_loss: 0.7686 - val_acc: 0.6851\n",
      "Epoch 23/100\n",
      "227451/227451 [==============================] - 11s 49us/step - loss: 0.7256 - acc: 0.6947 - val_loss: 0.7581 - val_acc: 0.6963\n",
      "Epoch 24/100\n",
      "227451/227451 [==============================] - 11s 49us/step - loss: 0.7253 - acc: 0.6946 - val_loss: 0.7594 - val_acc: 0.6974\n",
      "Epoch 25/100\n",
      "227451/227451 [==============================] - 11s 48us/step - loss: 0.7254 - acc: 0.6955 - val_loss: 0.7591 - val_acc: 0.6968\n",
      "Epoch 26/100\n",
      "227451/227451 [==============================] - 11s 49us/step - loss: 0.7250 - acc: 0.6948 - val_loss: 0.7596 - val_acc: 0.6964\n",
      "Epoch 27/100\n",
      "227451/227451 [==============================] - 11s 48us/step - loss: 0.7247 - acc: 0.6946 - val_loss: 0.7604 - val_acc: 0.6950\n",
      "Epoch 28/100\n",
      "227451/227451 [==============================] - 11s 49us/step - loss: 0.7250 - acc: 0.6944 - val_loss: 0.7579 - val_acc: 0.6955\n",
      "Epoch 29/100\n",
      "227451/227451 [==============================] - 11s 50us/step - loss: 0.7247 - acc: 0.6944 - val_loss: 0.7591 - val_acc: 0.6954\n",
      "Epoch 30/100\n",
      "227451/227451 [==============================] - 12s 52us/step - loss: 0.7242 - acc: 0.6938 - val_loss: 0.7674 - val_acc: 0.6630\n",
      "Epoch 31/100\n",
      "227451/227451 [==============================] - 12s 51us/step - loss: 0.7248 - acc: 0.6936 - val_loss: 0.7590 - val_acc: 0.6944\n",
      "Epoch 32/100\n",
      "227451/227451 [==============================] - 11s 49us/step - loss: 0.7243 - acc: 0.6942 - val_loss: 0.7589 - val_acc: 0.6960\n",
      "Epoch 33/100\n",
      "227451/227451 [==============================] - 11s 49us/step - loss: 0.7244 - acc: 0.6949 - val_loss: 0.7579 - val_acc: 0.6964\n",
      "Epoch 34/100\n",
      "227451/227451 [==============================] - 12s 52us/step - loss: 0.7242 - acc: 0.6943 - val_loss: 0.7585 - val_acc: 0.6926\n",
      "Epoch 35/100\n",
      "227451/227451 [==============================] - 12s 51us/step - loss: 0.7240 - acc: 0.6948 - val_loss: 0.7579 - val_acc: 0.6935\n",
      "Epoch 36/100\n",
      "227451/227451 [==============================] - 11s 50us/step - loss: 0.7240 - acc: 0.6947 - val_loss: 0.7585 - val_acc: 0.6907\n",
      "Epoch 37/100\n",
      "227451/227451 [==============================] - 11s 50us/step - loss: 0.7243 - acc: 0.6944 - val_loss: 0.7591 - val_acc: 0.6984\n",
      "Epoch 38/100\n",
      "227451/227451 [==============================] - 12s 52us/step - loss: 0.7240 - acc: 0.6944 - val_loss: 0.7609 - val_acc: 0.6938\n",
      "Epoch 39/100\n",
      "227451/227451 [==============================] - 11s 48us/step - loss: 0.7243 - acc: 0.6952 - val_loss: 0.7626 - val_acc: 0.6846\n",
      "Epoch 40/100\n",
      "227451/227451 [==============================] - 11s 50us/step - loss: 0.7238 - acc: 0.6952 - val_loss: 0.7601 - val_acc: 0.6942\n",
      "Epoch 41/100\n",
      "227451/227451 [==============================] - 12s 51us/step - loss: 0.7238 - acc: 0.6952 - val_loss: 0.7569 - val_acc: 0.6973\n",
      "Epoch 42/100\n",
      "227451/227451 [==============================] - 11s 48us/step - loss: 0.7237 - acc: 0.6941 - val_loss: 0.7611 - val_acc: 0.6851\n",
      "Epoch 43/100\n",
      "227451/227451 [==============================] - 12s 54us/step - loss: 0.7237 - acc: 0.6947 - val_loss: 0.7569 - val_acc: 0.6975\n",
      "Epoch 44/100\n",
      "227451/227451 [==============================] - 12s 55us/step - loss: 0.7230 - acc: 0.6946 - val_loss: 0.7580 - val_acc: 0.6954\n",
      "Epoch 45/100\n",
      "227451/227451 [==============================] - 11s 48us/step - loss: 0.7236 - acc: 0.6949 - val_loss: 0.7588 - val_acc: 0.6989\n",
      "Epoch 46/100\n",
      "227451/227451 [==============================] - 11s 48us/step - loss: 0.7232 - acc: 0.6943 - val_loss: 0.7580 - val_acc: 0.6986\n",
      "Epoch 47/100\n",
      "227451/227451 [==============================] - 11s 49us/step - loss: 0.7235 - acc: 0.6933 - val_loss: 0.7573 - val_acc: 0.7038\n",
      "Epoch 48/100\n",
      "227451/227451 [==============================] - 11s 48us/step - loss: 0.7240 - acc: 0.6932 - val_loss: 0.7578 - val_acc: 0.6926\n",
      "Epoch 49/100\n",
      "227451/227451 [==============================] - 11s 49us/step - loss: 0.7227 - acc: 0.6947 - val_loss: 0.7579 - val_acc: 0.6973\n",
      "Epoch 50/100\n",
      "227451/227451 [==============================] - 11s 49us/step - loss: 0.7236 - acc: 0.6941 - val_loss: 0.7580 - val_acc: 0.6937\n",
      "Epoch 51/100\n",
      "227451/227451 [==============================] - 11s 48us/step - loss: 0.7229 - acc: 0.6934 - val_loss: 0.7704 - val_acc: 0.6613\n",
      "Epoch 52/100\n",
      "227451/227451 [==============================] - 11s 48us/step - loss: 0.7236 - acc: 0.6944 - val_loss: 0.7589 - val_acc: 0.6872\n",
      "Epoch 53/100\n",
      "227451/227451 [==============================] - 11s 48us/step - loss: 0.7236 - acc: 0.6944 - val_loss: 0.7582 - val_acc: 0.7014\n",
      "Epoch 54/100\n",
      "227451/227451 [==============================] - 11s 48us/step - loss: 0.7229 - acc: 0.6945 - val_loss: 0.7585 - val_acc: 0.6975\n",
      "Epoch 55/100\n",
      "227451/227451 [==============================] - 11s 48us/step - loss: 0.7231 - acc: 0.6941 - val_loss: 0.7579 - val_acc: 0.6974\n",
      "Epoch 56/100\n",
      "227451/227451 [==============================] - 11s 48us/step - loss: 0.7229 - acc: 0.6938 - val_loss: 0.7583 - val_acc: 0.6934\n",
      "Epoch 57/100\n",
      "227451/227451 [==============================] - 11s 48us/step - loss: 0.7232 - acc: 0.6947 - val_loss: 0.7588 - val_acc: 0.6975\n",
      "Epoch 58/100\n",
      "227451/227451 [==============================] - 11s 48us/step - loss: 0.7234 - acc: 0.6942 - val_loss: 0.7587 - val_acc: 0.6955\n",
      "Epoch 59/100\n",
      "227451/227451 [==============================] - 11s 48us/step - loss: 0.7230 - acc: 0.6954 - val_loss: 0.7570 - val_acc: 0.6938\n",
      "Epoch 60/100\n",
      "227451/227451 [==============================] - 11s 49us/step - loss: 0.7231 - acc: 0.6950 - val_loss: 0.7567 - val_acc: 0.6955\n",
      "Epoch 61/100\n",
      "227451/227451 [==============================] - 11s 48us/step - loss: 0.7230 - acc: 0.6940 - val_loss: 0.7605 - val_acc: 0.6889\n",
      "Epoch 62/100\n",
      "227451/227451 [==============================] - 11s 48us/step - loss: 0.7236 - acc: 0.6943 - val_loss: 0.7570 - val_acc: 0.6990\n",
      "Epoch 63/100\n",
      "227451/227451 [==============================] - 11s 48us/step - loss: 0.7233 - acc: 0.6949 - val_loss: 0.7581 - val_acc: 0.6959\n",
      "Epoch 64/100\n",
      "227451/227451 [==============================] - 11s 47us/step - loss: 0.7231 - acc: 0.6949 - val_loss: 0.7640 - val_acc: 0.6895\n",
      "Epoch 65/100\n",
      "227451/227451 [==============================] - 11s 48us/step - loss: 0.7231 - acc: 0.6943 - val_loss: 0.7562 - val_acc: 0.7002\n",
      "Epoch 66/100\n",
      "227451/227451 [==============================] - 11s 48us/step - loss: 0.7227 - acc: 0.6954 - val_loss: 0.7597 - val_acc: 0.6961\n",
      "Epoch 67/100\n",
      "227451/227451 [==============================] - 11s 48us/step - loss: 0.7230 - acc: 0.6948 - val_loss: 0.7618 - val_acc: 0.6878\n",
      "Epoch 68/100\n",
      "227451/227451 [==============================] - 11s 48us/step - loss: 0.7235 - acc: 0.6940 - val_loss: 0.7583 - val_acc: 0.6925\n",
      "Epoch 69/100\n",
      "227451/227451 [==============================] - 11s 48us/step - loss: 0.7230 - acc: 0.6944 - val_loss: 0.7584 - val_acc: 0.6954\n",
      "Epoch 70/100\n",
      "227451/227451 [==============================] - 11s 48us/step - loss: 0.7232 - acc: 0.6947 - val_loss: 0.7608 - val_acc: 0.6857\n",
      "Epoch 71/100\n",
      "227451/227451 [==============================] - 11s 48us/step - loss: 0.7228 - acc: 0.6948 - val_loss: 0.7574 - val_acc: 0.6990\n",
      "Epoch 72/100\n",
      "227451/227451 [==============================] - 11s 48us/step - loss: 0.7228 - acc: 0.6950 - val_loss: 0.7645 - val_acc: 0.6726\n",
      "Epoch 73/100\n",
      "227451/227451 [==============================] - 11s 48us/step - loss: 0.7225 - acc: 0.6946 - val_loss: 0.7604 - val_acc: 0.6889\n",
      "Epoch 74/100\n",
      "227451/227451 [==============================] - 11s 48us/step - loss: 0.7227 - acc: 0.6943 - val_loss: 0.7573 - val_acc: 0.7003\n",
      "Epoch 75/100\n",
      "227451/227451 [==============================] - 11s 48us/step - loss: 0.7230 - acc: 0.6937 - val_loss: 0.7591 - val_acc: 0.6933\n",
      "Epoch 76/100\n",
      "227451/227451 [==============================] - 11s 48us/step - loss: 0.7247 - acc: 0.6941 - val_loss: 0.7778 - val_acc: 0.6683\n",
      "Epoch 77/100\n",
      "227451/227451 [==============================] - 11s 48us/step - loss: 0.7228 - acc: 0.6955 - val_loss: 0.7644 - val_acc: 0.6825\n",
      "Epoch 78/100\n",
      "227451/227451 [==============================] - 11s 48us/step - loss: 0.7234 - acc: 0.6932 - val_loss: 0.7591 - val_acc: 0.6912\n",
      "Epoch 79/100\n",
      "227451/227451 [==============================] - 11s 48us/step - loss: 0.7228 - acc: 0.6942 - val_loss: 0.7575 - val_acc: 0.6987\n",
      "Epoch 80/100\n",
      "227451/227451 [==============================] - 11s 48us/step - loss: 0.7228 - acc: 0.6948 - val_loss: 0.7569 - val_acc: 0.6979\n",
      "Epoch 81/100\n",
      "227451/227451 [==============================] - 11s 48us/step - loss: 0.7226 - acc: 0.6940 - val_loss: 0.8053 - val_acc: 0.6353\n",
      "Epoch 82/100\n",
      "227451/227451 [==============================] - 11s 48us/step - loss: 0.7236 - acc: 0.6939 - val_loss: 0.7614 - val_acc: 0.6927\n",
      "Epoch 83/100\n",
      "227451/227451 [==============================] - 11s 47us/step - loss: 0.7235 - acc: 0.6941 - val_loss: 0.7580 - val_acc: 0.7003\n",
      "Epoch 84/100\n",
      "227451/227451 [==============================] - 11s 48us/step - loss: 0.7224 - acc: 0.6942 - val_loss: 0.7573 - val_acc: 0.6946\n",
      "Epoch 85/100\n",
      "227451/227451 [==============================] - 11s 48us/step - loss: 0.7233 - acc: 0.6948 - val_loss: 0.7619 - val_acc: 0.6917\n",
      "Epoch 86/100\n",
      "227451/227451 [==============================] - 11s 48us/step - loss: 0.7232 - acc: 0.6946 - val_loss: 0.7573 - val_acc: 0.6989\n",
      "Epoch 87/100\n",
      "227451/227451 [==============================] - 11s 48us/step - loss: 0.7228 - acc: 0.6943 - val_loss: 0.7588 - val_acc: 0.6911\n",
      "Epoch 88/100\n",
      "227451/227451 [==============================] - 11s 48us/step - loss: 0.7224 - acc: 0.6940 - val_loss: 0.7581 - val_acc: 0.6907\n",
      "Epoch 89/100\n",
      "227451/227451 [==============================] - 11s 48us/step - loss: 0.7226 - acc: 0.6942 - val_loss: 0.7718 - val_acc: 0.6841\n",
      "Epoch 90/100\n",
      "227451/227451 [==============================] - 11s 48us/step - loss: 0.7233 - acc: 0.6941 - val_loss: 0.7569 - val_acc: 0.6980\n",
      "Epoch 91/100\n",
      "227451/227451 [==============================] - 11s 48us/step - loss: 0.7226 - acc: 0.6943 - val_loss: 0.7573 - val_acc: 0.6984\n",
      "Epoch 92/100\n",
      "227451/227451 [==============================] - 11s 47us/step - loss: 0.7229 - acc: 0.6936 - val_loss: 0.7573 - val_acc: 0.6902\n",
      "Epoch 93/100\n",
      "227451/227451 [==============================] - 11s 48us/step - loss: 0.7237 - acc: 0.6941 - val_loss: 0.7585 - val_acc: 0.6964\n",
      "Epoch 94/100\n",
      "227451/227451 [==============================] - 11s 48us/step - loss: 0.7226 - acc: 0.6944 - val_loss: 0.7599 - val_acc: 0.6941\n",
      "Epoch 95/100\n",
      "227451/227451 [==============================] - 11s 47us/step - loss: 0.7232 - acc: 0.6940 - val_loss: 0.7605 - val_acc: 0.6907\n",
      "Epoch 96/100\n",
      "227451/227451 [==============================] - 11s 48us/step - loss: 0.7224 - acc: 0.6950 - val_loss: 0.7564 - val_acc: 0.6953\n",
      "Epoch 97/100\n",
      "227451/227451 [==============================] - 11s 48us/step - loss: 0.7224 - acc: 0.6948 - val_loss: 0.7637 - val_acc: 0.6917\n",
      "Epoch 98/100\n",
      "227451/227451 [==============================] - 11s 48us/step - loss: 0.7227 - acc: 0.6936 - val_loss: 0.7566 - val_acc: 0.6981\n",
      "Epoch 99/100\n",
      "227451/227451 [==============================] - 11s 48us/step - loss: 0.7228 - acc: 0.6931 - val_loss: 0.7584 - val_acc: 0.6970\n",
      "Epoch 100/100\n",
      "227451/227451 [==============================] - 11s 48us/step - loss: 0.7224 - acc: 0.6935 - val_loss: 0.7580 - val_acc: 0.6900\n"
     ]
    }
   ],
   "source": [
    "history = autoencoder.fit(X_train, X_train,\n",
    "                    epochs=nb_epoch,\n",
    "                    batch_size=batch_size,\n",
    "                    shuffle=True,\n",
    "                    validation_data=(X_test, X_test),\n",
    "                    verbose=1,\n",
    "                    callbacks=[checkpointer, tensorboard]).history"
   ]
  },
  {
   "cell_type": "code",
   "execution_count": null,
   "metadata": {
    "collapsed": true
   },
   "outputs": [],
   "source": []
  },
  {
   "cell_type": "code",
   "execution_count": null,
   "metadata": {
    "collapsed": true
   },
   "outputs": [],
   "source": []
  },
  {
   "cell_type": "code",
   "execution_count": null,
   "metadata": {
    "collapsed": true
   },
   "outputs": [],
   "source": []
  },
  {
   "cell_type": "code",
   "execution_count": null,
   "metadata": {
    "collapsed": true
   },
   "outputs": [],
   "source": []
  },
  {
   "cell_type": "code",
   "execution_count": 68,
   "metadata": {
    "collapsed": true
   },
   "outputs": [],
   "source": [
    "class Plot():\n",
    "    def __init__(self, rows=2,columns=5,fig_size=[20,20]):\n",
    "        fig_size = tuple(fig_size)\n",
    "        f, axs = plt.subplots(rows,columns, figsize=fig_size)\n",
    "        self.axs_ind = 0\n",
    "        \n",
    "        if rows == 1 and columns==1:\n",
    "            self.axs = [axs]\n",
    "        else:\n",
    "            self.axs = axs.ravel()\n",
    "        \n",
    "    def vizualize(self, data, colX, colY=None, label_col=None, viz_type='bar', params={}):\n",
    "        '''\n",
    "            params : title, \n",
    "        '''\n",
    "        if viz_type == 'hist':\n",
    "            data = data.reset_index().drop('index', 1)\n",
    "            sns.distplot(data, ax = self.axs[self.axs_ind])\n",
    "            if 'title' in params:\n",
    "                self.axs[self.axs_ind].set_title(params['title'])\n",
    "            \n",
    "        if viz_type == 'scatter':\n",
    "            data.plot.scatter(x=colX, y=colY, c=label_col, colormap='Dark2', ax=self.axs[self.axs_ind])\n",
    "            \n",
    "        if viz_type == 'bar':\n",
    "            data_grpd = data.groupby(colX).size().rename('count').reset_index()  \n",
    "            percentage = np.array(data_grpd['count'])/sum(np.array(data_grpd['count']))\n",
    "            ax = self.axs[self.axs_ind]\n",
    "            tot_cnt = float(len(data_grpd))\n",
    "            sns.barplot(x=colX, y=\"count\", data=data_grpd, ax = ax)\n",
    "            \n",
    "            if 'title' in params:\n",
    "                ax.set_title(params['title'])\n",
    "                \n",
    "            for e, p in enumerate(ax.patches):\n",
    "                height = p.get_height()\n",
    "                ax.text(p.get_x()+p.get_width()/2.,\n",
    "                        height + 3,\n",
    "                        '%s %s'%(str(round(percentage[e]*100,3)), str('%')),\n",
    "                        ha=\"center\") \n",
    "        \n",
    "        if viz_type == 'countplot':\n",
    "            ''' Prefer when labels are not highly imbalance, The plot would render nicely'''\n",
    "            ax = self.axs[self.axs_ind]\n",
    "            tot_cnt = float(len(data))\n",
    "            sns.countplot(x=colX, hue=label_col, data=data, ax = ax)\n",
    "            for p in ax.patches:\n",
    "                height = p.get_height()\n",
    "                ax.text(p.get_x()+p.get_width()/2.,\n",
    "                        height + 5,\n",
    "                        '%s %s'%(str(round((height/tot_cnt)*100,3)), str('%')),\n",
    "                        ha=\"center\") \n",
    "\n",
    "        self.axs_ind += 1"
   ]
  },
  {
   "cell_type": "code",
   "execution_count": 64,
   "metadata": {},
   "outputs": [
    {
     "data": {
      "image/png": "[encoded data removed]",
      "text/plain": [
       "<matplotlib.figure.Figure at 0x1a2d51e9b0>"
      ]
     },
     "metadata": {},
     "output_type": "display_data"
    }
   ],
   "source": [
    "obj_plt = Plot(1,2,(20,6))\n",
    "obj_plt.vizualize(data, 'V7', 'V8', label_col='Class', viz_type='scatter')"
   ]
  },
  {
   "cell_type": "code",
   "execution_count": 10,
   "metadata": {},
   "outputs": [
    {
     "data": {
      "image/png": "[encoded data removed]",
      "text/plain": [
       "<matplotlib.figure.Figure at 0x1a1470d240>"
      ]
     },
     "metadata": {},
     "output_type": "display_data"
    }
   ],
   "source": [
    "obj_plt = Plot(3,1,(20,18))\n",
    "obj_plt.vizualize(data, 'Class', viz_type='bar')\n",
    "obj_plt.vizualize(data[data['Class']==1][[\"Amount\"]],'Amount', viz_type='hist', params=dict(title='FRAUD'))\n",
    "obj_plt.vizualize(data[data['Class']==0][[\"Amount\"]],'Amount', viz_type='hist', params=dict(title='NORMAL'))"
   ]
  },
  {
   "cell_type": "code",
   "execution_count": 70,
   "metadata": {},
   "outputs": [
    {
     "data": {
      "image/png": "[encoded data removed]",
      "text/plain": [
       "<matplotlib.figure.Figure at 0x1a1538f4e0>"
      ]
     },
     "metadata": {},
     "output_type": "display_data"
    }
   ],
   "source": [
    "obj_plt = Plot(2,1,(20,12))\n",
    "obj_plt.vizualize(data[data['Class']==0], colX='garbage_cat_col', viz_type='bar', params=dict(title='Class = 0'))\n",
    "obj_plt.vizualize(data[data['Class']==1], colX='garbage_cat_col', viz_type='bar', params=dict(title='Class = 1'))"
   ]
  },
  {
   "cell_type": "code",
   "execution_count": 62,
   "metadata": {},
   "outputs": [
    {
     "data": {
      "image/png": "[encoded data removed]",
      "text/plain": [
       "<matplotlib.figure.Figure at 0x1a20d10668>"
      ]
     },
     "metadata": {},
     "output_type": "display_data"
    }
   ],
   "source": [
    "obj_plt = Plot(1,1,(20,12))\n",
    "obj_plt.vizualize(data, colX='garbage_cat_col', label_col='Class', viz_type='countplot')"
   ]
  },
  {
   "cell_type": "code",
   "execution_count": null,
   "metadata": {
    "collapsed": true
   },
   "outputs": [],
   "source": []
  },
  {
   "cell_type": "code",
   "execution_count": 229,
   "metadata": {
    "collapsed": true
   },
   "outputs": [],
   "source": [
    "from scipy import stats"
   ]
  },
  {
   "cell_type": "code",
   "execution_count": null,
   "metadata": {
    "collapsed": true
   },
   "outputs": [],
   "source": []
  },
  {
   "cell_type": "code",
   "execution_count": null,
   "metadata": {
    "collapsed": true
   },
   "outputs": [],
   "source": []
  },
  {
   "cell_type": "markdown",
   "metadata": {
    "collapsed": true
   },
   "source": [
    "## Summary statistics per column, and per label per column"
   ]
  },
  {
   "cell_type": "code",
   "execution_count": null,
   "metadata": {
    "collapsed": true
   },
   "outputs": [],
   "source": [
    "def summary_stats_for_continuous_col(data, continuous_cols, label_col='Class', label=None):\n",
    "    '''\n",
    "        data: A data Frame\n",
    "        continuous_cols : List of the continuous columns for which you need the statistics\n",
    "        label_col: The Label column name\n",
    "        label : The label name or class for which you need the column statistics\n",
    "    '''\n",
    "    stats_cols = ['col_name', 'count', 'mean', 'std', 'min' ,'25%','50', '75%','max']\n",
    "    col_name_arr = []\n",
    "    smry_col = []\n",
    "    for col_num, col_names in enumerate(continuous_cols):\n",
    "        col_name_arr.append(col_names)\n",
    "        if label:\n",
    "            smry_stats_col = data[data[label_col]==label][col_names].describe().reset_index().set_index('index').T\n",
    "        else:\n",
    "            smry_stats_col = data[col_names].describe().reset_index().set_index('index').T\n",
    "        smry_col.append(np.array(smry_stats_col)[0])\n",
    "    col_name_arr = np.array(col_name_arr, dtype=str).reshape(-1,1)\n",
    "    smry_col = np.ndarray.round(np.array(smry_col), 3)\n",
    "    smry = np.column_stack((col_name_arr, smry_col))\n",
    "    return  pd.DataFrame(smry, columns=stats_cols)"
   ]
  },
  {
   "cell_type": "code",
   "execution_count": 226,
   "metadata": {
    "collapsed": true
   },
   "outputs": [],
   "source": [
    "from sklearn import preprocessing, metrics\n",
    "def stats_for_discrete_col(data, discrete_cols, label_col):\n",
    "    '''\n",
    "        data : A data frame\n",
    "        discrete_cols : An array of columns\n",
    "        label_col: A string of label column name\n",
    "        \n",
    "        Note. When two columns are similar:\n",
    "                chi_pValue ~ 0 \n",
    "                mutual_info ~ 1\n",
    "    '''\n",
    "    num_instances = len(data)\n",
    "    \n",
    "    stats_cols = ['col_name', 'num_categories','chi_pValue', 'mutual_info', 'NaNs','% NaNs']\n",
    "    \n",
    "    data = data[discrete_cols + [label_col]].apply(preprocessing.LabelEncoder().fit_transform)\n",
    "\n",
    "    col_name_arr = []\n",
    "    for col_num, col_name in enumerate(discrete_cols):\n",
    "        col_name_arr.append(col_name)\n",
    "        data[col_name] = data[col_name].astype('str')\n",
    "        num_NaNs = len(data[data[col_name] == 'nan'])\n",
    "        num_categories = len(np.unique(np.array([data[col_name]])))\n",
    "\n",
    "        num_instances = len(data)\n",
    "        num_categories = len(np.unique(np.array([data[col_name]])))\n",
    "        num_labels = len(np.unique(np.array([data[label_col]])))\n",
    "        frequency_tab = pd.crosstab(data[col_name], data[label_col], margins = True)\n",
    "        observed_tab = frequency_tab.iloc[0:num_categories,0:num_labels]\n",
    "        observed_tab = pd.DataFrame(observed_tab)\n",
    "        chi_stats, chi_pValue, degree_freedom, expected_tab = stats.chi2_contingency(observed= observed_tab)\n",
    "        mutual_info = metrics.cluster.normalized_mutual_info_score(np.array(data[col_name]), \n",
    "                                                                     np.array(data[label_col]))\n",
    "        if col_num == 0:\n",
    "            out_arr = np.array([num_categories, round(chi_pValue, 3), round(mutual_info, 3), num_NaNs, \n",
    "                                num_NaNs/num_instances])\n",
    "        else:\n",
    "            out_arr = np.vstack((out_arr, \n",
    "                                 np.array([num_categories, round(chi_pValue, 3), round(mutual_info, 3), \n",
    "                                           num_NaNs, num_NaNs/num_instances])))\n",
    "    out_arr = np.column_stack((np.array(col_name_arr).reshape(-1,1), out_arr))\n",
    "    return pd.DataFrame(out_arr, columns=stats_cols)\n",
    " "
   ]
  },
  {
   "cell_type": "code",
   "execution_count": 227,
   "metadata": {
    "collapsed": true
   },
   "outputs": [],
   "source": [
    "smry = stats_for_discrete_col(data, discrete_cols=['garbage_cat_col1', 'garbage_cat_col2'], label_col='Class')"
   ]
  },
  {
   "cell_type": "code",
   "execution_count": 228,
   "metadata": {},
   "outputs": [
    {
     "data": {
      "text/html": [
       "<div>\n",
       "<style>\n",
       "    .dataframe thead tr:only-child th {\n",
       "        text-align: right;\n",
       "    }\n",
       "\n",
       "    .dataframe thead th {\n",
       "        text-align: left;\n",
       "    }\n",
       "\n",
       "    .dataframe tbody tr th {\n",
       "        vertical-align: top;\n",
       "    }\n",
       "</style>\n",
       "<table border=\"1\" class=\"dataframe\">\n",
       "  <thead>\n",
       "    <tr style=\"text-align: right;\">\n",
       "      <th></th>\n",
       "      <th>col_name</th>\n",
       "      <th>num_categories</th>\n",
       "      <th>chi_pValue</th>\n",
       "      <th>mutual_info</th>\n",
       "      <th>NaNs</th>\n",
       "      <th>% NaNs</th>\n",
       "    </tr>\n",
       "  </thead>\n",
       "  <tbody>\n",
       "    <tr>\n",
       "      <th>0</th>\n",
       "      <td>garbage_cat_col1</td>\n",
       "      <td>4.0</td>\n",
       "      <td>0.651</td>\n",
       "      <td>0.0</td>\n",
       "      <td>0.0</td>\n",
       "      <td>0.0</td>\n",
       "    </tr>\n",
       "    <tr>\n",
       "      <th>1</th>\n",
       "      <td>garbage_cat_col2</td>\n",
       "      <td>2.0</td>\n",
       "      <td>0.0</td>\n",
       "      <td>1.0</td>\n",
       "      <td>0.0</td>\n",
       "      <td>0.0</td>\n",
       "    </tr>\n",
       "  </tbody>\n",
       "</table>\n",
       "</div>"
      ],
      "text/plain": [
       "           col_name num_categories chi_pValue mutual_info NaNs % NaNs\n",
       "0  garbage_cat_col1            4.0      0.651         0.0  0.0    0.0\n",
       "1  garbage_cat_col2            2.0        0.0         1.0  0.0    0.0"
      ]
     },
     "execution_count": 228,
     "metadata": {},
     "output_type": "execute_result"
    }
   ],
   "source": [
    "smry"
   ]
  },
  {
   "cell_type": "code",
   "execution_count": 3,
   "metadata": {},
   "outputs": [
    {
     "data": {
      "text/html": [
       "<div>\n",
       "<style>\n",
       "    .dataframe thead tr:only-child th {\n",
       "        text-align: right;\n",
       "    }\n",
       "\n",
       "    .dataframe thead th {\n",
       "        text-align: left;\n",
       "    }\n",
       "\n",
       "    .dataframe tbody tr th {\n",
       "        vertical-align: top;\n",
       "    }\n",
       "</style>\n",
       "<table border=\"1\" class=\"dataframe\">\n",
       "  <thead>\n",
       "    <tr style=\"text-align: right;\">\n",
       "      <th></th>\n",
       "      <th>col_name</th>\n",
       "      <th>count</th>\n",
       "      <th>mean</th>\n",
       "      <th>std</th>\n",
       "      <th>min</th>\n",
       "      <th>25%</th>\n",
       "      <th>50</th>\n",
       "      <th>75%</th>\n",
       "      <th>max</th>\n",
       "    </tr>\n",
       "  </thead>\n",
       "  <tbody>\n",
       "    <tr>\n",
       "      <th>0</th>\n",
       "      <td>Amount</td>\n",
       "      <td>284807.0</td>\n",
       "      <td>88.35</td>\n",
       "      <td>250.12</td>\n",
       "      <td>0.0</td>\n",
       "      <td>5.6</td>\n",
       "      <td>22.0</td>\n",
       "      <td>77.165</td>\n",
       "      <td>25691.16</td>\n",
       "    </tr>\n",
       "    <tr>\n",
       "      <th>1</th>\n",
       "      <td>V5</td>\n",
       "      <td>284807.0</td>\n",
       "      <td>-0.0</td>\n",
       "      <td>1.38</td>\n",
       "      <td>-113.743</td>\n",
       "      <td>-0.692</td>\n",
       "      <td>-0.054</td>\n",
       "      <td>0.612</td>\n",
       "      <td>34.802</td>\n",
       "    </tr>\n",
       "  </tbody>\n",
       "</table>\n",
       "</div>"
      ],
      "text/plain": [
       "  col_name     count   mean     std       min     25%      50     75%  \\\n",
       "0   Amount  284807.0  88.35  250.12       0.0     5.6    22.0  77.165   \n",
       "1       V5  284807.0   -0.0    1.38  -113.743  -0.692  -0.054   0.612   \n",
       "\n",
       "        max  \n",
       "0  25691.16  \n",
       "1    34.802  "
      ]
     },
     "execution_count": 3,
     "metadata": {},
     "output_type": "execute_result"
    }
   ],
   "source": [
    "# a = summary_statistics.stats_col(data, continuous_cols=['Amount', 'V5'])        \n",
    "a = get_stats.stats_for_continuous_col(data, continuous_cols=['Amount', 'V5'], label_col='Class', label=0)   \n",
    "a.head()"
   ]
  },
  {
   "cell_type": "code",
   "execution_count": 4,
   "metadata": {},
   "outputs": [
    {
     "data": {
      "text/html": [
       "<div>\n",
       "<style>\n",
       "    .dataframe thead tr:only-child th {\n",
       "        text-align: right;\n",
       "    }\n",
       "\n",
       "    .dataframe thead th {\n",
       "        text-align: left;\n",
       "    }\n",
       "\n",
       "    .dataframe tbody tr th {\n",
       "        vertical-align: top;\n",
       "    }\n",
       "</style>\n",
       "<table border=\"1\" class=\"dataframe\">\n",
       "  <thead>\n",
       "    <tr style=\"text-align: right;\">\n",
       "      <th></th>\n",
       "      <th>col_name</th>\n",
       "      <th>count</th>\n",
       "      <th>mean</th>\n",
       "      <th>std</th>\n",
       "      <th>min</th>\n",
       "      <th>25%</th>\n",
       "      <th>50</th>\n",
       "      <th>75%</th>\n",
       "      <th>max</th>\n",
       "    </tr>\n",
       "  </thead>\n",
       "  <tbody>\n",
       "    <tr>\n",
       "      <th>0</th>\n",
       "      <td>Amount</td>\n",
       "      <td>492.0</td>\n",
       "      <td>122.211</td>\n",
       "      <td>256.683</td>\n",
       "      <td>0.0</td>\n",
       "      <td>1.0</td>\n",
       "      <td>9.25</td>\n",
       "      <td>105.89</td>\n",
       "      <td>2125.87</td>\n",
       "    </tr>\n",
       "    <tr>\n",
       "      <th>1</th>\n",
       "      <td>V5</td>\n",
       "      <td>492.0</td>\n",
       "      <td>-3.151</td>\n",
       "      <td>5.372</td>\n",
       "      <td>-22.106</td>\n",
       "      <td>-4.793</td>\n",
       "      <td>-1.523</td>\n",
       "      <td>0.215</td>\n",
       "      <td>11.095</td>\n",
       "    </tr>\n",
       "  </tbody>\n",
       "</table>\n",
       "</div>"
      ],
      "text/plain": [
       "  col_name  count     mean      std      min     25%      50     75%      max\n",
       "0   Amount  492.0  122.211  256.683      0.0     1.0    9.25  105.89  2125.87\n",
       "1       V5  492.0   -3.151    5.372  -22.106  -4.793  -1.523   0.215   11.095"
      ]
     },
     "execution_count": 4,
     "metadata": {},
     "output_type": "execute_result"
    }
   ],
   "source": [
    "b = get_stats.stats_for_continuous_col(data, continuous_cols=['Amount', 'V5'], label_col='Class', label=1) \n",
    "b.head()"
   ]
  },
  {
   "cell_type": "code",
   "execution_count": null,
   "metadata": {
    "collapsed": true
   },
   "outputs": [],
   "source": []
  },
  {
   "cell_type": "code",
   "execution_count": null,
   "metadata": {
    "collapsed": true
   },
   "outputs": [],
   "source": []
  },
  {
   "cell_type": "code",
   "execution_count": 32,
   "metadata": {
    "collapsed": true
   },
   "outputs": [],
   "source": [
    "frauds = data[data.Class == 1]\n",
    "normal = data[data.Class == 0]"
   ]
  },
  {
   "cell_type": "code",
   "execution_count": null,
   "metadata": {
    "collapsed": true
   },
   "outputs": [],
   "source": [
    "obj_plot.base_plot()"
   ]
  }
 ],
 "metadata": {
  "kernelspec": {
   "display_name": "Python 3",
   "language": "python",
   "name": "python3"
  },
  "language_info": {
   "codemirror_mode": {
    "name": "ipython",
    "version": 3
   },
   "file_extension": ".py",
   "mimetype": "text/x-python",
   "name": "python",
   "nbconvert_exporter": "python",
   "pygments_lexer": "ipython3",
   "version": "3.5.4"
  }
 },
 "nbformat": 4,
 "nbformat_minor": 2
}
