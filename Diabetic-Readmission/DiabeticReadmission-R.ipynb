{
 "cells": [
  {
   "cell_type": "code",
   "execution_count": 3,
   "metadata": {
    "collapsed": false,
    "deletable": true,
    "editable": true,
    "scrolled": true
   },
   "outputs": [],
   "source": [
    "# Import libraries here\n",
    "library(dplyr)\n",
    "library(class)\n",
    "library(MASS)\n",
    "library(Hmisc)\n",
    "library(klaR)\n",
    "library(e1071)\n",
    "library(kknn)\n",
    "library(rpart)\n",
    "library(lars)\n",
    "library(stats)\n",
    "library(leaps)\n",
    "library(repr)\n",
    "library(glmnet)\n",
    "library(caret)\n",
    "library(ggplot2)\n",
    "\n",
    "\n",
    "# Get the data\n",
    "df_Base = '/Users/sam/All-Program/App-DataSet/Data-Science-Projects/Diabetic-Readmission/diabetes_dataset/df_Base.csv'\n",
    "df_F1 = '/Users/sam/All-Program/App-DataSet/Data-Science-Projects/Diabetic-Readmission/diabetes_dataset/df_F1.csv'\n",
    "df_F2 = '/Users/sam/All-Program/App-DataSet/Data-Science-Projects/Diabetic-Readmission/diabetes_dataset/df_F2.csv'\n",
    "\n",
    "df_Diag1Diag2NaN_rmv_F1 = '/Users/sam/All-Program/App-DataSet/Data-Science-Projects/Diabetic-Readmission/diabetes_dataset/df_Diag1Diag2NaN_rmv_F1.csv'\n",
    "df_Diag1Diag2NaN_rmv_F2 = '/Users/sam/All-Program/App-DataSet/Data-Science-Projects/Diabetic-Readmission/diabetes_dataset/df_Diag1Diag2NaN_rmv_F2.csv'\n",
    "\n",
    "# Choose the feature you want to run\n",
    "runningDataSet <- df_F1\n",
    "\n",
    "seed <- 45223"
   ]
  },
  {
   "cell_type": "markdown",
   "metadata": {
    "deletable": true,
    "editable": true
   },
   "source": [
    "### See if the data looks good, and the features are provided with correct attributes:"
   ]
  },
  {
   "cell_type": "code",
   "execution_count": 4,
   "metadata": {
    "collapsed": false,
    "deletable": true,
    "editable": true
   },
   "outputs": [
    {
     "data": {
      "text/html": [
       "<ol class=list-inline>\n",
       "\t<li>no</li>\n",
       "\t<li>yes</li>\n",
       "</ol>\n"
      ],
      "text/latex": [
       "\\begin{enumerate*}\n",
       "\\item no\n",
       "\\item yes\n",
       "\\end{enumerate*}\n"
      ],
      "text/markdown": [
       "1. no\n",
       "2. yes\n",
       "\n",
       "\n"
      ],
      "text/plain": [
       "[1] no  yes\n",
       "Levels: no yes"
      ]
     },
     "metadata": {},
     "output_type": "display_data"
    },
    {
     "data": {
      "text/html": [
       "<table>\n",
       "<thead><tr><th scope=col>time_in_hospital</th><th scope=col>num_lab_procedures</th><th scope=col>num_procedures</th><th scope=col>num_medications</th><th scope=col>number_outpatient</th><th scope=col>number_emergency</th><th scope=col>number_inpatient</th><th scope=col>number_diagnoses</th><th scope=col>race</th><th scope=col>gender</th><th scope=col>⋯</th><th scope=col>rosiglitazone</th><th scope=col>acarbose</th><th scope=col>miglitol</th><th scope=col>tolazamide</th><th scope=col>insulin</th><th scope=col>glyburide_metformin</th><th scope=col>glipizide_metformin</th><th scope=col>change</th><th scope=col>diabetesMed</th><th scope=col>readmitted</th></tr></thead>\n",
       "<tbody>\n",
       "\t<tr><td>1              </td><td>41             </td><td>0              </td><td> 1             </td><td>0              </td><td>0              </td><td>0              </td><td>1              </td><td>Caucasian      </td><td>Female         </td><td>⋯              </td><td>No             </td><td>No             </td><td>No             </td><td>No             </td><td>No             </td><td>No             </td><td>No             </td><td>No             </td><td>No             </td><td>no             </td></tr>\n",
       "\t<tr><td>3              </td><td>59             </td><td>0              </td><td>18             </td><td>0              </td><td>0              </td><td>0              </td><td>9              </td><td>Caucasian      </td><td>Female         </td><td>⋯              </td><td>No             </td><td>No             </td><td>No             </td><td>No             </td><td>Up             </td><td>No             </td><td>No             </td><td>Ch             </td><td>Yes            </td><td>no             </td></tr>\n",
       "\t<tr><td>2              </td><td>11             </td><td>5              </td><td>13             </td><td>2              </td><td>0              </td><td>1              </td><td>6              </td><td>AfricanAmerican</td><td>Female         </td><td>⋯              </td><td>No             </td><td>No             </td><td>No             </td><td>No             </td><td>No             </td><td>No             </td><td>No             </td><td>No             </td><td>Yes            </td><td>no             </td></tr>\n",
       "\t<tr><td>2              </td><td>44             </td><td>1              </td><td>16             </td><td>0              </td><td>0              </td><td>0              </td><td>7              </td><td>Caucasian      </td><td>Male           </td><td>⋯              </td><td>No             </td><td>No             </td><td>No             </td><td>No             </td><td>Up             </td><td>No             </td><td>No             </td><td>Ch             </td><td>Yes            </td><td>no             </td></tr>\n",
       "\t<tr><td>1              </td><td>51             </td><td>0              </td><td> 8             </td><td>0              </td><td>0              </td><td>0              </td><td>5              </td><td>Caucasian      </td><td>Male           </td><td>⋯              </td><td>No             </td><td>No             </td><td>No             </td><td>No             </td><td>Steady         </td><td>No             </td><td>No             </td><td>Ch             </td><td>Yes            </td><td>no             </td></tr>\n",
       "\t<tr><td>3              </td><td>31             </td><td>6              </td><td>16             </td><td>0              </td><td>0              </td><td>0              </td><td>9              </td><td>Caucasian      </td><td>Male           </td><td>⋯              </td><td>No             </td><td>No             </td><td>No             </td><td>No             </td><td>Steady         </td><td>No             </td><td>No             </td><td>No             </td><td>Yes            </td><td>no             </td></tr>\n",
       "</tbody>\n",
       "</table>\n"
      ],
      "text/latex": [
       "\\begin{tabular}{r|lllllllllllllllllllllllllllllllllllllll}\n",
       " time\\_in\\_hospital & num\\_lab\\_procedures & num\\_procedures & num\\_medications & number\\_outpatient & number\\_emergency & number\\_inpatient & number\\_diagnoses & race & gender & ⋯ & rosiglitazone & acarbose & miglitol & tolazamide & insulin & glyburide\\_metformin & glipizide\\_metformin & change & diabetesMed & readmitted\\\\\n",
       "\\hline\n",
       "\t 1               & 41              & 0               &  1              & 0               & 0               & 0               & 1               & Caucasian       & Female          & ⋯               & No              & No              & No              & No              & No              & No              & No              & No              & No              & no             \\\\\n",
       "\t 3               & 59              & 0               & 18              & 0               & 0               & 0               & 9               & Caucasian       & Female          & ⋯               & No              & No              & No              & No              & Up              & No              & No              & Ch              & Yes             & no             \\\\\n",
       "\t 2               & 11              & 5               & 13              & 2               & 0               & 1               & 6               & AfricanAmerican & Female          & ⋯               & No              & No              & No              & No              & No              & No              & No              & No              & Yes             & no             \\\\\n",
       "\t 2               & 44              & 1               & 16              & 0               & 0               & 0               & 7               & Caucasian       & Male            & ⋯               & No              & No              & No              & No              & Up              & No              & No              & Ch              & Yes             & no             \\\\\n",
       "\t 1               & 51              & 0               &  8              & 0               & 0               & 0               & 5               & Caucasian       & Male            & ⋯               & No              & No              & No              & No              & Steady          & No              & No              & Ch              & Yes             & no             \\\\\n",
       "\t 3               & 31              & 6               & 16              & 0               & 0               & 0               & 9               & Caucasian       & Male            & ⋯               & No              & No              & No              & No              & Steady          & No              & No              & No              & Yes             & no             \\\\\n",
       "\\end{tabular}\n"
      ],
      "text/markdown": [
       "\n",
       "time_in_hospital | num_lab_procedures | num_procedures | num_medications | number_outpatient | number_emergency | number_inpatient | number_diagnoses | race | gender | ⋯ | rosiglitazone | acarbose | miglitol | tolazamide | insulin | glyburide_metformin | glipizide_metformin | change | diabetesMed | readmitted | \n",
       "|---|---|---|---|---|---|\n",
       "| 1               | 41              | 0               |  1              | 0               | 0               | 0               | 1               | Caucasian       | Female          | ⋯               | No              | No              | No              | No              | No              | No              | No              | No              | No              | no              | \n",
       "| 3               | 59              | 0               | 18              | 0               | 0               | 0               | 9               | Caucasian       | Female          | ⋯               | No              | No              | No              | No              | Up              | No              | No              | Ch              | Yes             | no              | \n",
       "| 2               | 11              | 5               | 13              | 2               | 0               | 1               | 6               | AfricanAmerican | Female          | ⋯               | No              | No              | No              | No              | No              | No              | No              | No              | Yes             | no              | \n",
       "| 2               | 44              | 1               | 16              | 0               | 0               | 0               | 7               | Caucasian       | Male            | ⋯               | No              | No              | No              | No              | Up              | No              | No              | Ch              | Yes             | no              | \n",
       "| 1               | 51              | 0               |  8              | 0               | 0               | 0               | 5               | Caucasian       | Male            | ⋯               | No              | No              | No              | No              | Steady          | No              | No              | Ch              | Yes             | no              | \n",
       "| 3               | 31              | 6               | 16              | 0               | 0               | 0               | 9               | Caucasian       | Male            | ⋯               | No              | No              | No              | No              | Steady          | No              | No              | No              | Yes             | no              | \n",
       "\n",
       "\n"
      ],
      "text/plain": [
       "  time_in_hospital num_lab_procedures num_procedures num_medications\n",
       "1 1                41                 0               1             \n",
       "2 3                59                 0              18             \n",
       "3 2                11                 5              13             \n",
       "4 2                44                 1              16             \n",
       "5 1                51                 0               8             \n",
       "6 3                31                 6              16             \n",
       "  number_outpatient number_emergency number_inpatient number_diagnoses\n",
       "1 0                 0                0                1               \n",
       "2 0                 0                0                9               \n",
       "3 2                 0                1                6               \n",
       "4 0                 0                0                7               \n",
       "5 0                 0                0                5               \n",
       "6 0                 0                0                9               \n",
       "  race            gender ⋯ rosiglitazone acarbose miglitol tolazamide insulin\n",
       "1 Caucasian       Female ⋯ No            No       No       No         No     \n",
       "2 Caucasian       Female ⋯ No            No       No       No         Up     \n",
       "3 AfricanAmerican Female ⋯ No            No       No       No         No     \n",
       "4 Caucasian       Male   ⋯ No            No       No       No         Up     \n",
       "5 Caucasian       Male   ⋯ No            No       No       No         Steady \n",
       "6 Caucasian       Male   ⋯ No            No       No       No         Steady \n",
       "  glyburide_metformin glipizide_metformin change diabetesMed readmitted\n",
       "1 No                  No                  No     No          no        \n",
       "2 No                  No                  Ch     Yes         no        \n",
       "3 No                  No                  No     Yes         no        \n",
       "4 No                  No                  Ch     Yes         no        \n",
       "5 No                  No                  Ch     Yes         no        \n",
       "6 No                  No                  No     Yes         no        "
      ]
     },
     "metadata": {},
     "output_type": "display_data"
    }
   ],
   "source": [
    "# Check the data if its looks alright\n",
    "file_names <- list.files(path = runningDataSet, pattern = \".csv\", full.names = TRUE)\n",
    "data.total <- do.call(rbind,lapply(file_names, read.csv, header=TRUE))\n",
    "data.total = data.frame(data.total)\n",
    "# Check how many unique output labels we have, should be binomial (no, and yes)\n",
    "unique(data.total$readmitted)\n",
    "head(data.total)"
   ]
  },
  {
   "cell_type": "markdown",
   "metadata": {
    "deletable": true,
    "editable": true
   },
   "source": [
    "# Common Functions:\n",
    "-------"
   ]
  },
  {
   "cell_type": "code",
   "execution_count": 5,
   "metadata": {
    "collapsed": false,
    "deletable": true,
    "editable": true
   },
   "outputs": [],
   "source": [
    "bindModel <- function(yLabel, xFeatures=NULL, featureSet=NULL){\n",
    "    # Automates the creation of feature model to be passed into an Classifier or Predictive Model\n",
    "    if (is.null(xFeatures)){\n",
    "        xFeatures <- featureSet[featureSet != yLabel]\n",
    "    }   \n",
    "    return (as.formula(paste(yLabel, \"~\", paste(xFeatures, collapse = '+ '))))\n",
    "}\n",
    "\n",
    "\n",
    "\n",
    "dummy_DF_Builder <- function (dataIN, factorModel, factorCols, numericCols, labelCol, intercept=FALSE){\n",
    "# Inp:\n",
    "    # Takes input a complete dataframe \n",
    "    # Takes input a factorModel ex = label~ attr1 + attr2 + att3 + att2*att4 where att1, attr2, attr3 are all factor columns\n",
    "    # Takes input the factor features, numeric features and the label \n",
    "#Out:\n",
    "    # Creates a design matrix by expanding the factors to a set of dummy variables and interaction etc.\n",
    "    # Returns a dataframe with the numerical features, the expanded dummy features and the label\n",
    "    \n",
    "    stopifnot(length(intersect(numericCols,factorCols)) == 0 )\n",
    "    stopifnot(labelCol %in% factorCols == FALSE)\n",
    "    stopifnot(labelCol %in% numericCols == FALSE)\n",
    "    \n",
    "    xFactor <- dataIN[, c(factorCols, labelCol)]\n",
    "    \n",
    "    if (intercept){\n",
    "        xFactor <- model.matrix(factorModel, data=xFactor)\n",
    "    }\n",
    "    else{\n",
    "        xFactor <- model.matrix(factorModel, data=xFactor)[-1]     # To remove the intercept term that lies in the first column\n",
    "    }\n",
    "\n",
    "    xNumeric <- dataIN[, numericCols]\n",
    "    yLabel <- dataIN[labelCol]\n",
    "\n",
    "    return (data.frame(xFactor, xNumeric, yLabel))\n",
    "}\n",
    "\n",
    "\n",
    "stratifiedSampling <- function(dataIN, sample_on_col, trainPrcnt, seed){\n",
    "  set.seed(seed)\n",
    "  trainIndices <- createDataPartition(y=dataIN[[sample_on_col]], p=trainPrcnt, list=FALSE)\n",
    "  trainData <- dataIN[trainIndices,]\n",
    "  testData <- dataIN[-trainIndices,]\n",
    "  \n",
    "  stopifnot(nrow(trainData) + nrow(testData) == nrow(dataIN))\n",
    "  return (list(trainData, testData))\n",
    "}\n",
    "\n",
    "\n",
    "changeDataType <- function(dataIN, featureNames, type){\n",
    "    if (type=='factor'){\n",
    "        dataIN[featureNames] <- lapply(dataIN[featureNames], factor)\n",
    "    }\n",
    "    else if (type=='numeric'){\n",
    "        dataIN[featureNames] <- lapply(dataIN[featureNames], as.numeric)\n",
    "    }\n",
    "    else{\n",
    "        print ('No Type Specified! Specify a Type Factor or Numeric')\n",
    "    }\n",
    "    return (dataIN)\n",
    "}\n",
    "\n",
    "\n",
    "\n",
    "performanceMetric <- function (cutoffRange, y, y_hat){\n",
    "    y_bin <- y_hat\n",
    "    actualYesIndex <- which(y==1)\n",
    "#     perfMetric <- data.frame()\n",
    "    perfMetric <- matrix(0,length(cutoffRange),3)    # 3 is because we calculate accuracy, recall and precision\n",
    "    for (i in 1:length(cutoffRange)){\n",
    "#         print (cutOFF)\n",
    "        predYesIndex <- which(y_hat>=cutoffRange[i])\n",
    "        bothYesIndex <- intersect(actualYesIndex,predYesIndex)\n",
    "\n",
    "        # Get the Binomial prediction based on cut-off value\n",
    "        y_bin[predYesIndex] <- 1\n",
    "        y_bin[-predYesIndex] <- 0\n",
    "\n",
    "        # Calculate the accuracy, precision and recall\n",
    "        accuracy <- length(which(y_bin == y))/length(y)\n",
    "        precision <- length(bothYesIndex)/length(predYesIndex)\n",
    "        recall <- length(bothYesIndex)/length(actualYesIndex)\n",
    "        cbind(accuracy, precision, recall)\n",
    "        \n",
    "        perfMetric[i,] <- cbind(accuracy, precision, recall)\n",
    "    }\n",
    "    \n",
    "    return (perfMetric)\n",
    " \n",
    "}\n",
    "\n",
    "\n",
    "plotPerfMetric <- function(performanceDF, cutoffRange){\n",
    "    p <- ggplot() + \n",
    "      geom_line(data = performanceDF, aes(x = cutoffRange, y = accuracy, color = \"accuracy\")) +\n",
    "      geom_line(data = performanceDF, aes(x = cutoffRange, y = precision, color = \"precision\")) +\n",
    "      geom_line(data = performanceDF, aes(x = cutoffRange, y = recall, color = \"recall\")) +\n",
    "      xlab('Cutoff') +\n",
    "      ylab('percent.change')\n",
    "    return (p)\n",
    "}"
   ]
  },
  {
   "cell_type": "code",
   "execution_count": 6,
   "metadata": {
    "collapsed": false
   },
   "outputs": [
    {
     "data": {
      "text/html": [
       "<table>\n",
       "<thead><tr><th scope=col>X.Intercept.</th><th scope=col>gendermale</th><th scope=col>age20.30</th><th scope=col>age30.40</th><th scope=col>placechicago</th><th scope=col>placenewyork</th><th scope=col>gendermale.age20.30</th><th scope=col>gendermale.age30.40</th><th scope=col>xNumeric</th><th scope=col>disease</th></tr></thead>\n",
       "<tbody>\n",
       "\t<tr><td>1 </td><td>1 </td><td>0 </td><td>0 </td><td>1 </td><td>0 </td><td>0 </td><td>0 </td><td>70</td><td>1 </td></tr>\n",
       "\t<tr><td>1 </td><td>0 </td><td>0 </td><td>0 </td><td>0 </td><td>1 </td><td>0 </td><td>0 </td><td>40</td><td>1 </td></tr>\n",
       "\t<tr><td>1 </td><td>1 </td><td>1 </td><td>0 </td><td>1 </td><td>0 </td><td>1 </td><td>0 </td><td>90</td><td>0 </td></tr>\n",
       "\t<tr><td>1 </td><td>1 </td><td>0 </td><td>0 </td><td>0 </td><td>0 </td><td>0 </td><td>0 </td><td>40</td><td>1 </td></tr>\n",
       "\t<tr><td>1 </td><td>0 </td><td>0 </td><td>1 </td><td>0 </td><td>1 </td><td>0 </td><td>0 </td><td>60</td><td>0 </td></tr>\n",
       "</tbody>\n",
       "</table>\n"
      ],
      "text/latex": [
       "\\begin{tabular}{r|llllllllll}\n",
       " X.Intercept. & gendermale & age20.30 & age30.40 & placechicago & placenewyork & gendermale.age20.30 & gendermale.age30.40 & xNumeric & disease\\\\\n",
       "\\hline\n",
       "\t 1  & 1  & 0  & 0  & 1  & 0  & 0  & 0  & 70 & 1 \\\\\n",
       "\t 1  & 0  & 0  & 0  & 0  & 1  & 0  & 0  & 40 & 1 \\\\\n",
       "\t 1  & 1  & 1  & 0  & 1  & 0  & 1  & 0  & 90 & 0 \\\\\n",
       "\t 1  & 1  & 0  & 0  & 0  & 0  & 0  & 0  & 40 & 1 \\\\\n",
       "\t 1  & 0  & 0  & 1  & 0  & 1  & 0  & 0  & 60 & 0 \\\\\n",
       "\\end{tabular}\n"
      ],
      "text/markdown": [
       "\n",
       "X.Intercept. | gendermale | age20.30 | age30.40 | placechicago | placenewyork | gendermale.age20.30 | gendermale.age30.40 | xNumeric | disease | \n",
       "|---|---|---|---|---|\n",
       "| 1  | 1  | 0  | 0  | 1  | 0  | 0  | 0  | 70 | 1  | \n",
       "| 1  | 0  | 0  | 0  | 0  | 1  | 0  | 0  | 40 | 1  | \n",
       "| 1  | 1  | 1  | 0  | 1  | 0  | 1  | 0  | 90 | 0  | \n",
       "| 1  | 1  | 0  | 0  | 0  | 0  | 0  | 0  | 40 | 1  | \n",
       "| 1  | 0  | 0  | 1  | 0  | 1  | 0  | 0  | 60 | 0  | \n",
       "\n",
       "\n"
      ],
      "text/plain": [
       "  X.Intercept. gendermale age20.30 age30.40 placechicago placenewyork\n",
       "1 1            1          0        0        1            0           \n",
       "2 1            0          0        0        0            1           \n",
       "3 1            1          1        0        1            0           \n",
       "4 1            1          0        0        0            0           \n",
       "5 1            0          0        1        0            1           \n",
       "  gendermale.age20.30 gendermale.age30.40 xNumeric disease\n",
       "1 0                   0                   70       1      \n",
       "2 0                   0                   40       1      \n",
       "3 1                   0                   90       0      \n",
       "4 0                   0                   40       1      \n",
       "5 0                   0                   60       0      "
      ]
     },
     "metadata": {},
     "output_type": "display_data"
    }
   ],
   "source": [
    "gender = c('male','female','male','male', 'female')\n",
    "age = c('10-20','10-20','20-30','10-20', '30-40')\n",
    "place = c('chicago', 'newyork', 'chicago', 'calif', 'newyork')\n",
    "weight = c(70,40,90,40,60)\n",
    "disease = c(1,1,0,1,0)\n",
    "\n",
    "dataIN <- data.frame(gender,age,place,weight,disease)\n",
    "factorModel = disease~gender+age+place+gender*age\n",
    "numericCols = c('weight')\n",
    "nominalCols = c('gender', 'age','place')\n",
    "labelCol = c('disease')\n",
    "\n",
    "a <- dummy_DF_Builder(dataIN, factorModel, nominalCols, numericCols, labelCol, intercept=TRUE)\n",
    "\n",
    "a\n",
    "# dataIN"
   ]
  },
  {
   "cell_type": "markdown",
   "metadata": {
    "deletable": true,
    "editable": true
   },
   "source": [
    "### Check/Change DataTypes"
   ]
  },
  {
   "cell_type": "code",
   "execution_count": 5,
   "metadata": {
    "collapsed": false,
    "deletable": true,
    "editable": true
   },
   "outputs": [
    {
     "name": "stdout",
     "output_type": "stream",
     "text": [
      "'data.frame':\t69963 obs. of  39 variables:\n",
      " $ time_in_hospital        : num  1 3 2 2 1 3 4 5 13 12 ...\n",
      " $ num_lab_procedures      : num  41 59 11 44 51 31 70 73 68 33 ...\n",
      " $ num_procedures          : num  0 0 5 1 0 6 1 0 2 3 ...\n",
      " $ num_medications         : num  1 18 13 16 8 16 21 12 28 18 ...\n",
      " $ number_outpatient       : num  0 0 2 0 0 0 0 0 0 0 ...\n",
      " $ number_emergency        : num  0 0 0 0 0 0 0 0 0 0 ...\n",
      " $ number_inpatient        : num  0 0 1 0 0 0 0 0 0 0 ...\n",
      " $ number_diagnoses        : num  1 9 6 7 5 9 7 8 8 8 ...\n",
      " $ race                    : Factor w/ 6 levels \"AfricanAmerican\",..: 3 3 1 3 3 3 3 3 3 3 ...\n",
      " $ gender                  : Factor w/ 3 levels \"Female\",\"Male\",..: 1 1 1 2 2 2 2 2 1 1 ...\n",
      " $ age                     : Factor w/ 10 levels \"_0_10_\",\"_10_20_\",..: 1 2 3 4 5 6 7 8 9 10 ...\n",
      " $ admission_type_id       : Factor w/ 8 levels \"1\",\"2\",\"3\",\"4\",..: 6 1 1 1 1 2 3 1 2 3 ...\n",
      " $ discharge_disposition_id: Factor w/ 21 levels \"1\",\"2\",\"3\",\"4\",..: 19 1 1 1 1 1 1 1 1 3 ...\n",
      " $ admission_source_id     : Factor w/ 17 levels \"1\",\"2\",\"3\",\"4\",..: 1 7 7 7 7 2 2 7 4 4 ...\n",
      " $ medical_specialty       : Factor w/ 71 levels \"AllergyandImmunology\",..: 30 15 15 15 15 15 15 15 15 14 ...\n",
      " $ diag_1                  : Factor w/ 694 levels \"11\",\"112\",\"115\",..: 111 126 395 478 46 227 227 238 217 244 ...\n",
      " $ diag_2                  : Factor w/ 724 levels \"11\",\"110\",\"111\",..: 547 59 58 73 17 194 194 257 208 31 ...\n",
      " $ diag_3                  : Factor w/ 757 levels \"110\",\"112\",\"115\",..: 580 94 594 201 61 61 598 61 186 260 ...\n",
      " $ max_glu_serum           : Factor w/ 4 levels \">200\",\">300\",..: 3 3 3 3 3 3 3 3 3 3 ...\n",
      " $ A1Cresult               : Factor w/ 4 levels \">7\",\">8\",\"None\",..: 3 3 3 3 3 3 3 3 3 3 ...\n",
      " $ metformin               : Factor w/ 4 levels \"Down\",\"No\",\"Steady\",..: 2 2 2 2 2 2 3 2 2 2 ...\n",
      " $ repaglinide             : Factor w/ 4 levels \"Down\",\"No\",\"Steady\",..: 2 2 2 2 2 2 2 2 2 2 ...\n",
      " $ nateglinide             : Factor w/ 4 levels \"Down\",\"No\",\"Steady\",..: 2 2 2 2 2 2 2 2 2 2 ...\n",
      " $ chlorpropamide          : Factor w/ 4 levels \"Down\",\"No\",\"Steady\",..: 2 2 2 2 2 2 2 2 2 2 ...\n",
      " $ glimepiride             : Factor w/ 4 levels \"Down\",\"No\",\"Steady\",..: 2 2 2 2 2 2 3 2 2 2 ...\n",
      " $ glipizide               : Factor w/ 4 levels \"Down\",\"No\",\"Steady\",..: 2 2 3 2 3 2 2 2 3 2 ...\n",
      " $ glyburide               : Factor w/ 4 levels \"Down\",\"No\",\"Steady\",..: 2 2 2 2 2 2 2 3 2 2 ...\n",
      " $ tolbutamide             : Factor w/ 2 levels \"No\",\"Steady\": 1 1 1 1 1 1 1 1 1 1 ...\n",
      " $ pioglitazone            : Factor w/ 4 levels \"Down\",\"No\",\"Steady\",..: 2 2 2 2 2 2 2 2 2 2 ...\n",
      " $ rosiglitazone           : Factor w/ 4 levels \"Down\",\"No\",\"Steady\",..: 2 2 2 2 2 2 2 2 2 3 ...\n",
      " $ acarbose                : Factor w/ 3 levels \"No\",\"Steady\",..: 1 1 1 1 1 1 1 1 1 1 ...\n",
      " $ miglitol                : Factor w/ 4 levels \"Down\",\"No\",\"Steady\",..: 2 2 2 2 2 2 2 2 2 2 ...\n",
      " $ tolazamide              : Factor w/ 2 levels \"No\",\"Steady\": 1 1 1 1 1 1 1 1 1 1 ...\n",
      " $ insulin                 : Factor w/ 4 levels \"Down\",\"No\",\"Steady\",..: 2 4 2 4 3 3 3 2 3 3 ...\n",
      " $ glyburide_metformin     : Factor w/ 4 levels \"Down\",\"No\",\"Steady\",..: 2 2 2 2 2 2 2 2 2 2 ...\n",
      " $ glipizide_metformin     : Factor w/ 2 levels \"No\",\"Steady\": 1 1 1 1 1 1 1 1 1 1 ...\n",
      " $ change                  : Factor w/ 2 levels \"Ch\",\"No\": 2 1 2 1 1 2 1 2 1 1 ...\n",
      " $ diabetesMed             : Factor w/ 2 levels \"No\",\"Yes\": 1 2 2 2 2 2 2 2 2 2 ...\n",
      " $ readmitted              : num  0 0 0 0 0 0 0 0 0 0 ...\n"
     ]
    }
   ],
   "source": [
    "data.total$readmitted <- as.numeric(ifelse(data.total$readmitted=='no', 0, 1))\n",
    "\n",
    "diabetic.labelCol <- 'readmitted'\n",
    "diabetic.numericCols <- c('time_in_hospital', 'num_lab_procedures', 'num_procedures', 'num_medications', \n",
    "                 'number_outpatient', 'number_emergency', 'number_inpatient', 'number_diagnoses')\n",
    "diabetic.nominalCols <- setdiff(colnames(data.total), c(diabetic.numericCols, diabetic.labelCol))\n",
    "\n",
    "diabetic.data.tot <- changeDataType(data.total, diabetic.numericCols, 'numeric')\n",
    "diabetic.data.tot <- changeDataType(diabetic.data.tot, diabetic.nominalCols, 'factor')\n",
    "\n",
    "str(diabetic.data.tot)"
   ]
  },
  {
   "cell_type": "markdown",
   "metadata": {
    "deletable": true,
    "editable": true
   },
   "source": [
    "# Statistics: (Feature Selection)\n",
    "-----------"
   ]
  },
  {
   "cell_type": "code",
   "execution_count": 6,
   "metadata": {
    "collapsed": false,
    "deletable": true,
    "editable": true
   },
   "outputs": [],
   "source": [
    "getSummaryElements_glm <- function(model, alpha){\n",
    "  inputSummary <- summary(model)\n",
    "  inputSummary_DF <- as.data.frame(inputSummary$coefficients)  # z is for glm\n",
    "  inputSummary_DF = inputSummary_DF[-1,]   # Remove the summary for intercept\n",
    "  signFeatureIndice <- which(inputSummary_DF['Pr(>|z|)'] <= alpha)\n",
    "  \n",
    "  numFeatures <- nrow(inputSummary_DF) # -1 for the intercept\n",
    "  numSignFeatures <- length(signFeatureIndice)\n",
    "\n",
    "  # Get the top i significant features\n",
    "  i <- 1\n",
    "  topI_SignFeatures <- 0\n",
    "  while (i<=3){\n",
    "    \n",
    "    if (nrow(inputSummary_DF) >= 1){    # only if the summary dataframe has elements\n",
    "      # Remove the entry of the intercept term\n",
    "      min_index <- which(inputSummary_DF['Pr(>|z|)'] == min(inputSummary_DF['Pr(>|z|)']) & inputSummary_DF['Pr(>|z|)'] <= alpha)\n",
    "      min_index\n",
    "      if (length(min_index)!=0){\n",
    "        topI_SignFeatures[i] <- rownames(inputSummary_DF)[min_index]\n",
    "        inputSummary_DF = inputSummary_DF[-min_index,]\n",
    "      } else {\n",
    "        topI_SignFeatures[i] <- NaN\n",
    "      }\n",
    "    } else {\n",
    "      topI_SignFeatures[i] <- NaN\n",
    "    }\n",
    "    \n",
    "    i <- i+1\n",
    "  }\n",
    "\n",
    "  # signFeatures <- row.names(inputSummary_DF[signFeatureIndice,])\n",
    "  nullDeviance <- inputSummary$null\n",
    "  residualDeviance <- inputSummary$deviance\n",
    "  aic <- inputSummary$aic\n",
    "  \n",
    "  ## Residual Distribution:\n",
    "  residuals <- resid(model)\n",
    "  mean <- mean(residuals)\n",
    "  min <- quantile(residuals)[['0%']]\n",
    "  q1 <- quantile(residuals)[['25%']]\n",
    "  median <- quantile(residuals)[['50%']]\n",
    "  q3 <- quantile(residuals)[['75%']]\n",
    "  max <- quantile(residuals)[['100%']]\n",
    "  \n",
    "  return (list(numFeatures=numFeatures, \n",
    "               numSignFeatures=numSignFeatures,\n",
    "               topI_SignFeatures=topI_SignFeatures,\n",
    "               nullDeviance=nullDeviance,\n",
    "               residualDeviance=residualDeviance,\n",
    "               aic=aic,\n",
    "               resid_mean=mean,\n",
    "               resid_min=min,\n",
    "               resid_q1=q1,\n",
    "               resid_median=median,\n",
    "               resid_q3=q3,\n",
    "               resid_max=max))\n",
    "}\n",
    "\n",
    "\n",
    "glmStats <- function(dataIN, cols, max_p_val=0.20){\n",
    "  dataOut <- data.frame()\n",
    "  for (col in cols){\n",
    "    modelF1.model <- bindModel(yLabel='readmitted', xFeatures=col)\n",
    "    modelF1.glm <- glm(modelF1.model, family='binomial',data=dataIN)\n",
    "    sumry <- getSummaryElements_glm(modelF1.glm, alpha=max_p_val)\n",
    "\n",
    "    # Feature Statistics\n",
    "    dataOut[col,'numCategories'] <- sumry[[\"numFeatures\"]]\n",
    "    dataOut[col,'numSignCategories'] <- sumry[[\"numSignFeatures\"]]\n",
    "    dataOut[col,'signF1'] <- sumry[[\"topI_SignFeatures\"]][1]\n",
    "    dataOut[col,'signF2'] <- sumry[[\"topI_SignFeatures\"]][2]\n",
    "    dataOut[col,'signF3'] <- sumry[[\"topI_SignFeatures\"]][3]\n",
    "    \n",
    "    # Statistics\n",
    "    dataOut[col,'nullDeviance'] <- sumry[['nullDeviance']]\n",
    "    dataOut[col,'residualDeviance'] <- sumry[['residualDeviance']]\n",
    "    dataOut[col,'aic'] <- sumry[['aic']]\n",
    "    \n",
    "    # Residual Statistics\n",
    "    dataOut[col,'mean(resid)'] <- sumry[[\"resid_mean\"]]\n",
    "    dataOut[col,'min(resid)'] <- sumry[[\"resid_min\"]]\n",
    "    dataOut[col,'q1(resid)'] <- sumry[['resid_q1']]\n",
    "    dataOut[col,'median(resid)'] <- sumry[['resid_median']]\n",
    "    dataOut[col,'q3(resid)'] <- sumry[['resid_q3']]\n",
    "    dataOut[col,'max(resid)'] <- sumry[['resid_max']]\n",
    "    \n",
    "    #     print ('################################################################################')\n",
    "    #     print ('')\n",
    "  }\n",
    "  return (dataOut)\n",
    "}\n",
    "\n"
   ]
  },
  {
   "cell_type": "markdown",
   "metadata": {
    "deletable": true,
    "editable": true
   },
   "source": [
    "# Stratified Sampling\n",
    "-------"
   ]
  },
  {
   "cell_type": "markdown",
   "metadata": {
    "deletable": true,
    "editable": true
   },
   "source": [
    "#### Train Test sampling for normal Dataset"
   ]
  },
  {
   "cell_type": "code",
   "execution_count": 7,
   "metadata": {
    "collapsed": false,
    "deletable": true,
    "editable": true
   },
   "outputs": [
    {
     "data": {
      "text/html": [
       "<ol class=list-inline>\n",
       "\t<li>55971</li>\n",
       "\t<li>36</li>\n",
       "</ol>\n"
      ],
      "text/latex": [
       "\\begin{enumerate*}\n",
       "\\item 55971\n",
       "\\item 36\n",
       "\\end{enumerate*}\n"
      ],
      "text/markdown": [
       "1. 55971\n",
       "2. 36\n",
       "\n",
       "\n"
      ],
      "text/plain": [
       "[1] 55971    36"
      ]
     },
     "metadata": {},
     "output_type": "display_data"
    },
    {
     "data": {
      "text/html": [
       "<ol class=list-inline>\n",
       "\t<li>13992</li>\n",
       "\t<li>36</li>\n",
       "</ol>\n"
      ],
      "text/latex": [
       "\\begin{enumerate*}\n",
       "\\item 13992\n",
       "\\item 36\n",
       "\\end{enumerate*}\n"
      ],
      "text/markdown": [
       "1. 13992\n",
       "2. 36\n",
       "\n",
       "\n"
      ],
      "text/plain": [
       "[1] 13992    36"
      ]
     },
     "metadata": {},
     "output_type": "display_data"
    },
    {
     "data": {
      "text/html": [
       "<table>\n",
       "<thead><tr><th></th><th scope=col>time_in_hospital</th><th scope=col>num_lab_procedures</th><th scope=col>num_procedures</th><th scope=col>num_medications</th><th scope=col>number_outpatient</th><th scope=col>number_emergency</th><th scope=col>number_inpatient</th><th scope=col>number_diagnoses</th><th scope=col>race</th><th scope=col>gender</th><th scope=col>⋯</th><th scope=col>rosiglitazone</th><th scope=col>acarbose</th><th scope=col>miglitol</th><th scope=col>tolazamide</th><th scope=col>insulin</th><th scope=col>glyburide_metformin</th><th scope=col>glipizide_metformin</th><th scope=col>change</th><th scope=col>diabetesMed</th><th scope=col>readmitted</th></tr></thead>\n",
       "<tbody>\n",
       "\t<tr><th scope=row>1</th><td>1        </td><td>41       </td><td>0        </td><td> 1       </td><td>0        </td><td>0        </td><td>0        </td><td>1        </td><td>Caucasian</td><td>Female   </td><td>⋯        </td><td>No       </td><td>No       </td><td>No       </td><td>No       </td><td>No       </td><td>No       </td><td>No       </td><td>No       </td><td>No       </td><td>0        </td></tr>\n",
       "\t<tr><th scope=row>2</th><td>3        </td><td>59       </td><td>0        </td><td>18       </td><td>0        </td><td>0        </td><td>0        </td><td>9        </td><td>Caucasian</td><td>Female   </td><td>⋯        </td><td>No       </td><td>No       </td><td>No       </td><td>No       </td><td>Up       </td><td>No       </td><td>No       </td><td>Ch       </td><td>Yes      </td><td>0        </td></tr>\n",
       "\t<tr><th scope=row>4</th><td>2        </td><td>44       </td><td>1        </td><td>16       </td><td>0        </td><td>0        </td><td>0        </td><td>7        </td><td>Caucasian</td><td>Male     </td><td>⋯        </td><td>No       </td><td>No       </td><td>No       </td><td>No       </td><td>Up       </td><td>No       </td><td>No       </td><td>Ch       </td><td>Yes      </td><td>0        </td></tr>\n",
       "\t<tr><th scope=row>5</th><td>1        </td><td>51       </td><td>0        </td><td> 8       </td><td>0        </td><td>0        </td><td>0        </td><td>5        </td><td>Caucasian</td><td>Male     </td><td>⋯        </td><td>No       </td><td>No       </td><td>No       </td><td>No       </td><td>Steady   </td><td>No       </td><td>No       </td><td>Ch       </td><td>Yes      </td><td>0        </td></tr>\n",
       "\t<tr><th scope=row>6</th><td>3        </td><td>31       </td><td>6        </td><td>16       </td><td>0        </td><td>0        </td><td>0        </td><td>9        </td><td>Caucasian</td><td>Male     </td><td>⋯        </td><td>No       </td><td>No       </td><td>No       </td><td>No       </td><td>Steady   </td><td>No       </td><td>No       </td><td>No       </td><td>Yes      </td><td>0        </td></tr>\n",
       "\t<tr><th scope=row>8</th><td>5        </td><td>73       </td><td>0        </td><td>12       </td><td>0        </td><td>0        </td><td>0        </td><td>8        </td><td>Caucasian</td><td>Male     </td><td>⋯        </td><td>No       </td><td>No       </td><td>No       </td><td>No       </td><td>No       </td><td>No       </td><td>No       </td><td>No       </td><td>Yes      </td><td>0        </td></tr>\n",
       "</tbody>\n",
       "</table>\n"
      ],
      "text/latex": [
       "\\begin{tabular}{r|llllllllllllllllllllllllllllllllllll}\n",
       "  & time\\_in\\_hospital & num\\_lab\\_procedures & num\\_procedures & num\\_medications & number\\_outpatient & number\\_emergency & number\\_inpatient & number\\_diagnoses & race & gender & ⋯ & rosiglitazone & acarbose & miglitol & tolazamide & insulin & glyburide\\_metformin & glipizide\\_metformin & change & diabetesMed & readmitted\\\\\n",
       "\\hline\n",
       "\t1 & 1         & 41        & 0         &  1        & 0         & 0         & 0         & 1         & Caucasian & Female    & ⋯         & No        & No        & No        & No        & No        & No        & No        & No        & No        & 0        \\\\\n",
       "\t2 & 3         & 59        & 0         & 18        & 0         & 0         & 0         & 9         & Caucasian & Female    & ⋯         & No        & No        & No        & No        & Up        & No        & No        & Ch        & Yes       & 0        \\\\\n",
       "\t4 & 2         & 44        & 1         & 16        & 0         & 0         & 0         & 7         & Caucasian & Male      & ⋯         & No        & No        & No        & No        & Up        & No        & No        & Ch        & Yes       & 0        \\\\\n",
       "\t5 & 1         & 51        & 0         &  8        & 0         & 0         & 0         & 5         & Caucasian & Male      & ⋯         & No        & No        & No        & No        & Steady    & No        & No        & Ch        & Yes       & 0        \\\\\n",
       "\t6 & 3         & 31        & 6         & 16        & 0         & 0         & 0         & 9         & Caucasian & Male      & ⋯         & No        & No        & No        & No        & Steady    & No        & No        & No        & Yes       & 0        \\\\\n",
       "\t8 & 5         & 73        & 0         & 12        & 0         & 0         & 0         & 8         & Caucasian & Male      & ⋯         & No        & No        & No        & No        & No        & No        & No        & No        & Yes       & 0        \\\\\n",
       "\\end{tabular}\n"
      ],
      "text/markdown": [
       "\n",
       "| <!--/--> | time_in_hospital | num_lab_procedures | num_procedures | num_medications | number_outpatient | number_emergency | number_inpatient | number_diagnoses | race | gender | ⋯ | rosiglitazone | acarbose | miglitol | tolazamide | insulin | glyburide_metformin | glipizide_metformin | change | diabetesMed | readmitted | \n",
       "|---|---|---|---|---|---|\n",
       "| 1 | 1         | 41        | 0         |  1        | 0         | 0         | 0         | 1         | Caucasian | Female    | ⋯         | No        | No        | No        | No        | No        | No        | No        | No        | No        | 0         | \n",
       "| 2 | 3         | 59        | 0         | 18        | 0         | 0         | 0         | 9         | Caucasian | Female    | ⋯         | No        | No        | No        | No        | Up        | No        | No        | Ch        | Yes       | 0         | \n",
       "| 4 | 2         | 44        | 1         | 16        | 0         | 0         | 0         | 7         | Caucasian | Male      | ⋯         | No        | No        | No        | No        | Up        | No        | No        | Ch        | Yes       | 0         | \n",
       "| 5 | 1         | 51        | 0         |  8        | 0         | 0         | 0         | 5         | Caucasian | Male      | ⋯         | No        | No        | No        | No        | Steady    | No        | No        | Ch        | Yes       | 0         | \n",
       "| 6 | 3         | 31        | 6         | 16        | 0         | 0         | 0         | 9         | Caucasian | Male      | ⋯         | No        | No        | No        | No        | Steady    | No        | No        | No        | Yes       | 0         | \n",
       "| 8 | 5         | 73        | 0         | 12        | 0         | 0         | 0         | 8         | Caucasian | Male      | ⋯         | No        | No        | No        | No        | No        | No        | No        | No        | Yes       | 0         | \n",
       "\n",
       "\n"
      ],
      "text/plain": [
       "  time_in_hospital num_lab_procedures num_procedures num_medications\n",
       "1 1                41                 0               1             \n",
       "2 3                59                 0              18             \n",
       "4 2                44                 1              16             \n",
       "5 1                51                 0               8             \n",
       "6 3                31                 6              16             \n",
       "8 5                73                 0              12             \n",
       "  number_outpatient number_emergency number_inpatient number_diagnoses\n",
       "1 0                 0                0                1               \n",
       "2 0                 0                0                9               \n",
       "4 0                 0                0                7               \n",
       "5 0                 0                0                5               \n",
       "6 0                 0                0                9               \n",
       "8 0                 0                0                8               \n",
       "  race      gender ⋯ rosiglitazone acarbose miglitol tolazamide insulin\n",
       "1 Caucasian Female ⋯ No            No       No       No         No     \n",
       "2 Caucasian Female ⋯ No            No       No       No         Up     \n",
       "4 Caucasian Male   ⋯ No            No       No       No         Up     \n",
       "5 Caucasian Male   ⋯ No            No       No       No         Steady \n",
       "6 Caucasian Male   ⋯ No            No       No       No         Steady \n",
       "8 Caucasian Male   ⋯ No            No       No       No         No     \n",
       "  glyburide_metformin glipizide_metformin change diabetesMed readmitted\n",
       "1 No                  No                  No     No          0         \n",
       "2 No                  No                  Ch     Yes         0         \n",
       "4 No                  No                  Ch     Yes         0         \n",
       "5 No                  No                  Ch     Yes         0         \n",
       "6 No                  No                  No     Yes         0         \n",
       "8 No                  No                  No     Yes         0         "
      ]
     },
     "metadata": {},
     "output_type": "display_data"
    },
    {
     "name": "stdout",
     "output_type": "stream",
     "text": [
      "'data.frame':\t13992 obs. of  36 variables:\n",
      " $ time_in_hospital        : num  2 4 1 4 6 2 11 2 5 1 ...\n",
      " $ num_lab_procedures      : num  11 70 49 45 42 47 42 25 52 28 ...\n",
      " $ num_procedures          : num  5 1 5 4 2 0 2 2 0 0 ...\n",
      " $ num_medications         : num  13 21 2 17 23 12 19 11 14 15 ...\n",
      " $ number_outpatient       : num  2 0 0 0 0 0 0 0 0 0 ...\n",
      " $ number_emergency        : num  0 0 0 0 0 0 0 0 0 0 ...\n",
      " $ number_inpatient        : num  1 0 0 0 0 0 0 0 0 0 ...\n",
      " $ number_diagnoses        : num  6 7 8 8 8 8 8 3 8 4 ...\n",
      " $ race                    : Factor w/ 6 levels \"AfricanAmerican\",..: 1 3 1 1 5 1 3 3 3 3 ...\n",
      " $ gender                  : Factor w/ 3 levels \"Female\",\"Male\",..: 1 2 1 2 2 1 1 1 1 1 ...\n",
      " $ age                     : Factor w/ 10 levels \"_0_10_\",\"_10_20_\",..: 3 7 7 6 8 8 9 6 9 8 ...\n",
      " $ admission_type_id       : Factor w/ 8 levels \"1\",\"2\",\"3\",\"4\",..: 1 3 3 1 3 2 2 1 1 1 ...\n",
      " $ discharge_disposition_id: Factor w/ 21 levels \"1\",\"2\",\"3\",\"4\",..: 1 1 1 1 6 1 6 1 2 2 ...\n",
      " $ admission_source_id     : Factor w/ 17 levels \"1\",\"2\",\"3\",\"4\",..: 7 2 2 7 2 4 1 1 7 7 ...\n",
      " $ medical_specialty       : Factor w/ 71 levels \"AllergyandImmunology\",..: 15 15 15 15 15 15 15 49 4 4 ...\n",
      " $ max_glu_serum           : Factor w/ 4 levels \">200\",\">300\",..: 3 3 3 3 3 3 3 3 3 3 ...\n",
      " $ A1Cresult               : Factor w/ 4 levels \">7\",\">8\",\"None\",..: 3 3 3 3 3 3 3 3 3 3 ...\n",
      " $ metformin               : Factor w/ 4 levels \"Down\",\"No\",\"Steady\",..: 2 3 2 2 2 2 2 2 3 3 ...\n",
      " $ repaglinide             : Factor w/ 4 levels \"Down\",\"No\",\"Steady\",..: 2 2 2 2 2 2 2 2 2 2 ...\n",
      " $ nateglinide             : Factor w/ 4 levels \"Down\",\"No\",\"Steady\",..: 2 2 2 2 2 2 2 2 2 2 ...\n",
      " $ chlorpropamide          : Factor w/ 4 levels \"Down\",\"No\",\"Steady\",..: 2 2 2 2 2 2 2 2 2 2 ...\n",
      " $ glimepiride             : Factor w/ 4 levels \"Down\",\"No\",\"Steady\",..: 2 3 2 2 2 2 2 2 2 2 ...\n",
      " $ glipizide               : Factor w/ 4 levels \"Down\",\"No\",\"Steady\",..: 3 2 2 3 2 2 2 2 2 2 ...\n",
      " $ glyburide               : Factor w/ 4 levels \"Down\",\"No\",\"Steady\",..: 2 2 2 2 1 2 2 2 3 2 ...\n",
      " $ tolbutamide             : Factor w/ 2 levels \"No\",\"Steady\": 1 1 1 1 1 1 1 1 1 1 ...\n",
      " $ pioglitazone            : Factor w/ 4 levels \"Down\",\"No\",\"Steady\",..: 2 2 2 2 2 2 2 2 2 2 ...\n",
      " $ rosiglitazone           : Factor w/ 4 levels \"Down\",\"No\",\"Steady\",..: 2 2 2 2 2 2 2 2 2 2 ...\n",
      " $ acarbose                : Factor w/ 3 levels \"No\",\"Steady\",..: 1 1 1 1 1 1 1 1 1 1 ...\n",
      " $ miglitol                : Factor w/ 4 levels \"Down\",\"No\",\"Steady\",..: 2 2 2 2 2 2 2 2 2 2 ...\n",
      " $ tolazamide              : Factor w/ 2 levels \"No\",\"Steady\": 1 1 1 1 1 1 1 1 1 1 ...\n",
      " $ insulin                 : Factor w/ 4 levels \"Down\",\"No\",\"Steady\",..: 2 3 3 3 3 2 2 3 2 1 ...\n",
      " $ glyburide_metformin     : Factor w/ 4 levels \"Down\",\"No\",\"Steady\",..: 2 2 2 2 2 2 2 2 2 2 ...\n",
      " $ glipizide_metformin     : Factor w/ 2 levels \"No\",\"Steady\": 1 1 1 1 1 1 1 1 1 1 ...\n",
      " $ change                  : Factor w/ 2 levels \"Ch\",\"No\": 2 1 2 1 1 2 2 2 1 1 ...\n",
      " $ diabetesMed             : Factor w/ 2 levels \"No\",\"Yes\": 2 2 2 2 2 1 1 2 2 2 ...\n",
      " $ readmitted              : num  0 0 0 1 0 0 0 0 0 0 ...\n"
     ]
    }
   ],
   "source": [
    "# Since diag_1, diag_2, diag_3 have too many categorical features, the algorithm takes quite a lot time to fit them. \n",
    "# Hence for analysis purpose we remove them\n",
    "diabetic.data <- data.frame(subset(diabetic.data.tot, select = -c(diag_1,diag_2,diag_3)))\n",
    "dataOut <- stratifiedSampling(dataIN=diabetic.data, sample_on_col='readmitted', trainPrcnt=0.8, seed=seed)\n",
    "\n",
    "diabetic.trainData <- dataOut[[1]]\n",
    "diabetic.testData <- dataOut[[2]]\n",
    "\n",
    "\n",
    "dim(diabetic.trainData)\n",
    "dim(diabetic.testData)\n",
    "head(diabetic.trainData)\n",
    "str(diabetic.testData)"
   ]
  },
  {
   "cell_type": "markdown",
   "metadata": {
    "deletable": true,
    "editable": true
   },
   "source": [
    "#### Train Test sampling for Dummy Dataset"
   ]
  },
  {
   "cell_type": "code",
   "execution_count": 8,
   "metadata": {
    "collapsed": false,
    "deletable": true,
    "editable": true
   },
   "outputs": [
    {
     "data": {
      "text/html": [
       "<ol class=list-inline>\n",
       "\t<li>'race'</li>\n",
       "\t<li>'gender'</li>\n",
       "\t<li>'age'</li>\n",
       "\t<li>'admission_type_id'</li>\n",
       "\t<li>'discharge_disposition_id'</li>\n",
       "\t<li>'admission_source_id'</li>\n",
       "\t<li>'medical_specialty'</li>\n",
       "\t<li>'max_glu_serum'</li>\n",
       "\t<li>'A1Cresult'</li>\n",
       "\t<li>'metformin'</li>\n",
       "\t<li>'repaglinide'</li>\n",
       "\t<li>'nateglinide'</li>\n",
       "\t<li>'chlorpropamide'</li>\n",
       "\t<li>'glimepiride'</li>\n",
       "\t<li>'glipizide'</li>\n",
       "\t<li>'glyburide'</li>\n",
       "\t<li>'tolbutamide'</li>\n",
       "\t<li>'pioglitazone'</li>\n",
       "\t<li>'rosiglitazone'</li>\n",
       "\t<li>'acarbose'</li>\n",
       "\t<li>'miglitol'</li>\n",
       "\t<li>'tolazamide'</li>\n",
       "\t<li>'insulin'</li>\n",
       "\t<li>'glyburide_metformin'</li>\n",
       "\t<li>'glipizide_metformin'</li>\n",
       "\t<li>'change'</li>\n",
       "\t<li>'diabetesMed'</li>\n",
       "</ol>\n"
      ],
      "text/latex": [
       "\\begin{enumerate*}\n",
       "\\item 'race'\n",
       "\\item 'gender'\n",
       "\\item 'age'\n",
       "\\item 'admission\\_type\\_id'\n",
       "\\item 'discharge\\_disposition\\_id'\n",
       "\\item 'admission\\_source\\_id'\n",
       "\\item 'medical\\_specialty'\n",
       "\\item 'max\\_glu\\_serum'\n",
       "\\item 'A1Cresult'\n",
       "\\item 'metformin'\n",
       "\\item 'repaglinide'\n",
       "\\item 'nateglinide'\n",
       "\\item 'chlorpropamide'\n",
       "\\item 'glimepiride'\n",
       "\\item 'glipizide'\n",
       "\\item 'glyburide'\n",
       "\\item 'tolbutamide'\n",
       "\\item 'pioglitazone'\n",
       "\\item 'rosiglitazone'\n",
       "\\item 'acarbose'\n",
       "\\item 'miglitol'\n",
       "\\item 'tolazamide'\n",
       "\\item 'insulin'\n",
       "\\item 'glyburide\\_metformin'\n",
       "\\item 'glipizide\\_metformin'\n",
       "\\item 'change'\n",
       "\\item 'diabetesMed'\n",
       "\\end{enumerate*}\n"
      ],
      "text/markdown": [
       "1. 'race'\n",
       "2. 'gender'\n",
       "3. 'age'\n",
       "4. 'admission_type_id'\n",
       "5. 'discharge_disposition_id'\n",
       "6. 'admission_source_id'\n",
       "7. 'medical_specialty'\n",
       "8. 'max_glu_serum'\n",
       "9. 'A1Cresult'\n",
       "10. 'metformin'\n",
       "11. 'repaglinide'\n",
       "12. 'nateglinide'\n",
       "13. 'chlorpropamide'\n",
       "14. 'glimepiride'\n",
       "15. 'glipizide'\n",
       "16. 'glyburide'\n",
       "17. 'tolbutamide'\n",
       "18. 'pioglitazone'\n",
       "19. 'rosiglitazone'\n",
       "20. 'acarbose'\n",
       "21. 'miglitol'\n",
       "22. 'tolazamide'\n",
       "23. 'insulin'\n",
       "24. 'glyburide_metformin'\n",
       "25. 'glipizide_metformin'\n",
       "26. 'change'\n",
       "27. 'diabetesMed'\n",
       "\n",
       "\n"
      ],
      "text/plain": [
       " [1] \"race\"                     \"gender\"                  \n",
       " [3] \"age\"                      \"admission_type_id\"       \n",
       " [5] \"discharge_disposition_id\" \"admission_source_id\"     \n",
       " [7] \"medical_specialty\"        \"max_glu_serum\"           \n",
       " [9] \"A1Cresult\"                \"metformin\"               \n",
       "[11] \"repaglinide\"              \"nateglinide\"             \n",
       "[13] \"chlorpropamide\"           \"glimepiride\"             \n",
       "[15] \"glipizide\"                \"glyburide\"               \n",
       "[17] \"tolbutamide\"              \"pioglitazone\"            \n",
       "[19] \"rosiglitazone\"            \"acarbose\"                \n",
       "[21] \"miglitol\"                 \"tolazamide\"              \n",
       "[23] \"insulin\"                  \"glyburide_metformin\"     \n",
       "[25] \"glipizide_metformin\"      \"change\"                  \n",
       "[27] \"diabetesMed\"             "
      ]
     },
     "metadata": {},
     "output_type": "display_data"
    },
    {
     "data": {
      "text/html": [
       "<ol class=list-inline>\n",
       "\t<li>55971</li>\n",
       "\t<li>187</li>\n",
       "</ol>\n"
      ],
      "text/latex": [
       "\\begin{enumerate*}\n",
       "\\item 55971\n",
       "\\item 187\n",
       "\\end{enumerate*}\n"
      ],
      "text/markdown": [
       "1. 55971\n",
       "2. 187\n",
       "\n",
       "\n"
      ],
      "text/plain": [
       "[1] 55971   187"
      ]
     },
     "metadata": {},
     "output_type": "display_data"
    },
    {
     "data": {
      "text/html": [
       "<ol class=list-inline>\n",
       "\t<li>13992</li>\n",
       "\t<li>187</li>\n",
       "</ol>\n"
      ],
      "text/latex": [
       "\\begin{enumerate*}\n",
       "\\item 13992\n",
       "\\item 187\n",
       "\\end{enumerate*}\n"
      ],
      "text/markdown": [
       "1. 13992\n",
       "2. 187\n",
       "\n",
       "\n"
      ],
      "text/plain": [
       "[1] 13992   187"
      ]
     },
     "metadata": {},
     "output_type": "display_data"
    },
    {
     "data": {
      "text/html": [
       "<table>\n",
       "<thead><tr><th></th><th scope=col>time_in_hospital</th><th scope=col>num_lab_procedures</th><th scope=col>num_procedures</th><th scope=col>num_medications</th><th scope=col>number_outpatient</th><th scope=col>number_emergency</th><th scope=col>number_inpatient</th><th scope=col>number_diagnoses</th><th scope=col>raceAsian</th><th scope=col>raceCaucasian</th><th scope=col>⋯</th><th scope=col>insulinNo</th><th scope=col>insulinSteady</th><th scope=col>insulinUp</th><th scope=col>glyburide_metforminNo</th><th scope=col>glyburide_metforminSteady</th><th scope=col>glyburide_metforminUp</th><th scope=col>glipizide_metforminSteady</th><th scope=col>changeNo</th><th scope=col>diabetesMedYes</th><th scope=col>readmitted</th></tr></thead>\n",
       "<tbody>\n",
       "\t<tr><th scope=row>1</th><td>1 </td><td>41</td><td>0 </td><td> 1</td><td>0 </td><td>0 </td><td>0 </td><td>1 </td><td>0 </td><td>1 </td><td>⋯ </td><td>1 </td><td>0 </td><td>0 </td><td>1 </td><td>0 </td><td>0 </td><td>0 </td><td>1 </td><td>0 </td><td>0 </td></tr>\n",
       "\t<tr><th scope=row>2</th><td>3 </td><td>59</td><td>0 </td><td>18</td><td>0 </td><td>0 </td><td>0 </td><td>9 </td><td>0 </td><td>1 </td><td>⋯ </td><td>0 </td><td>0 </td><td>1 </td><td>1 </td><td>0 </td><td>0 </td><td>0 </td><td>0 </td><td>1 </td><td>0 </td></tr>\n",
       "\t<tr><th scope=row>4</th><td>2 </td><td>44</td><td>1 </td><td>16</td><td>0 </td><td>0 </td><td>0 </td><td>7 </td><td>0 </td><td>1 </td><td>⋯ </td><td>0 </td><td>0 </td><td>1 </td><td>1 </td><td>0 </td><td>0 </td><td>0 </td><td>0 </td><td>1 </td><td>0 </td></tr>\n",
       "\t<tr><th scope=row>5</th><td>1 </td><td>51</td><td>0 </td><td> 8</td><td>0 </td><td>0 </td><td>0 </td><td>5 </td><td>0 </td><td>1 </td><td>⋯ </td><td>0 </td><td>1 </td><td>0 </td><td>1 </td><td>0 </td><td>0 </td><td>0 </td><td>0 </td><td>1 </td><td>0 </td></tr>\n",
       "\t<tr><th scope=row>6</th><td>3 </td><td>31</td><td>6 </td><td>16</td><td>0 </td><td>0 </td><td>0 </td><td>9 </td><td>0 </td><td>1 </td><td>⋯ </td><td>0 </td><td>1 </td><td>0 </td><td>1 </td><td>0 </td><td>0 </td><td>0 </td><td>1 </td><td>1 </td><td>0 </td></tr>\n",
       "\t<tr><th scope=row>8</th><td>5 </td><td>73</td><td>0 </td><td>12</td><td>0 </td><td>0 </td><td>0 </td><td>8 </td><td>0 </td><td>1 </td><td>⋯ </td><td>1 </td><td>0 </td><td>0 </td><td>1 </td><td>0 </td><td>0 </td><td>0 </td><td>1 </td><td>1 </td><td>0 </td></tr>\n",
       "</tbody>\n",
       "</table>\n"
      ],
      "text/latex": [
       "\\begin{tabular}{r|lllllllllllllllllllllllllllllllllllllllllllllllllllllllllllllllllllllllllllllllllllllllllllllllllllllllllllllllllllllllllllllllllllllllllllllllllllllllllllllllllllllllllllllllllllllllllll}\n",
       "  & time\\_in\\_hospital & num\\_lab\\_procedures & num\\_procedures & num\\_medications & number\\_outpatient & number\\_emergency & number\\_inpatient & number\\_diagnoses & raceAsian & raceCaucasian & ⋯ & insulinNo & insulinSteady & insulinUp & glyburide\\_metforminNo & glyburide\\_metforminSteady & glyburide\\_metforminUp & glipizide\\_metforminSteady & changeNo & diabetesMedYes & readmitted\\\\\n",
       "\\hline\n",
       "\t1 & 1  & 41 & 0  &  1 & 0  & 0  & 0  & 1  & 0  & 1  & ⋯  & 1  & 0  & 0  & 1  & 0  & 0  & 0  & 1  & 0  & 0 \\\\\n",
       "\t2 & 3  & 59 & 0  & 18 & 0  & 0  & 0  & 9  & 0  & 1  & ⋯  & 0  & 0  & 1  & 1  & 0  & 0  & 0  & 0  & 1  & 0 \\\\\n",
       "\t4 & 2  & 44 & 1  & 16 & 0  & 0  & 0  & 7  & 0  & 1  & ⋯  & 0  & 0  & 1  & 1  & 0  & 0  & 0  & 0  & 1  & 0 \\\\\n",
       "\t5 & 1  & 51 & 0  &  8 & 0  & 0  & 0  & 5  & 0  & 1  & ⋯  & 0  & 1  & 0  & 1  & 0  & 0  & 0  & 0  & 1  & 0 \\\\\n",
       "\t6 & 3  & 31 & 6  & 16 & 0  & 0  & 0  & 9  & 0  & 1  & ⋯  & 0  & 1  & 0  & 1  & 0  & 0  & 0  & 1  & 1  & 0 \\\\\n",
       "\t8 & 5  & 73 & 0  & 12 & 0  & 0  & 0  & 8  & 0  & 1  & ⋯  & 1  & 0  & 0  & 1  & 0  & 0  & 0  & 1  & 1  & 0 \\\\\n",
       "\\end{tabular}\n"
      ],
      "text/markdown": [
       "\n",
       "| <!--/--> | time_in_hospital | num_lab_procedures | num_procedures | num_medications | number_outpatient | number_emergency | number_inpatient | number_diagnoses | raceAsian | raceCaucasian | ⋯ | insulinNo | insulinSteady | insulinUp | glyburide_metforminNo | glyburide_metforminSteady | glyburide_metforminUp | glipizide_metforminSteady | changeNo | diabetesMedYes | readmitted | \n",
       "|---|---|---|---|---|---|\n",
       "| 1 | 1  | 41 | 0  |  1 | 0  | 0  | 0  | 1  | 0  | 1  | ⋯  | 1  | 0  | 0  | 1  | 0  | 0  | 0  | 1  | 0  | 0  | \n",
       "| 2 | 3  | 59 | 0  | 18 | 0  | 0  | 0  | 9  | 0  | 1  | ⋯  | 0  | 0  | 1  | 1  | 0  | 0  | 0  | 0  | 1  | 0  | \n",
       "| 4 | 2  | 44 | 1  | 16 | 0  | 0  | 0  | 7  | 0  | 1  | ⋯  | 0  | 0  | 1  | 1  | 0  | 0  | 0  | 0  | 1  | 0  | \n",
       "| 5 | 1  | 51 | 0  |  8 | 0  | 0  | 0  | 5  | 0  | 1  | ⋯  | 0  | 1  | 0  | 1  | 0  | 0  | 0  | 0  | 1  | 0  | \n",
       "| 6 | 3  | 31 | 6  | 16 | 0  | 0  | 0  | 9  | 0  | 1  | ⋯  | 0  | 1  | 0  | 1  | 0  | 0  | 0  | 1  | 1  | 0  | \n",
       "| 8 | 5  | 73 | 0  | 12 | 0  | 0  | 0  | 8  | 0  | 1  | ⋯  | 1  | 0  | 0  | 1  | 0  | 0  | 0  | 1  | 1  | 0  | \n",
       "\n",
       "\n"
      ],
      "text/plain": [
       "  time_in_hospital num_lab_procedures num_procedures num_medications\n",
       "1 1                41                 0               1             \n",
       "2 3                59                 0              18             \n",
       "4 2                44                 1              16             \n",
       "5 1                51                 0               8             \n",
       "6 3                31                 6              16             \n",
       "8 5                73                 0              12             \n",
       "  number_outpatient number_emergency number_inpatient number_diagnoses\n",
       "1 0                 0                0                1               \n",
       "2 0                 0                0                9               \n",
       "4 0                 0                0                7               \n",
       "5 0                 0                0                5               \n",
       "6 0                 0                0                9               \n",
       "8 0                 0                0                8               \n",
       "  raceAsian raceCaucasian ⋯ insulinNo insulinSteady insulinUp\n",
       "1 0         1             ⋯ 1         0             0        \n",
       "2 0         1             ⋯ 0         0             1        \n",
       "4 0         1             ⋯ 0         0             1        \n",
       "5 0         1             ⋯ 0         1             0        \n",
       "6 0         1             ⋯ 0         1             0        \n",
       "8 0         1             ⋯ 1         0             0        \n",
       "  glyburide_metforminNo glyburide_metforminSteady glyburide_metforminUp\n",
       "1 1                     0                         0                    \n",
       "2 1                     0                         0                    \n",
       "4 1                     0                         0                    \n",
       "5 1                     0                         0                    \n",
       "6 1                     0                         0                    \n",
       "8 1                     0                         0                    \n",
       "  glipizide_metforminSteady changeNo diabetesMedYes readmitted\n",
       "1 0                         1        0              0         \n",
       "2 0                         0        1              0         \n",
       "4 0                         0        1              0         \n",
       "5 0                         0        1              0         \n",
       "6 0                         1        1              0         \n",
       "8 0                         1        1              0         "
      ]
     },
     "metadata": {},
     "output_type": "display_data"
    }
   ],
   "source": [
    "# # Build the design matrix by expanding the factor variables into dummy variables\n",
    "# # We remove the columns 'diag_1', 'diag_2', 'diag_3' becasue they have any different categories and take much time to operate\n",
    "# excludVariables <- c('diag_1', 'diag_2', 'diag_3')\n",
    "# numericFeatures <- diabetic.numericCols\n",
    "# nominalFeatures <- diabetic.nominalCols\n",
    "# nominalFeatures <- setdiff(nominalFeatures, excludVariables)\n",
    "# nominalFeatures\n",
    "\n",
    "# diabetic.data.dummy <- factorToDummy_DF_Builder(dataFrameIN=diabetic.data, \n",
    "#                                                    numericCols=numericFeatures, \n",
    "#                                                    factorCols=nominalFeatures, \n",
    "#                                                    labelCol='readmitted')\n",
    "\n",
    "\n",
    "# dataOut.dummy <- stratifiedSampling(dataIN=diabetic.data.dummy, sample_on_col='readmitted', trainPrcnt=0.8, seed=45223)\n",
    "\n",
    "# diabetic.trainData.dummy <- dataOut.dummy[[1]]\n",
    "# diabetic.testData.dummy <- dataOut.dummy[[2]]\n",
    "\n",
    "\n",
    "# # diabetic.trainLabel.dummy <- diabetic.trainData.dummy$readmitted\n",
    "# # diabetic.trainData.dummy <- subset(diabetic.trainData.dummy, select =-c(readmitted))\n",
    "\n",
    "# # diabetic.testLabel.dummy <- diabetic.testData.dummy$readmitted\n",
    "# # diabetic.testData.dummy <- subset(diabetic.testData.dummy, select =-c(readmitted))\n",
    "\n",
    "# dim(diabetic.trainData.dummy)\n",
    "# dim(diabetic.testData.dummy)\n",
    "# head(diabetic.trainData.dummy)"
   ]
  },
  {
   "cell_type": "code",
   "execution_count": 9,
   "metadata": {
    "collapsed": false,
    "deletable": true,
    "editable": true
   },
   "outputs": [
    {
     "data": {
      "text/html": [
       "<table>\n",
       "<thead><tr><th></th><th scope=col>train</th><th scope=col>test</th></tr></thead>\n",
       "<tbody>\n",
       "\t<tr><th scope=row>genderUnknown.Invalid</th><td>2</td><td>1</td></tr>\n",
       "\t<tr><th scope=row>discharge_disposition_id10</th><td>2</td><td>1</td></tr>\n",
       "\t<tr><th scope=row>discharge_disposition_id12</th><td>2</td><td>1</td></tr>\n",
       "\t<tr><th scope=row>discharge_disposition_id17</th><td>2</td><td>1</td></tr>\n",
       "\t<tr><th scope=row>admission_source_id11</th><td>2</td><td>1</td></tr>\n",
       "\t<tr><th scope=row>admission_source_id13</th><td>1</td><td>2</td></tr>\n",
       "\t<tr><th scope=row>admission_source_id14</th><td>1</td><td>2</td></tr>\n",
       "\t<tr><th scope=row>admission_source_id22</th><td>2</td><td>1</td></tr>\n",
       "\t<tr><th scope=row>admission_source_id25</th><td>2</td><td>1</td></tr>\n",
       "\t<tr><th scope=row>medical_specialtyPediatrics_EmergencyMedicine</th><td>2</td><td>1</td></tr>\n",
       "\t<tr><th scope=row>medical_specialtyProctology</th><td>2</td><td>1</td></tr>\n",
       "\t<tr><th scope=row>medical_specialtyPsychiatry_Addictive</th><td>2</td><td>1</td></tr>\n",
       "\t<tr><th scope=row>medical_specialtySurgery_Pediatric</th><td>2</td><td>1</td></tr>\n",
       "\t<tr><th scope=row>medical_specialtySurgery_PlasticwithinHeadandNeck</th><td>2</td><td>1</td></tr>\n",
       "\t<tr><th scope=row>medical_specialtyDermatology</th><td>1</td><td>2</td></tr>\n",
       "\t<tr><th scope=row>medical_specialtyNeurophysiology</th><td>1</td><td>2</td></tr>\n",
       "\t<tr><th scope=row>medical_specialtyPathology</th><td>2</td><td>1</td></tr>\n",
       "\t<tr><th scope=row>medical_specialtyPerinatology</th><td>2</td><td>1</td></tr>\n",
       "\t<tr><th scope=row>medical_specialtySpeech</th><td>2</td><td>1</td></tr>\n",
       "\t<tr><th scope=row>medical_specialtySportsMedicine</th><td>2</td><td>1</td></tr>\n",
       "\t<tr><th scope=row>medical_specialtyDCPTEAM</th><td>2</td><td>1</td></tr>\n",
       "\t<tr><th scope=row>medical_specialtyResident</th><td>1</td><td>2</td></tr>\n",
       "\t<tr><th scope=row>chlorpropamideUp</th><td>2</td><td>1</td></tr>\n",
       "\t<tr><th scope=row>miglitolUp</th><td>2</td><td>1</td></tr>\n",
       "\t<tr><th scope=row>glyburide_metforminUp</th><td>2</td><td>1</td></tr>\n",
       "</tbody>\n",
       "</table>\n"
      ],
      "text/latex": [
       "\\begin{tabular}{r|ll}\n",
       "  & train & test\\\\\n",
       "\\hline\n",
       "\tgenderUnknown.Invalid & 2 & 1\\\\\n",
       "\tdischarge\\_disposition\\_id10 & 2 & 1\\\\\n",
       "\tdischarge\\_disposition\\_id12 & 2 & 1\\\\\n",
       "\tdischarge\\_disposition\\_id17 & 2 & 1\\\\\n",
       "\tadmission\\_source\\_id11 & 2 & 1\\\\\n",
       "\tadmission\\_source\\_id13 & 1 & 2\\\\\n",
       "\tadmission\\_source\\_id14 & 1 & 2\\\\\n",
       "\tadmission\\_source\\_id22 & 2 & 1\\\\\n",
       "\tadmission\\_source\\_id25 & 2 & 1\\\\\n",
       "\tmedical\\_specialtyPediatrics\\_EmergencyMedicine & 2 & 1\\\\\n",
       "\tmedical\\_specialtyProctology & 2 & 1\\\\\n",
       "\tmedical\\_specialtyPsychiatry\\_Addictive & 2 & 1\\\\\n",
       "\tmedical\\_specialtySurgery\\_Pediatric & 2 & 1\\\\\n",
       "\tmedical\\_specialtySurgery\\_PlasticwithinHeadandNeck & 2 & 1\\\\\n",
       "\tmedical\\_specialtyDermatology & 1 & 2\\\\\n",
       "\tmedical\\_specialtyNeurophysiology & 1 & 2\\\\\n",
       "\tmedical\\_specialtyPathology & 2 & 1\\\\\n",
       "\tmedical\\_specialtyPerinatology & 2 & 1\\\\\n",
       "\tmedical\\_specialtySpeech & 2 & 1\\\\\n",
       "\tmedical\\_specialtySportsMedicine & 2 & 1\\\\\n",
       "\tmedical\\_specialtyDCPTEAM & 2 & 1\\\\\n",
       "\tmedical\\_specialtyResident & 1 & 2\\\\\n",
       "\tchlorpropamideUp & 2 & 1\\\\\n",
       "\tmiglitolUp & 2 & 1\\\\\n",
       "\tglyburide\\_metforminUp & 2 & 1\\\\\n",
       "\\end{tabular}\n"
      ],
      "text/markdown": [
       "\n",
       "| <!--/--> | train | test | \n",
       "|---|---|---|---|---|---|---|---|---|---|---|---|---|---|---|---|---|---|---|---|---|---|---|---|---|\n",
       "| genderUnknown.Invalid | 2 | 1 | \n",
       "| discharge_disposition_id10 | 2 | 1 | \n",
       "| discharge_disposition_id12 | 2 | 1 | \n",
       "| discharge_disposition_id17 | 2 | 1 | \n",
       "| admission_source_id11 | 2 | 1 | \n",
       "| admission_source_id13 | 1 | 2 | \n",
       "| admission_source_id14 | 1 | 2 | \n",
       "| admission_source_id22 | 2 | 1 | \n",
       "| admission_source_id25 | 2 | 1 | \n",
       "| medical_specialtyPediatrics_EmergencyMedicine | 2 | 1 | \n",
       "| medical_specialtyProctology | 2 | 1 | \n",
       "| medical_specialtyPsychiatry_Addictive | 2 | 1 | \n",
       "| medical_specialtySurgery_Pediatric | 2 | 1 | \n",
       "| medical_specialtySurgery_PlasticwithinHeadandNeck | 2 | 1 | \n",
       "| medical_specialtyDermatology | 1 | 2 | \n",
       "| medical_specialtyNeurophysiology | 1 | 2 | \n",
       "| medical_specialtyPathology | 2 | 1 | \n",
       "| medical_specialtyPerinatology | 2 | 1 | \n",
       "| medical_specialtySpeech | 2 | 1 | \n",
       "| medical_specialtySportsMedicine | 2 | 1 | \n",
       "| medical_specialtyDCPTEAM | 2 | 1 | \n",
       "| medical_specialtyResident | 1 | 2 | \n",
       "| chlorpropamideUp | 2 | 1 | \n",
       "| miglitolUp | 2 | 1 | \n",
       "| glyburide_metforminUp | 2 | 1 | \n",
       "\n",
       "\n"
      ],
      "text/plain": [
       "                                                  train test\n",
       "genderUnknown.Invalid                             2     1   \n",
       "discharge_disposition_id10                        2     1   \n",
       "discharge_disposition_id12                        2     1   \n",
       "discharge_disposition_id17                        2     1   \n",
       "admission_source_id11                             2     1   \n",
       "admission_source_id13                             1     2   \n",
       "admission_source_id14                             1     2   \n",
       "admission_source_id22                             2     1   \n",
       "admission_source_id25                             2     1   \n",
       "medical_specialtyPediatrics_EmergencyMedicine     2     1   \n",
       "medical_specialtyProctology                       2     1   \n",
       "medical_specialtyPsychiatry_Addictive             2     1   \n",
       "medical_specialtySurgery_Pediatric                2     1   \n",
       "medical_specialtySurgery_PlasticwithinHeadandNeck 2     1   \n",
       "medical_specialtyDermatology                      1     2   \n",
       "medical_specialtyNeurophysiology                  1     2   \n",
       "medical_specialtyPathology                        2     1   \n",
       "medical_specialtyPerinatology                     2     1   \n",
       "medical_specialtySpeech                           2     1   \n",
       "medical_specialtySportsMedicine                   2     1   \n",
       "medical_specialtyDCPTEAM                          2     1   \n",
       "medical_specialtyResident                         1     2   \n",
       "chlorpropamideUp                                  2     1   \n",
       "miglitolUp                                        2     1   \n",
       "glyburide_metforminUp                             2     1   "
      ]
     },
     "metadata": {},
     "output_type": "display_data"
    }
   ],
   "source": [
    "# A SMALL SANITY CHECK. Sometimes categories can be very very sparse. For example if the category is \"age\" then having a age of (100-120) is very rare\n",
    "# There may be only 2-5 entries in a dataset of 50,000. So when we build the dataframe with all the dummy variables and they perform train test split then there\n",
    "# can be a high chance that the (age_100_120) data point end up only in the training set and hence in the test dataset the feature \"age_100_120\" \n",
    "# would have all zeros entry.\n",
    "\n",
    "# Check if all the columns of the trainData and testData matches\n",
    "stopifnot(colnames(diabetic.trainData.dummy) == colnames(diabetic.testData.dummy))\n",
    "\n",
    "# Here we peerform a small check.\n",
    "df_checkSparcity = data.frame()\n",
    "for (cols in colnames(diabetic.trainData.dummy)){\n",
    "    trainUnqCol <- length(unique(diabetic.trainData.dummy[[cols]]))\n",
    "    testUnqCol <- length(unique(diabetic.testData.dummy[[cols]]))\n",
    "    \n",
    "    if (trainUnqCol ==1 || testUnqCol==1){\n",
    "        df_checkSparcity[cols, 'train'] <- trainUnqCol\n",
    "        df_checkSparcity[cols, 'test'] <- testUnqCol\n",
    "    }\n",
    "    \n",
    "}\n",
    "\n",
    "df_checkSparcity"
   ]
  },
  {
   "cell_type": "markdown",
   "metadata": {
    "deletable": true,
    "editable": true
   },
   "source": [
    "# GLM-Stats\n",
    "-----"
   ]
  },
  {
   "cell_type": "markdown",
   "metadata": {
    "deletable": true,
    "editable": true
   },
   "source": [
    "#### Each Independednt Vs Dependent statistics:"
   ]
  },
  {
   "cell_type": "code",
   "execution_count": 9,
   "metadata": {
    "collapsed": false,
    "deletable": true,
    "editable": true
   },
   "outputs": [
    {
     "data": {
      "text/html": [
       "<table>\n",
       "<thead><tr><th></th><th scope=col>numCategories</th><th scope=col>numSignCategories</th><th scope=col>signF1</th><th scope=col>signF2</th><th scope=col>signF3</th><th scope=col>nullDeviance</th><th scope=col>residualDeviance</th><th scope=col>aic</th><th scope=col>mean(resid)</th><th scope=col>min(resid)</th><th scope=col>q1(resid)</th><th scope=col>median(resid)</th><th scope=col>q3(resid)</th><th scope=col>max(resid)</th></tr></thead>\n",
       "<tbody>\n",
       "\t<tr><th scope=row>time_in_hospital</th><td> 1                                      </td><td> 1                                      </td><td>time_in_hospital                        </td><td>NaN                                     </td><td>NaN                                     </td><td>42232.55                                </td><td>42024.73                                </td><td>42028.73                                </td><td>-0.1965400                              </td><td>-0.5706908                              </td><td>-0.4399376                              </td><td>-0.4147951                              </td><td>-0.4027225                              </td><td>2.284446                                </td></tr>\n",
       "\t<tr><th scope=row>num_lab_procedures</th><td> 1                                      </td><td> 1                                      </td><td>num_lab_procedures                      </td><td>NaN                                     </td><td>NaN                                     </td><td>42232.55                                </td><td>42159.37                                </td><td>42163.37                                </td><td>-0.1972476                              </td><td>-0.5342494                              </td><td>-0.4469925                              </td><td>-0.4313882                              </td><td>-0.4105993                              </td><td>2.296575                                </td></tr>\n",
       "\t<tr><th scope=row>num_procedures</th><td> 1                                      </td><td> 0                                      </td><td>NaN                                     </td><td>NaN                                     </td><td>NaN                                     </td><td>42232.55                                </td><td>42232.55                                </td><td>42236.55                                </td><td>-0.1976713                              </td><td>-0.4335696                              </td><td>-0.4335696                              </td><td>-0.4335357                              </td><td>-0.4334680                              </td><td>2.196395                                </td></tr>\n",
       "\t<tr><th scope=row>num_medications</th><td> 1                                      </td><td> 1                                      </td><td>num_medications                         </td><td>NaN                                     </td><td>NaN                                     </td><td>42232.55                                </td><td>42144.24                                </td><td>42148.24                                </td><td>-0.1971891                              </td><td>-0.6591008                              </td><td>-0.4422443                              </td><td>-0.4244748                              </td><td>-0.4129922                              </td><td>2.284654                                </td></tr>\n",
       "\t<tr><th scope=row>number_outpatient</th><td> 1                                      </td><td> 1                                      </td><td>number_outpatient                       </td><td>NaN                                     </td><td>NaN                                     </td><td>42232.55                                </td><td>42227.82                                </td><td>42231.82                                </td><td>-0.1976464                              </td><td>-0.7039307                              </td><td>-0.4320057                              </td><td>-0.4320057                              </td><td>-0.4320057                              </td><td>2.199125                                </td></tr>\n",
       "\t<tr><th scope=row>number_emergency</th><td> 1                                      </td><td> 1                                      </td><td>number_emergency                        </td><td>NaN                                     </td><td>NaN                                     </td><td>42232.55                                </td><td>42192.35                                </td><td>42196.35                                </td><td>-0.1975489                              </td><td>-2.5960734                              </td><td>-0.4302337                              </td><td>-0.4302337                              </td><td>-0.4302337                              </td><td>2.202689                                </td></tr>\n",
       "\t<tr><th scope=row>number_inpatient</th><td> 1                                      </td><td> 1                                      </td><td>number_inpatient                        </td><td>NaN                                     </td><td>NaN                                     </td><td>42232.55                                </td><td>41732.53                                </td><td>41736.53                                </td><td>-0.1956751                              </td><td>-1.9293266                              </td><td>-0.4154094                              </td><td>-0.4154094                              </td><td>-0.4154094                              </td><td>2.232917                                </td></tr>\n",
       "\t<tr><th scope=row>number_diagnoses</th><td> 1                                      </td><td> 1                                      </td><td>number_diagnoses                        </td><td>NaN                                     </td><td>NaN                                     </td><td>42232.55                                </td><td>42083.06                                </td><td>42087.06                                </td><td>-0.1967853                              </td><td>-0.6084376                              </td><td>-0.4628645                              </td><td>-0.4273547                              </td><td>-0.3943411                              </td><td>2.411080                                </td></tr>\n",
       "\t<tr><th scope=row>race</th><td> 5                                      </td><td> 3                                      </td><td>raceOther                               </td><td>racemissing                             </td><td>raceCaucasian                           </td><td>42232.55                                </td><td>42213.06                                </td><td>42225.06                                </td><td>-0.1975540                              </td><td>-0.4388826                              </td><td>-0.4388826                              </td><td>-0.4388826                              </td><td>-0.4256365                              </td><td>2.314333                                </td></tr>\n",
       "\t<tr><th scope=row>gender</th><td> 2                                      </td><td> 0                                      </td><td>NaN                                     </td><td>NaN                                     </td><td>NaN                                     </td><td>42232.55                                </td><td>42231.65                                </td><td>42237.65                                </td><td>-0.1976617                              </td><td>-0.4350235                              </td><td>-0.4350235                              </td><td>-0.4318286                              </td><td>-0.4318286                              </td><td>2.199480                                </td></tr>\n",
       "\t<tr><th scope=row>age</th><td> 9                                      </td><td> 8                                      </td><td>age_80_90_                              </td><td>age_70_80_                              </td><td>age_90_100_                             </td><td>42232.55                                </td><td>42035.84                                </td><td>42055.84                                </td><td>-0.1964811                              </td><td>-0.4773181                              </td><td>-0.4647569                              </td><td>-0.4342733                              </td><td>-0.3842920                              </td><td>2.804220                                </td></tr>\n",
       "\t<tr><th scope=row>admission_type_id</th><td> 7                                      </td><td> 2                                      </td><td>admission_type_id3                      </td><td>admission_type_id6                      </td><td>NaN                                     </td><td>42232.55                                </td><td>42212.11                                </td><td>42228.11                                </td><td>-0.1975253                              </td><td>-0.4853515                              </td><td>-0.4384579                              </td><td>-0.4384579                              </td><td>-0.4157667                              </td><td>2.292946                                </td></tr>\n",
       "\t<tr><th scope=row>discharge_disposition_id</th><td>20                                      </td><td>13                                      </td><td>discharge_disposition_id22              </td><td>discharge_disposition_id3               </td><td>discharge_disposition_id5               </td><td>42232.55                                </td><td>41174.30                                </td><td>41216.30                                </td><td>-0.1924453                              </td><td>-1.1774100                              </td><td>-0.4473008                              </td><td>-0.3794443                              </td><td>-0.3794443                              </td><td>2.638651                                </td></tr>\n",
       "\t<tr><th scope=row>admission_source_id</th><td> 1                                      </td><td> 0                                      </td><td>NaN                                     </td><td>NaN                                     </td><td>NaN                                     </td><td>42232.55                                </td><td>42230.22                                </td><td>42234.22                                </td><td>-0.1976580                              </td><td>-0.4531888                              </td><td>-0.4348483                              </td><td>-0.4348483                              </td><td>-0.4288859                              </td><td>2.205407                                </td></tr>\n",
       "\t<tr><th scope=row>medical_specialty</th><td>70                                      </td><td>26                                      </td><td>medical_specialtyOtolaryngology         </td><td>medical_specialtyObstetricsandGynecology</td><td>medical_specialtyPediatrics_CriticalCare</td><td>42232.55                                </td><td>41997.68                                </td><td>42139.68                                </td><td>-0.1957774                              </td><td>-0.9005166                              </td><td>-0.4527860                              </td><td>-0.4399747                              </td><td>-0.4038856                              </td><td>2.929321                                </td></tr>\n",
       "\t<tr><th scope=row>max_glu_serum</th><td> 3                                      </td><td> 1                                      </td><td>max_glu_serumNone                       </td><td>NaN                                     </td><td>NaN                                     </td><td>42232.55                                </td><td>42225.86                                </td><td>42233.86                                </td><td>-0.1976342                              </td><td>-0.4803792                              </td><td>-0.4320084                              </td><td>-0.4320084                              </td><td>-0.4320084                              </td><td>2.199119                                </td></tr>\n",
       "\t<tr><th scope=row>A1Cresult</th><td> 3                                      </td><td> 0                                      </td><td>NaN                                     </td><td>NaN                                     </td><td>NaN                                     </td><td>42232.55                                </td><td>42225.11                                </td><td>42233.11                                </td><td>-0.1976276                              </td><td>-0.4368294                              </td><td>-0.4368294                              </td><td>-0.4368294                              </td><td>-0.4243348                              </td><td>2.238663                                </td></tr>\n",
       "\t<tr><th scope=row>metformin</th><td> 3                                      </td><td> 1                                      </td><td>metforminUp                             </td><td>NaN                                     </td><td>NaN                                     </td><td>42232.55                                </td><td>42217.77                                </td><td>42225.77                                </td><td>-0.1975837                              </td><td>-0.4618192                              </td><td>-0.4381668                              </td><td>-0.4381668                              </td><td>-0.4166005                              </td><td>2.309022                                </td></tr>\n",
       "\t<tr><th scope=row>repaglinide</th><td> 3                                      </td><td> 1                                      </td><td>repaglinideUp                           </td><td>NaN                                     </td><td>NaN                                     </td><td>42232.55                                </td><td>42213.16                                </td><td>42221.16                                </td><td>-0.1975733                              </td><td>-0.6889531                              </td><td>-0.4323547                              </td><td>-0.4323547                              </td><td>-0.4323547                              </td><td>2.581551                                </td></tr>\n",
       "\t<tr><th scope=row>nateglinide</th><td> 3                                      </td><td> 0                                      </td><td>NaN                                     </td><td>NaN                                     </td><td>NaN                                     </td><td>42232.55                                </td><td>42227.63                                </td><td>42235.63                                </td><td>-0.1976060                              </td><td>-0.4337415                              </td><td>-0.4337415                              </td><td>-0.4337415                              </td><td>-0.4337415                              </td><td>2.239975                                </td></tr>\n",
       "\t<tr><th scope=row>chlorpropamide</th><td> 3                                      </td><td> 0                                      </td><td>NaN                                     </td><td>NaN                                     </td><td>NaN                                     </td><td>42232.55                                </td><td>42229.71                                </td><td>42237.71                                </td><td>-0.1976454                              </td><td>-0.4336434                              </td><td>-0.4336434                              </td><td>-0.4336434                              </td><td>-0.4336434                              </td><td>2.486380                                </td></tr>\n",
       "\t<tr><th scope=row>glimepiride</th><td> 3                                      </td><td> 2                                      </td><td>glimepirideSteady                       </td><td>glimepirideNo                           </td><td>NaN                                     </td><td>42232.55                                </td><td>42228.65                                </td><td>42236.65                                </td><td>-0.1976503                              </td><td>-0.5328607                              </td><td>-0.4338079                              </td><td>-0.4338079                              </td><td>-0.4338079                              </td><td>2.220487                                </td></tr>\n",
       "\t<tr><th scope=row>glipizide</th><td> 3                                      </td><td> 2                                      </td><td>glipizideNo                             </td><td>glipizideSteady                         </td><td>NaN                                     </td><td>42232.55                                </td><td>42219.76                                </td><td>42227.76                                </td><td>-0.1976020                              </td><td>-0.5264024                              </td><td>-0.4306348                              </td><td>-0.4306348                              </td><td>-0.4306348                              </td><td>2.201881                                </td></tr>\n",
       "\t<tr><th scope=row>glyburide</th><td> 3                                      </td><td> 0                                      </td><td>NaN                                     </td><td>NaN                                     </td><td>NaN                                     </td><td>42232.55                                </td><td>42230.82                                </td><td>42238.82                                </td><td>-0.1976614                              </td><td>-0.4498894                              </td><td>-0.4322670                              </td><td>-0.4322670                              </td><td>-0.4322670                              </td><td>2.198600                                </td></tr>\n",
       "\t<tr><th scope=row>tolbutamide</th><td> 1                                      </td><td> 0                                      </td><td>NaN                                     </td><td>NaN                                     </td><td>NaN                                     </td><td>42232.55                                </td><td>42232.33                                </td><td>42236.33                                </td><td>-0.1976699                              </td><td>-0.4335403                              </td><td>-0.4335403                              </td><td>-0.4335403                              </td><td>-0.4335403                              </td><td>2.380426                                </td></tr>\n",
       "\t<tr><th scope=row>pioglitazone</th><td> 3                                      </td><td> 0                                      </td><td>NaN                                     </td><td>NaN                                     </td><td>NaN                                     </td><td>42232.55                                </td><td>42229.53                                </td><td>42237.53                                </td><td>-0.1976546                              </td><td>-0.5010743                              </td><td>-0.4340283                              </td><td>-0.4340283                              </td><td>-0.4340283                              </td><td>2.216455                                </td></tr>\n",
       "\t<tr><th scope=row>rosiglitazone</th><td> 3                                      </td><td> 0                                      </td><td>NaN                                     </td><td>NaN                                     </td><td>NaN                                     </td><td>42232.55                                </td><td>42230.94                                </td><td>42238.94                                </td><td>-0.1976610                              </td><td>-0.4553645                              </td><td>-0.4338618                              </td><td>-0.4338618                              </td><td>-0.4338618                              </td><td>2.415687                                </td></tr>\n",
       "\t<tr><th scope=row>acarbose</th><td> 2                                      </td><td> 0                                      </td><td>NaN                                     </td><td>NaN                                     </td><td>NaN                                     </td><td>42232.55                                </td><td>42230.27                                </td><td>42236.27                                </td><td>-0.1976590                              </td><td>-0.6680472                              </td><td>-0.4336280                              </td><td>-0.4336280                              </td><td>-0.4336280                              </td><td>2.316063                                </td></tr>\n",
       "\t<tr><th scope=row>miglitol</th><td> 3                                      </td><td> 0                                      </td><td>NaN                                     </td><td>NaN                                     </td><td>NaN                                     </td><td>42232.55                                </td><td>42231.88                                </td><td>42239.88                                </td><td>-0.1976643                              </td><td>-0.4335501                              </td><td>-0.4335501                              </td><td>-0.4335501                              </td><td>-0.4335501                              </td><td>2.404318                                </td></tr>\n",
       "\t<tr><th scope=row>tolazamide</th><td> 1                                      </td><td> 0                                      </td><td>NaN                                     </td><td>NaN                                     </td><td>NaN                                     </td><td>42232.55                                </td><td>42231.05                                </td><td>42235.05                                </td><td>-0.1976604                              </td><td>-0.4335826                              </td><td>-0.4335826                              </td><td>-0.4335826                              </td><td>-0.4335826                              </td><td>2.608140                                </td></tr>\n",
       "\t<tr><th scope=row>insulin</th><td> 3                                      </td><td> 2                                      </td><td>insulinNo                               </td><td>insulinSteady                           </td><td>NaN                                     </td><td>42232.55                                </td><td>42182.60                                </td><td>42190.60                                </td><td>-0.1973867                              </td><td>-0.4721243                              </td><td>-0.4406867                              </td><td>-0.4157460                              </td><td>-0.4157460                              </td><td>2.232223                                </td></tr>\n",
       "\t<tr><th scope=row>glyburide_metformin</th><td> 3                                      </td><td> 0                                      </td><td>NaN                                     </td><td>NaN                                     </td><td>NaN                                     </td><td>42232.55                                </td><td>42229.55                                </td><td>42237.55                                </td><td>-0.1976446                              </td><td>-0.7585276                              </td><td>-0.4337214                              </td><td>-0.4337214                              </td><td>-0.4337214                              </td><td>2.256795                                </td></tr>\n",
       "\t<tr><th scope=row>glipizide_metformin</th><td> 1                                      </td><td> 0                                      </td><td>NaN                                     </td><td>NaN                                     </td><td>NaN                                     </td><td>42232.55                                </td><td>42231.24                                </td><td>42235.24                                </td><td>-0.1976531                              </td><td>-0.4335441                              </td><td>-0.4335441                              </td><td>-0.4335441                              </td><td>-0.4335441                              </td><td>2.196039                                </td></tr>\n",
       "\t<tr><th scope=row>change</th><td> 1                                      </td><td> 1                                      </td><td>changeNo                                </td><td>NaN                                     </td><td>NaN                                     </td><td>42232.55                                </td><td>42217.51                                </td><td>42221.51                                </td><td>-0.1975847                              </td><td>-0.4451464                              </td><td>-0.4451464                              </td><td>-0.4238168                              </td><td>-0.4238168                              </td><td>2.215682                                </td></tr>\n",
       "\t<tr><th scope=row>diabetesMed</th><td> 1                                      </td><td> 1                                      </td><td>diabetesMedYes                          </td><td>NaN                                     </td><td>NaN                                     </td><td>42232.55                                </td><td>42176.51                                </td><td>42180.51                                </td><td>-0.1973378                              </td><td>-0.4446692                              </td><td>-0.4446692                              </td><td>-0.4446692                              </td><td>-0.3962069                              </td><td>2.273224                                </td></tr>\n",
       "</tbody>\n",
       "</table>\n"
      ],
      "text/latex": [
       "\\begin{tabular}{r|llllllllllllll}\n",
       "  & numCategories & numSignCategories & signF1 & signF2 & signF3 & nullDeviance & residualDeviance & aic & mean(resid) & min(resid) & q1(resid) & median(resid) & q3(resid) & max(resid)\\\\\n",
       "\\hline\n",
       "\ttime\\_in\\_hospital &  1                                       &  1                                       & time\\_in\\_hospital                     & NaN                                      & NaN                                      & 42232.55                                 & 42024.73                                 & 42028.73                                 & -0.1965400                               & -0.5706908                               & -0.4399376                               & -0.4147951                               & -0.4027225                               & 2.284446                                \\\\\n",
       "\tnum\\_lab\\_procedures &  1                                       &  1                                       & num\\_lab\\_procedures                   & NaN                                      & NaN                                      & 42232.55                                 & 42159.37                                 & 42163.37                                 & -0.1972476                               & -0.5342494                               & -0.4469925                               & -0.4313882                               & -0.4105993                               & 2.296575                                \\\\\n",
       "\tnum\\_procedures &  1                                       &  0                                       & NaN                                      & NaN                                      & NaN                                      & 42232.55                                 & 42232.55                                 & 42236.55                                 & -0.1976713                               & -0.4335696                               & -0.4335696                               & -0.4335357                               & -0.4334680                               & 2.196395                                \\\\\n",
       "\tnum\\_medications &  1                                       &  1                                       & num\\_medications                        & NaN                                      & NaN                                      & 42232.55                                 & 42144.24                                 & 42148.24                                 & -0.1971891                               & -0.6591008                               & -0.4422443                               & -0.4244748                               & -0.4129922                               & 2.284654                                \\\\\n",
       "\tnumber\\_outpatient &  1                                       &  1                                       & number\\_outpatient                      & NaN                                      & NaN                                      & 42232.55                                 & 42227.82                                 & 42231.82                                 & -0.1976464                               & -0.7039307                               & -0.4320057                               & -0.4320057                               & -0.4320057                               & 2.199125                                \\\\\n",
       "\tnumber\\_emergency &  1                                       &  1                                       & number\\_emergency                       & NaN                                      & NaN                                      & 42232.55                                 & 42192.35                                 & 42196.35                                 & -0.1975489                               & -2.5960734                               & -0.4302337                               & -0.4302337                               & -0.4302337                               & 2.202689                                \\\\\n",
       "\tnumber\\_inpatient &  1                                       &  1                                       & number\\_inpatient                       & NaN                                      & NaN                                      & 42232.55                                 & 41732.53                                 & 41736.53                                 & -0.1956751                               & -1.9293266                               & -0.4154094                               & -0.4154094                               & -0.4154094                               & 2.232917                                \\\\\n",
       "\tnumber\\_diagnoses &  1                                       &  1                                       & number\\_diagnoses                       & NaN                                      & NaN                                      & 42232.55                                 & 42083.06                                 & 42087.06                                 & -0.1967853                               & -0.6084376                               & -0.4628645                               & -0.4273547                               & -0.3943411                               & 2.411080                                \\\\\n",
       "\trace &  5                                       &  3                                       & raceOther                                & racemissing                              & raceCaucasian                            & 42232.55                                 & 42213.06                                 & 42225.06                                 & -0.1975540                               & -0.4388826                               & -0.4388826                               & -0.4388826                               & -0.4256365                               & 2.314333                                \\\\\n",
       "\tgender &  2                                       &  0                                       & NaN                                      & NaN                                      & NaN                                      & 42232.55                                 & 42231.65                                 & 42237.65                                 & -0.1976617                               & -0.4350235                               & -0.4350235                               & -0.4318286                               & -0.4318286                               & 2.199480                                \\\\\n",
       "\tage &  9                                             &  8                                             & age\\_80\\_90\\_                               & age\\_70\\_80\\_                               & age\\_90\\_100\\_                              & 42232.55                                       & 42035.84                                       & 42055.84                                       & -0.1964811                                     & -0.4773181                                     & -0.4647569                                     & -0.4342733                                     & -0.3842920                                     & 2.804220                                      \\\\\n",
       "\tadmission\\_type\\_id &  7                                           &  2                                           & admission\\_type\\_id3                       & admission\\_type\\_id6                       & NaN                                          & 42232.55                                     & 42212.11                                     & 42228.11                                     & -0.1975253                                   & -0.4853515                                   & -0.4384579                                   & -0.4384579                                   & -0.4157667                                   & 2.292946                                    \\\\\n",
       "\tdischarge\\_disposition\\_id & 20                                           & 13                                           & discharge\\_disposition\\_id22               & discharge\\_disposition\\_id3                & discharge\\_disposition\\_id5                & 42232.55                                     & 41174.30                                     & 41216.30                                     & -0.1924453                                   & -1.1774100                                   & -0.4473008                                   & -0.3794443                                   & -0.3794443                                   & 2.638651                                    \\\\\n",
       "\tadmission\\_source\\_id &  1                                       &  0                                       & NaN                                      & NaN                                      & NaN                                      & 42232.55                                 & 42230.22                                 & 42234.22                                 & -0.1976580                               & -0.4531888                               & -0.4348483                               & -0.4348483                               & -0.4288859                               & 2.205407                                \\\\\n",
       "\tmedical\\_specialty & 70                                           & 26                                           & medical\\_specialtyOtolaryngology            & medical\\_specialtyObstetricsandGynecology   & medical\\_specialtyPediatrics\\_CriticalCare & 42232.55                                     & 41997.68                                     & 42139.68                                     & -0.1957774                                   & -0.9005166                                   & -0.4527860                                   & -0.4399747                                   & -0.4038856                                   & 2.929321                                    \\\\\n",
       "\tmax\\_glu\\_serum &  3                                       &  1                                       & max\\_glu\\_serumNone                    & NaN                                      & NaN                                      & 42232.55                                 & 42225.86                                 & 42233.86                                 & -0.1976342                               & -0.4803792                               & -0.4320084                               & -0.4320084                               & -0.4320084                               & 2.199119                                \\\\\n",
       "\tA1Cresult &  3                                       &  0                                       & NaN                                      & NaN                                      & NaN                                      & 42232.55                                 & 42225.11                                 & 42233.11                                 & -0.1976276                               & -0.4368294                               & -0.4368294                               & -0.4368294                               & -0.4243348                               & 2.238663                                \\\\\n",
       "\tmetformin &  3                                       &  1                                       & metforminUp                              & NaN                                      & NaN                                      & 42232.55                                 & 42217.77                                 & 42225.77                                 & -0.1975837                               & -0.4618192                               & -0.4381668                               & -0.4381668                               & -0.4166005                               & 2.309022                                \\\\\n",
       "\trepaglinide &  3                                       &  1                                       & repaglinideUp                            & NaN                                      & NaN                                      & 42232.55                                 & 42213.16                                 & 42221.16                                 & -0.1975733                               & -0.6889531                               & -0.4323547                               & -0.4323547                               & -0.4323547                               & 2.581551                                \\\\\n",
       "\tnateglinide &  3                                       &  0                                       & NaN                                      & NaN                                      & NaN                                      & 42232.55                                 & 42227.63                                 & 42235.63                                 & -0.1976060                               & -0.4337415                               & -0.4337415                               & -0.4337415                               & -0.4337415                               & 2.239975                                \\\\\n",
       "\tchlorpropamide &  3                                       &  0                                       & NaN                                      & NaN                                      & NaN                                      & 42232.55                                 & 42229.71                                 & 42237.71                                 & -0.1976454                               & -0.4336434                               & -0.4336434                               & -0.4336434                               & -0.4336434                               & 2.486380                                \\\\\n",
       "\tglimepiride &  3                                       &  2                                       & glimepirideSteady                        & glimepirideNo                            & NaN                                      & 42232.55                                 & 42228.65                                 & 42236.65                                 & -0.1976503                               & -0.5328607                               & -0.4338079                               & -0.4338079                               & -0.4338079                               & 2.220487                                \\\\\n",
       "\tglipizide &  3                                       &  2                                       & glipizideNo                              & glipizideSteady                          & NaN                                      & 42232.55                                 & 42219.76                                 & 42227.76                                 & -0.1976020                               & -0.5264024                               & -0.4306348                               & -0.4306348                               & -0.4306348                               & 2.201881                                \\\\\n",
       "\tglyburide &  3                                       &  0                                       & NaN                                      & NaN                                      & NaN                                      & 42232.55                                 & 42230.82                                 & 42238.82                                 & -0.1976614                               & -0.4498894                               & -0.4322670                               & -0.4322670                               & -0.4322670                               & 2.198600                                \\\\\n",
       "\ttolbutamide &  1                                       &  0                                       & NaN                                      & NaN                                      & NaN                                      & 42232.55                                 & 42232.33                                 & 42236.33                                 & -0.1976699                               & -0.4335403                               & -0.4335403                               & -0.4335403                               & -0.4335403                               & 2.380426                                \\\\\n",
       "\tpioglitazone &  3                                       &  0                                       & NaN                                      & NaN                                      & NaN                                      & 42232.55                                 & 42229.53                                 & 42237.53                                 & -0.1976546                               & -0.5010743                               & -0.4340283                               & -0.4340283                               & -0.4340283                               & 2.216455                                \\\\\n",
       "\trosiglitazone &  3                                       &  0                                       & NaN                                      & NaN                                      & NaN                                      & 42232.55                                 & 42230.94                                 & 42238.94                                 & -0.1976610                               & -0.4553645                               & -0.4338618                               & -0.4338618                               & -0.4338618                               & 2.415687                                \\\\\n",
       "\tacarbose &  2                                       &  0                                       & NaN                                      & NaN                                      & NaN                                      & 42232.55                                 & 42230.27                                 & 42236.27                                 & -0.1976590                               & -0.6680472                               & -0.4336280                               & -0.4336280                               & -0.4336280                               & 2.316063                                \\\\\n",
       "\tmiglitol &  3                                       &  0                                       & NaN                                      & NaN                                      & NaN                                      & 42232.55                                 & 42231.88                                 & 42239.88                                 & -0.1976643                               & -0.4335501                               & -0.4335501                               & -0.4335501                               & -0.4335501                               & 2.404318                                \\\\\n",
       "\ttolazamide &  1                                       &  0                                       & NaN                                      & NaN                                      & NaN                                      & 42232.55                                 & 42231.05                                 & 42235.05                                 & -0.1976604                               & -0.4335826                               & -0.4335826                               & -0.4335826                               & -0.4335826                               & 2.608140                                \\\\\n",
       "\tinsulin &  3                                       &  2                                       & insulinNo                                & insulinSteady                            & NaN                                      & 42232.55                                 & 42182.60                                 & 42190.60                                 & -0.1973867                               & -0.4721243                               & -0.4406867                               & -0.4157460                               & -0.4157460                               & 2.232223                                \\\\\n",
       "\tglyburide\\_metformin &  3                                       &  0                                       & NaN                                      & NaN                                      & NaN                                      & 42232.55                                 & 42229.55                                 & 42237.55                                 & -0.1976446                               & -0.7585276                               & -0.4337214                               & -0.4337214                               & -0.4337214                               & 2.256795                                \\\\\n",
       "\tglipizide\\_metformin &  1                                       &  0                                       & NaN                                      & NaN                                      & NaN                                      & 42232.55                                 & 42231.24                                 & 42235.24                                 & -0.1976531                               & -0.4335441                               & -0.4335441                               & -0.4335441                               & -0.4335441                               & 2.196039                                \\\\\n",
       "\tchange &  1                                       &  1                                       & changeNo                                 & NaN                                      & NaN                                      & 42232.55                                 & 42217.51                                 & 42221.51                                 & -0.1975847                               & -0.4451464                               & -0.4451464                               & -0.4238168                               & -0.4238168                               & 2.215682                                \\\\\n",
       "\tdiabetesMed &  1                                       &  1                                       & diabetesMedYes                           & NaN                                      & NaN                                      & 42232.55                                 & 42176.51                                 & 42180.51                                 & -0.1973378                               & -0.4446692                               & -0.4446692                               & -0.4446692                               & -0.3962069                               & 2.273224                                \\\\\n",
       "\\end{tabular}\n"
      ],
      "text/markdown": [
       "\n",
       "| <!--/--> | numCategories | numSignCategories | signF1 | signF2 | signF3 | nullDeviance | residualDeviance | aic | mean(resid) | min(resid) | q1(resid) | median(resid) | q3(resid) | max(resid) | \n",
       "|---|---|---|---|---|---|---|---|---|---|---|---|---|---|---|---|---|---|---|---|---|---|---|---|---|---|---|---|---|---|---|---|---|---|---|\n",
       "| time_in_hospital |  1                                       |  1                                       | time_in_hospital                         | NaN                                      | NaN                                      | 42232.55                                 | 42024.73                                 | 42028.73                                 | -0.1965400                               | -0.5706908                               | -0.4399376                               | -0.4147951                               | -0.4027225                               | 2.284446                                 | \n",
       "| num_lab_procedures |  1                                       |  1                                       | num_lab_procedures                       | NaN                                      | NaN                                      | 42232.55                                 | 42159.37                                 | 42163.37                                 | -0.1972476                               | -0.5342494                               | -0.4469925                               | -0.4313882                               | -0.4105993                               | 2.296575                                 | \n",
       "| num_procedures |  1                                       |  0                                       | NaN                                      | NaN                                      | NaN                                      | 42232.55                                 | 42232.55                                 | 42236.55                                 | -0.1976713                               | -0.4335696                               | -0.4335696                               | -0.4335357                               | -0.4334680                               | 2.196395                                 | \n",
       "| num_medications |  1                                       |  1                                       | num_medications                          | NaN                                      | NaN                                      | 42232.55                                 | 42144.24                                 | 42148.24                                 | -0.1971891                               | -0.6591008                               | -0.4422443                               | -0.4244748                               | -0.4129922                               | 2.284654                                 | \n",
       "| number_outpatient |  1                                       |  1                                       | number_outpatient                        | NaN                                      | NaN                                      | 42232.55                                 | 42227.82                                 | 42231.82                                 | -0.1976464                               | -0.7039307                               | -0.4320057                               | -0.4320057                               | -0.4320057                               | 2.199125                                 | \n",
       "| number_emergency |  1                                       |  1                                       | number_emergency                         | NaN                                      | NaN                                      | 42232.55                                 | 42192.35                                 | 42196.35                                 | -0.1975489                               | -2.5960734                               | -0.4302337                               | -0.4302337                               | -0.4302337                               | 2.202689                                 | \n",
       "| number_inpatient |  1                                       |  1                                       | number_inpatient                         | NaN                                      | NaN                                      | 42232.55                                 | 41732.53                                 | 41736.53                                 | -0.1956751                               | -1.9293266                               | -0.4154094                               | -0.4154094                               | -0.4154094                               | 2.232917                                 | \n",
       "| number_diagnoses |  1                                       |  1                                       | number_diagnoses                         | NaN                                      | NaN                                      | 42232.55                                 | 42083.06                                 | 42087.06                                 | -0.1967853                               | -0.6084376                               | -0.4628645                               | -0.4273547                               | -0.3943411                               | 2.411080                                 | \n",
       "| race |  5                                       |  3                                       | raceOther                                | racemissing                              | raceCaucasian                            | 42232.55                                 | 42213.06                                 | 42225.06                                 | -0.1975540                               | -0.4388826                               | -0.4388826                               | -0.4388826                               | -0.4256365                               | 2.314333                                 | \n",
       "| gender |  2                                       |  0                                       | NaN                                      | NaN                                      | NaN                                      | 42232.55                                 | 42231.65                                 | 42237.65                                 | -0.1976617                               | -0.4350235                               | -0.4350235                               | -0.4318286                               | -0.4318286                               | 2.199480                                 | \n",
       "| age |  9                                       |  8                                       | age_80_90_                               | age_70_80_                               | age_90_100_                              | 42232.55                                 | 42035.84                                 | 42055.84                                 | -0.1964811                               | -0.4773181                               | -0.4647569                               | -0.4342733                               | -0.3842920                               | 2.804220                                 | \n",
       "| admission_type_id |  7                                       |  2                                       | admission_type_id3                       | admission_type_id6                       | NaN                                      | 42232.55                                 | 42212.11                                 | 42228.11                                 | -0.1975253                               | -0.4853515                               | -0.4384579                               | -0.4384579                               | -0.4157667                               | 2.292946                                 | \n",
       "| discharge_disposition_id | 20                                       | 13                                       | discharge_disposition_id22               | discharge_disposition_id3                | discharge_disposition_id5                | 42232.55                                 | 41174.30                                 | 41216.30                                 | -0.1924453                               | -1.1774100                               | -0.4473008                               | -0.3794443                               | -0.3794443                               | 2.638651                                 | \n",
       "| admission_source_id |  1                                       |  0                                       | NaN                                      | NaN                                      | NaN                                      | 42232.55                                 | 42230.22                                 | 42234.22                                 | -0.1976580                               | -0.4531888                               | -0.4348483                               | -0.4348483                               | -0.4288859                               | 2.205407                                 | \n",
       "| medical_specialty | 70                                       | 26                                       | medical_specialtyOtolaryngology          | medical_specialtyObstetricsandGynecology | medical_specialtyPediatrics_CriticalCare | 42232.55                                 | 41997.68                                 | 42139.68                                 | -0.1957774                               | -0.9005166                               | -0.4527860                               | -0.4399747                               | -0.4038856                               | 2.929321                                 | \n",
       "| max_glu_serum |  3                                       |  1                                       | max_glu_serumNone                        | NaN                                      | NaN                                      | 42232.55                                 | 42225.86                                 | 42233.86                                 | -0.1976342                               | -0.4803792                               | -0.4320084                               | -0.4320084                               | -0.4320084                               | 2.199119                                 | \n",
       "| A1Cresult |  3                                       |  0                                       | NaN                                      | NaN                                      | NaN                                      | 42232.55                                 | 42225.11                                 | 42233.11                                 | -0.1976276                               | -0.4368294                               | -0.4368294                               | -0.4368294                               | -0.4243348                               | 2.238663                                 | \n",
       "| metformin |  3                                       |  1                                       | metforminUp                              | NaN                                      | NaN                                      | 42232.55                                 | 42217.77                                 | 42225.77                                 | -0.1975837                               | -0.4618192                               | -0.4381668                               | -0.4381668                               | -0.4166005                               | 2.309022                                 | \n",
       "| repaglinide |  3                                       |  1                                       | repaglinideUp                            | NaN                                      | NaN                                      | 42232.55                                 | 42213.16                                 | 42221.16                                 | -0.1975733                               | -0.6889531                               | -0.4323547                               | -0.4323547                               | -0.4323547                               | 2.581551                                 | \n",
       "| nateglinide |  3                                       |  0                                       | NaN                                      | NaN                                      | NaN                                      | 42232.55                                 | 42227.63                                 | 42235.63                                 | -0.1976060                               | -0.4337415                               | -0.4337415                               | -0.4337415                               | -0.4337415                               | 2.239975                                 | \n",
       "| chlorpropamide |  3                                       |  0                                       | NaN                                      | NaN                                      | NaN                                      | 42232.55                                 | 42229.71                                 | 42237.71                                 | -0.1976454                               | -0.4336434                               | -0.4336434                               | -0.4336434                               | -0.4336434                               | 2.486380                                 | \n",
       "| glimepiride |  3                                       |  2                                       | glimepirideSteady                        | glimepirideNo                            | NaN                                      | 42232.55                                 | 42228.65                                 | 42236.65                                 | -0.1976503                               | -0.5328607                               | -0.4338079                               | -0.4338079                               | -0.4338079                               | 2.220487                                 | \n",
       "| glipizide |  3                                       |  2                                       | glipizideNo                              | glipizideSteady                          | NaN                                      | 42232.55                                 | 42219.76                                 | 42227.76                                 | -0.1976020                               | -0.5264024                               | -0.4306348                               | -0.4306348                               | -0.4306348                               | 2.201881                                 | \n",
       "| glyburide |  3                                       |  0                                       | NaN                                      | NaN                                      | NaN                                      | 42232.55                                 | 42230.82                                 | 42238.82                                 | -0.1976614                               | -0.4498894                               | -0.4322670                               | -0.4322670                               | -0.4322670                               | 2.198600                                 | \n",
       "| tolbutamide |  1                                       |  0                                       | NaN                                      | NaN                                      | NaN                                      | 42232.55                                 | 42232.33                                 | 42236.33                                 | -0.1976699                               | -0.4335403                               | -0.4335403                               | -0.4335403                               | -0.4335403                               | 2.380426                                 | \n",
       "| pioglitazone |  3                                       |  0                                       | NaN                                      | NaN                                      | NaN                                      | 42232.55                                 | 42229.53                                 | 42237.53                                 | -0.1976546                               | -0.5010743                               | -0.4340283                               | -0.4340283                               | -0.4340283                               | 2.216455                                 | \n",
       "| rosiglitazone |  3                                       |  0                                       | NaN                                      | NaN                                      | NaN                                      | 42232.55                                 | 42230.94                                 | 42238.94                                 | -0.1976610                               | -0.4553645                               | -0.4338618                               | -0.4338618                               | -0.4338618                               | 2.415687                                 | \n",
       "| acarbose |  2                                       |  0                                       | NaN                                      | NaN                                      | NaN                                      | 42232.55                                 | 42230.27                                 | 42236.27                                 | -0.1976590                               | -0.6680472                               | -0.4336280                               | -0.4336280                               | -0.4336280                               | 2.316063                                 | \n",
       "| miglitol |  3                                       |  0                                       | NaN                                      | NaN                                      | NaN                                      | 42232.55                                 | 42231.88                                 | 42239.88                                 | -0.1976643                               | -0.4335501                               | -0.4335501                               | -0.4335501                               | -0.4335501                               | 2.404318                                 | \n",
       "| tolazamide |  1                                       |  0                                       | NaN                                      | NaN                                      | NaN                                      | 42232.55                                 | 42231.05                                 | 42235.05                                 | -0.1976604                               | -0.4335826                               | -0.4335826                               | -0.4335826                               | -0.4335826                               | 2.608140                                 | \n",
       "| insulin |  3                                       |  2                                       | insulinNo                                | insulinSteady                            | NaN                                      | 42232.55                                 | 42182.60                                 | 42190.60                                 | -0.1973867                               | -0.4721243                               | -0.4406867                               | -0.4157460                               | -0.4157460                               | 2.232223                                 | \n",
       "| glyburide_metformin |  3                                       |  0                                       | NaN                                      | NaN                                      | NaN                                      | 42232.55                                 | 42229.55                                 | 42237.55                                 | -0.1976446                               | -0.7585276                               | -0.4337214                               | -0.4337214                               | -0.4337214                               | 2.256795                                 | \n",
       "| glipizide_metformin |  1                                       |  0                                       | NaN                                      | NaN                                      | NaN                                      | 42232.55                                 | 42231.24                                 | 42235.24                                 | -0.1976531                               | -0.4335441                               | -0.4335441                               | -0.4335441                               | -0.4335441                               | 2.196039                                 | \n",
       "| change |  1                                       |  1                                       | changeNo                                 | NaN                                      | NaN                                      | 42232.55                                 | 42217.51                                 | 42221.51                                 | -0.1975847                               | -0.4451464                               | -0.4451464                               | -0.4238168                               | -0.4238168                               | 2.215682                                 | \n",
       "| diabetesMed |  1                                       |  1                                       | diabetesMedYes                           | NaN                                      | NaN                                      | 42232.55                                 | 42176.51                                 | 42180.51                                 | -0.1973378                               | -0.4446692                               | -0.4446692                               | -0.4446692                               | -0.3962069                               | 2.273224                                 | \n",
       "\n",
       "\n"
      ],
      "text/plain": [
       "                         numCategories numSignCategories\n",
       "time_in_hospital          1             1               \n",
       "num_lab_procedures        1             1               \n",
       "num_procedures            1             0               \n",
       "num_medications           1             1               \n",
       "number_outpatient         1             1               \n",
       "number_emergency          1             1               \n",
       "number_inpatient          1             1               \n",
       "number_diagnoses          1             1               \n",
       "race                      5             3               \n",
       "gender                    2             0               \n",
       "age                       9             8               \n",
       "admission_type_id         7             2               \n",
       "discharge_disposition_id 20            13               \n",
       "admission_source_id       1             0               \n",
       "medical_specialty        70            26               \n",
       "max_glu_serum             3             1               \n",
       "A1Cresult                 3             0               \n",
       "metformin                 3             1               \n",
       "repaglinide               3             1               \n",
       "nateglinide               3             0               \n",
       "chlorpropamide            3             0               \n",
       "glimepiride               3             2               \n",
       "glipizide                 3             2               \n",
       "glyburide                 3             0               \n",
       "tolbutamide               1             0               \n",
       "pioglitazone              3             0               \n",
       "rosiglitazone             3             0               \n",
       "acarbose                  2             0               \n",
       "miglitol                  3             0               \n",
       "tolazamide                1             0               \n",
       "insulin                   3             2               \n",
       "glyburide_metformin       3             0               \n",
       "glipizide_metformin       1             0               \n",
       "change                    1             1               \n",
       "diabetesMed               1             1               \n",
       "                         signF1                         \n",
       "time_in_hospital         time_in_hospital               \n",
       "num_lab_procedures       num_lab_procedures             \n",
       "num_procedures           NaN                            \n",
       "num_medications          num_medications                \n",
       "number_outpatient        number_outpatient              \n",
       "number_emergency         number_emergency               \n",
       "number_inpatient         number_inpatient               \n",
       "number_diagnoses         number_diagnoses               \n",
       "race                     raceOther                      \n",
       "gender                   NaN                            \n",
       "age                      age_80_90_                     \n",
       "admission_type_id        admission_type_id3             \n",
       "discharge_disposition_id discharge_disposition_id22     \n",
       "admission_source_id      NaN                            \n",
       "medical_specialty        medical_specialtyOtolaryngology\n",
       "max_glu_serum            max_glu_serumNone              \n",
       "A1Cresult                NaN                            \n",
       "metformin                metforminUp                    \n",
       "repaglinide              repaglinideUp                  \n",
       "nateglinide              NaN                            \n",
       "chlorpropamide           NaN                            \n",
       "glimepiride              glimepirideSteady              \n",
       "glipizide                glipizideNo                    \n",
       "glyburide                NaN                            \n",
       "tolbutamide              NaN                            \n",
       "pioglitazone             NaN                            \n",
       "rosiglitazone            NaN                            \n",
       "acarbose                 NaN                            \n",
       "miglitol                 NaN                            \n",
       "tolazamide               NaN                            \n",
       "insulin                  insulinNo                      \n",
       "glyburide_metformin      NaN                            \n",
       "glipizide_metformin      NaN                            \n",
       "change                   changeNo                       \n",
       "diabetesMed              diabetesMedYes                 \n",
       "                         signF2                                  \n",
       "time_in_hospital         NaN                                     \n",
       "num_lab_procedures       NaN                                     \n",
       "num_procedures           NaN                                     \n",
       "num_medications          NaN                                     \n",
       "number_outpatient        NaN                                     \n",
       "number_emergency         NaN                                     \n",
       "number_inpatient         NaN                                     \n",
       "number_diagnoses         NaN                                     \n",
       "race                     racemissing                             \n",
       "gender                   NaN                                     \n",
       "age                      age_70_80_                              \n",
       "admission_type_id        admission_type_id6                      \n",
       "discharge_disposition_id discharge_disposition_id3               \n",
       "admission_source_id      NaN                                     \n",
       "medical_specialty        medical_specialtyObstetricsandGynecology\n",
       "max_glu_serum            NaN                                     \n",
       "A1Cresult                NaN                                     \n",
       "metformin                NaN                                     \n",
       "repaglinide              NaN                                     \n",
       "nateglinide              NaN                                     \n",
       "chlorpropamide           NaN                                     \n",
       "glimepiride              glimepirideNo                           \n",
       "glipizide                glipizideSteady                         \n",
       "glyburide                NaN                                     \n",
       "tolbutamide              NaN                                     \n",
       "pioglitazone             NaN                                     \n",
       "rosiglitazone            NaN                                     \n",
       "acarbose                 NaN                                     \n",
       "miglitol                 NaN                                     \n",
       "tolazamide               NaN                                     \n",
       "insulin                  insulinSteady                           \n",
       "glyburide_metformin      NaN                                     \n",
       "glipizide_metformin      NaN                                     \n",
       "change                   NaN                                     \n",
       "diabetesMed              NaN                                     \n",
       "                         signF3                                   nullDeviance\n",
       "time_in_hospital         NaN                                      42232.55    \n",
       "num_lab_procedures       NaN                                      42232.55    \n",
       "num_procedures           NaN                                      42232.55    \n",
       "num_medications          NaN                                      42232.55    \n",
       "number_outpatient        NaN                                      42232.55    \n",
       "number_emergency         NaN                                      42232.55    \n",
       "number_inpatient         NaN                                      42232.55    \n",
       "number_diagnoses         NaN                                      42232.55    \n",
       "race                     raceCaucasian                            42232.55    \n",
       "gender                   NaN                                      42232.55    \n",
       "age                      age_90_100_                              42232.55    \n",
       "admission_type_id        NaN                                      42232.55    \n",
       "discharge_disposition_id discharge_disposition_id5                42232.55    \n",
       "admission_source_id      NaN                                      42232.55    \n",
       "medical_specialty        medical_specialtyPediatrics_CriticalCare 42232.55    \n",
       "max_glu_serum            NaN                                      42232.55    \n",
       "A1Cresult                NaN                                      42232.55    \n",
       "metformin                NaN                                      42232.55    \n",
       "repaglinide              NaN                                      42232.55    \n",
       "nateglinide              NaN                                      42232.55    \n",
       "chlorpropamide           NaN                                      42232.55    \n",
       "glimepiride              NaN                                      42232.55    \n",
       "glipizide                NaN                                      42232.55    \n",
       "glyburide                NaN                                      42232.55    \n",
       "tolbutamide              NaN                                      42232.55    \n",
       "pioglitazone             NaN                                      42232.55    \n",
       "rosiglitazone            NaN                                      42232.55    \n",
       "acarbose                 NaN                                      42232.55    \n",
       "miglitol                 NaN                                      42232.55    \n",
       "tolazamide               NaN                                      42232.55    \n",
       "insulin                  NaN                                      42232.55    \n",
       "glyburide_metformin      NaN                                      42232.55    \n",
       "glipizide_metformin      NaN                                      42232.55    \n",
       "change                   NaN                                      42232.55    \n",
       "diabetesMed              NaN                                      42232.55    \n",
       "                         residualDeviance aic      mean(resid) min(resid)\n",
       "time_in_hospital         42024.73         42028.73 -0.1965400  -0.5706908\n",
       "num_lab_procedures       42159.37         42163.37 -0.1972476  -0.5342494\n",
       "num_procedures           42232.55         42236.55 -0.1976713  -0.4335696\n",
       "num_medications          42144.24         42148.24 -0.1971891  -0.6591008\n",
       "number_outpatient        42227.82         42231.82 -0.1976464  -0.7039307\n",
       "number_emergency         42192.35         42196.35 -0.1975489  -2.5960734\n",
       "number_inpatient         41732.53         41736.53 -0.1956751  -1.9293266\n",
       "number_diagnoses         42083.06         42087.06 -0.1967853  -0.6084376\n",
       "race                     42213.06         42225.06 -0.1975540  -0.4388826\n",
       "gender                   42231.65         42237.65 -0.1976617  -0.4350235\n",
       "age                      42035.84         42055.84 -0.1964811  -0.4773181\n",
       "admission_type_id        42212.11         42228.11 -0.1975253  -0.4853515\n",
       "discharge_disposition_id 41174.30         41216.30 -0.1924453  -1.1774100\n",
       "admission_source_id      42230.22         42234.22 -0.1976580  -0.4531888\n",
       "medical_specialty        41997.68         42139.68 -0.1957774  -0.9005166\n",
       "max_glu_serum            42225.86         42233.86 -0.1976342  -0.4803792\n",
       "A1Cresult                42225.11         42233.11 -0.1976276  -0.4368294\n",
       "metformin                42217.77         42225.77 -0.1975837  -0.4618192\n",
       "repaglinide              42213.16         42221.16 -0.1975733  -0.6889531\n",
       "nateglinide              42227.63         42235.63 -0.1976060  -0.4337415\n",
       "chlorpropamide           42229.71         42237.71 -0.1976454  -0.4336434\n",
       "glimepiride              42228.65         42236.65 -0.1976503  -0.5328607\n",
       "glipizide                42219.76         42227.76 -0.1976020  -0.5264024\n",
       "glyburide                42230.82         42238.82 -0.1976614  -0.4498894\n",
       "tolbutamide              42232.33         42236.33 -0.1976699  -0.4335403\n",
       "pioglitazone             42229.53         42237.53 -0.1976546  -0.5010743\n",
       "rosiglitazone            42230.94         42238.94 -0.1976610  -0.4553645\n",
       "acarbose                 42230.27         42236.27 -0.1976590  -0.6680472\n",
       "miglitol                 42231.88         42239.88 -0.1976643  -0.4335501\n",
       "tolazamide               42231.05         42235.05 -0.1976604  -0.4335826\n",
       "insulin                  42182.60         42190.60 -0.1973867  -0.4721243\n",
       "glyburide_metformin      42229.55         42237.55 -0.1976446  -0.7585276\n",
       "glipizide_metformin      42231.24         42235.24 -0.1976531  -0.4335441\n",
       "change                   42217.51         42221.51 -0.1975847  -0.4451464\n",
       "diabetesMed              42176.51         42180.51 -0.1973378  -0.4446692\n",
       "                         q1(resid)  median(resid) q3(resid)  max(resid)\n",
       "time_in_hospital         -0.4399376 -0.4147951    -0.4027225 2.284446  \n",
       "num_lab_procedures       -0.4469925 -0.4313882    -0.4105993 2.296575  \n",
       "num_procedures           -0.4335696 -0.4335357    -0.4334680 2.196395  \n",
       "num_medications          -0.4422443 -0.4244748    -0.4129922 2.284654  \n",
       "number_outpatient        -0.4320057 -0.4320057    -0.4320057 2.199125  \n",
       "number_emergency         -0.4302337 -0.4302337    -0.4302337 2.202689  \n",
       "number_inpatient         -0.4154094 -0.4154094    -0.4154094 2.232917  \n",
       "number_diagnoses         -0.4628645 -0.4273547    -0.3943411 2.411080  \n",
       "race                     -0.4388826 -0.4388826    -0.4256365 2.314333  \n",
       "gender                   -0.4350235 -0.4318286    -0.4318286 2.199480  \n",
       "age                      -0.4647569 -0.4342733    -0.3842920 2.804220  \n",
       "admission_type_id        -0.4384579 -0.4384579    -0.4157667 2.292946  \n",
       "discharge_disposition_id -0.4473008 -0.3794443    -0.3794443 2.638651  \n",
       "admission_source_id      -0.4348483 -0.4348483    -0.4288859 2.205407  \n",
       "medical_specialty        -0.4527860 -0.4399747    -0.4038856 2.929321  \n",
       "max_glu_serum            -0.4320084 -0.4320084    -0.4320084 2.199119  \n",
       "A1Cresult                -0.4368294 -0.4368294    -0.4243348 2.238663  \n",
       "metformin                -0.4381668 -0.4381668    -0.4166005 2.309022  \n",
       "repaglinide              -0.4323547 -0.4323547    -0.4323547 2.581551  \n",
       "nateglinide              -0.4337415 -0.4337415    -0.4337415 2.239975  \n",
       "chlorpropamide           -0.4336434 -0.4336434    -0.4336434 2.486380  \n",
       "glimepiride              -0.4338079 -0.4338079    -0.4338079 2.220487  \n",
       "glipizide                -0.4306348 -0.4306348    -0.4306348 2.201881  \n",
       "glyburide                -0.4322670 -0.4322670    -0.4322670 2.198600  \n",
       "tolbutamide              -0.4335403 -0.4335403    -0.4335403 2.380426  \n",
       "pioglitazone             -0.4340283 -0.4340283    -0.4340283 2.216455  \n",
       "rosiglitazone            -0.4338618 -0.4338618    -0.4338618 2.415687  \n",
       "acarbose                 -0.4336280 -0.4336280    -0.4336280 2.316063  \n",
       "miglitol                 -0.4335501 -0.4335501    -0.4335501 2.404318  \n",
       "tolazamide               -0.4335826 -0.4335826    -0.4335826 2.608140  \n",
       "insulin                  -0.4406867 -0.4157460    -0.4157460 2.232223  \n",
       "glyburide_metformin      -0.4337214 -0.4337214    -0.4337214 2.256795  \n",
       "glipizide_metformin      -0.4335441 -0.4335441    -0.4335441 2.196039  \n",
       "change                   -0.4451464 -0.4238168    -0.4238168 2.215682  \n",
       "diabetesMed              -0.4446692 -0.4446692    -0.3962069 2.273224  "
      ]
     },
     "metadata": {},
     "output_type": "display_data"
    }
   ],
   "source": [
    "# Performed for the whole dataset\n",
    "cols <- colnames(diabetic.data)\n",
    "cols <- cols[1:length(cols)-1]   # removing readitted (the label from the list)\n",
    "\n",
    "pairWiseCols <- list()\n",
    "i <- 1\n",
    "for (col in cols){\n",
    "    pairWiseCols[[i]] <- c(col)\n",
    "    i <- i+1\n",
    "}\n",
    "\n",
    "# GLM of each independent variable with the ddependent (response variable): Deviance Statics , Residual Statistics and Significance Statistics \n",
    "stats.glm <- glmStats(diabetic.data, cols, max_p_val=0.10)   # Note for most of the cases we exclude diag_1, diag_2, diag_3\n",
    "stats.glm"
   ]
  },
  {
   "cell_type": "markdown",
   "metadata": {
    "deletable": true,
    "editable": true
   },
   "source": [
    "#### Pair-wise Independent Vs Dependent Statistics:"
   ]
  },
  {
   "cell_type": "code",
   "execution_count": null,
   "metadata": {
    "collapsed": false,
    "deletable": true,
    "editable": true,
    "scrolled": true
   },
   "outputs": [],
   "source": [
    "\n",
    "formula1 <- readmitted ~ discharge_disposition_id * race\n",
    "formula2 <- readmitted ~ discharge_disposition_id * medical_specialty\n",
    "formula3 <- readmitted ~ discharge_disposition_id * time_in_hospital\n",
    "\n",
    "formula4 <- readmitted ~ medical_specialty * time_in_hospital\n",
    "formula5 <- readmitted ~ discharge_disposition_id * medical_specialty\n",
    "formula6 <- readmitted ~ discharge_disposition_id * medical_specialty\n",
    "# formul\n",
    "stats.glm <- glm(formula=formula4, data=diabetic.data)\n",
    "summary(stats.glm)"
   ]
  },
  {
   "cell_type": "markdown",
   "metadata": {
    "deletable": true,
    "editable": true
   },
   "source": [
    "# AIC:\n",
    "--------"
   ]
  },
  {
   "cell_type": "code",
   "execution_count": null,
   "metadata": {
    "collapsed": false,
    "deletable": true,
    "editable": true,
    "scrolled": true
   },
   "outputs": [
    {
     "data": {
      "text/plain": [
       "readmitted ~ time_in_hospital + num_lab_procedures + num_procedures + \n",
       "    num_medications + number_outpatient + number_emergency + \n",
       "    number_inpatient + number_diagnoses + race + age + admission_type_id + \n",
       "    discharge_disposition_id + medical_specialty + max_glu_serum + \n",
       "    A1Cresult + metformin + repaglinide + glipizide + insulin + \n",
       "    change + diabetesMed\n",
       "<environment: 0x7fe52908f470>"
      ]
     },
     "metadata": {},
     "output_type": "display_data"
    }
   ],
   "source": [
    "aic.model.features <- bindModel(yLabel='readmitted', featureSet=names(diabetic.data))\n",
    "aic.model.features\n",
    "aic.model.glm <- glm(aic.model.features, family='binomial', data=diabetic.data)\n",
    "\n",
    "aic.model <- step(aic.model.glm, direction=c('both'),steps=2000)\n",
    "summary(aic.model)\n",
    "# The model produced by AIC for 2000 steps and Feature set F2 is :\n",
    "# readmitted ~ time_in_hospital + num_lab_procedures + number_emergency + \n",
    "#     number_inpatient + number_diagnoses + age + admission_type_id + \n",
    "#     discharge_disposition_id + medical_specialty + metformin + \n",
    "#     repaglinide + insulin + change + diabetesMed"
   ]
  },
  {
   "cell_type": "markdown",
   "metadata": {
    "deletable": true,
    "editable": true
   },
   "source": [
    "# Model 1 : AIC feature selection with Ridge/Lasso/Elnet Regression:\n",
    "------"
   ]
  },
  {
   "cell_type": "markdown",
   "metadata": {
    "deletable": true,
    "editable": true
   },
   "source": [
    "### Data Preparation:"
   ]
  },
  {
   "cell_type": "code",
   "execution_count": 78,
   "metadata": {
    "collapsed": false,
    "deletable": true,
    "editable": true
   },
   "outputs": [
    {
     "data": {
      "text/html": [
       "<ol class=list-inline>\n",
       "\t<li>69963</li>\n",
       "\t<li>940</li>\n",
       "</ol>\n"
      ],
      "text/latex": [
       "\\begin{enumerate*}\n",
       "\\item 69963\n",
       "\\item 940\n",
       "\\end{enumerate*}\n"
      ],
      "text/markdown": [
       "1. 69963\n",
       "2. 940\n",
       "\n",
       "\n"
      ],
      "text/plain": [
       "[1] 69963   940"
      ]
     },
     "metadata": {},
     "output_type": "display_data"
    },
    {
     "data": {
      "text/html": [
       "<ol class=list-inline>\n",
       "\t<li>55971</li>\n",
       "\t<li>939</li>\n",
       "</ol>\n"
      ],
      "text/latex": [
       "\\begin{enumerate*}\n",
       "\\item 55971\n",
       "\\item 939\n",
       "\\end{enumerate*}\n"
      ],
      "text/markdown": [
       "1. 55971\n",
       "2. 939\n",
       "\n",
       "\n"
      ],
      "text/plain": [
       "[1] 55971   939"
      ]
     },
     "metadata": {},
     "output_type": "display_data"
    },
    {
     "data": {
      "text/html": [
       "<table>\n",
       "<thead><tr><th></th><th scope=col>num_lab_procedures</th><th scope=col>num_procedures</th><th scope=col>num_medications</th><th scope=col>number_outpatient</th><th scope=col>number_emergency</th><th scope=col>number_inpatient</th><th scope=col>number_diagnoses</th><th scope=col>raceAsian</th><th scope=col>raceCaucasian</th><th scope=col>raceHispanic</th><th scope=col>⋯</th><th scope=col>age_90_100_.medical_specialtyEndocrinology_Metabolism</th><th scope=col>age_10_20_.medical_specialtyResident</th><th scope=col>age_20_30_.medical_specialtyResident</th><th scope=col>age_30_40_.medical_specialtyResident</th><th scope=col>age_40_50_.medical_specialtyResident</th><th scope=col>age_50_60_.medical_specialtyResident</th><th scope=col>age_60_70_.medical_specialtyResident</th><th scope=col>age_70_80_.medical_specialtyResident</th><th scope=col>age_80_90_.medical_specialtyResident</th><th scope=col>age_90_100_.medical_specialtyResident</th></tr></thead>\n",
       "<tbody>\n",
       "\t<tr><th scope=row>1</th><td>41</td><td>0 </td><td> 1</td><td>0 </td><td>0 </td><td>0 </td><td>1 </td><td>0 </td><td>1 </td><td>0 </td><td>⋯ </td><td>0 </td><td>0 </td><td>0 </td><td>0 </td><td>0 </td><td>0 </td><td>0 </td><td>0 </td><td>0 </td><td>0 </td></tr>\n",
       "\t<tr><th scope=row>2</th><td>59</td><td>0 </td><td>18</td><td>0 </td><td>0 </td><td>0 </td><td>9 </td><td>0 </td><td>1 </td><td>0 </td><td>⋯ </td><td>0 </td><td>0 </td><td>0 </td><td>0 </td><td>0 </td><td>0 </td><td>0 </td><td>0 </td><td>0 </td><td>0 </td></tr>\n",
       "\t<tr><th scope=row>4</th><td>44</td><td>1 </td><td>16</td><td>0 </td><td>0 </td><td>0 </td><td>7 </td><td>0 </td><td>1 </td><td>0 </td><td>⋯ </td><td>0 </td><td>0 </td><td>0 </td><td>0 </td><td>0 </td><td>0 </td><td>0 </td><td>0 </td><td>0 </td><td>0 </td></tr>\n",
       "\t<tr><th scope=row>5</th><td>51</td><td>0 </td><td> 8</td><td>0 </td><td>0 </td><td>0 </td><td>5 </td><td>0 </td><td>1 </td><td>0 </td><td>⋯ </td><td>0 </td><td>0 </td><td>0 </td><td>0 </td><td>0 </td><td>0 </td><td>0 </td><td>0 </td><td>0 </td><td>0 </td></tr>\n",
       "\t<tr><th scope=row>6</th><td>31</td><td>6 </td><td>16</td><td>0 </td><td>0 </td><td>0 </td><td>9 </td><td>0 </td><td>1 </td><td>0 </td><td>⋯ </td><td>0 </td><td>0 </td><td>0 </td><td>0 </td><td>0 </td><td>0 </td><td>0 </td><td>0 </td><td>0 </td><td>0 </td></tr>\n",
       "\t<tr><th scope=row>8</th><td>73</td><td>0 </td><td>12</td><td>0 </td><td>0 </td><td>0 </td><td>8 </td><td>0 </td><td>1 </td><td>0 </td><td>⋯ </td><td>0 </td><td>0 </td><td>0 </td><td>0 </td><td>0 </td><td>0 </td><td>0 </td><td>0 </td><td>0 </td><td>0 </td></tr>\n",
       "</tbody>\n",
       "</table>\n"
      ],
      "text/latex": [
       "\\begin{tabular}{r|lllllllllllllllllllllllllllllllllllllllllllllllllllllllllllllllllllllllllllllllllllllllllllllllllllllllllllllllllllllllllllllllllllllllllllllllllllllllllllllllllllllllllllllllllllllllllllllllllllllllllllllllllllllllllllllllllllllllllllllllllllllllllllllllllllllllllllllllllllllllllllllllllllllllllllllllllllllllllllllllllllllllllllllllllllllllllllllllllllllllllllllllllllllllllllllllllllllllllllllllllllllllllllllllllllllllllllllllllllllllllllllllllllllllllllllllllllllllllllllllllllllllllllllllllllllllllllllllllllllllllllllllllllllllllllllllllllllllllllllllllllllllllllllllllllllllllllllllllllllllllllllllllllllllllllllllllllllllllllllllllllllllllllllllllllllllllllllllllllllllllllllllllllllllllllllllllllllllllllllllllllllllllllllllllllllllllllllllllllllllllllllllllllllllllllllllllllllllllllllllllllllllllllllllllllllllllllllllllllllllllllllllllllllllllllllllllllllllllllllllllllllllllllllllllllllllllllllllllllllllllllllllllllllllllll}\n",
       "  & num\\_lab\\_procedures & num\\_procedures & num\\_medications & number\\_outpatient & number\\_emergency & number\\_inpatient & number\\_diagnoses & raceAsian & raceCaucasian & raceHispanic & ⋯ & age\\_90\\_100\\_.medical\\_specialtyEndocrinology\\_Metabolism & age\\_10\\_20\\_.medical\\_specialtyResident & age\\_20\\_30\\_.medical\\_specialtyResident & age\\_30\\_40\\_.medical\\_specialtyResident & age\\_40\\_50\\_.medical\\_specialtyResident & age\\_50\\_60\\_.medical\\_specialtyResident & age\\_60\\_70\\_.medical\\_specialtyResident & age\\_70\\_80\\_.medical\\_specialtyResident & age\\_80\\_90\\_.medical\\_specialtyResident & age\\_90\\_100\\_.medical\\_specialtyResident\\\\\n",
       "\\hline\n",
       "\t1 & 41 & 0  &  1 & 0  & 0  & 0  & 1  & 0  & 1  & 0  & ⋯  & 0  & 0  & 0  & 0  & 0  & 0  & 0  & 0  & 0  & 0 \\\\\n",
       "\t2 & 59 & 0  & 18 & 0  & 0  & 0  & 9  & 0  & 1  & 0  & ⋯  & 0  & 0  & 0  & 0  & 0  & 0  & 0  & 0  & 0  & 0 \\\\\n",
       "\t4 & 44 & 1  & 16 & 0  & 0  & 0  & 7  & 0  & 1  & 0  & ⋯  & 0  & 0  & 0  & 0  & 0  & 0  & 0  & 0  & 0  & 0 \\\\\n",
       "\t5 & 51 & 0  &  8 & 0  & 0  & 0  & 5  & 0  & 1  & 0  & ⋯  & 0  & 0  & 0  & 0  & 0  & 0  & 0  & 0  & 0  & 0 \\\\\n",
       "\t6 & 31 & 6  & 16 & 0  & 0  & 0  & 9  & 0  & 1  & 0  & ⋯  & 0  & 0  & 0  & 0  & 0  & 0  & 0  & 0  & 0  & 0 \\\\\n",
       "\t8 & 73 & 0  & 12 & 0  & 0  & 0  & 8  & 0  & 1  & 0  & ⋯  & 0  & 0  & 0  & 0  & 0  & 0  & 0  & 0  & 0  & 0 \\\\\n",
       "\\end{tabular}\n"
      ],
      "text/markdown": [
       "\n",
       "| <!--/--> | num_lab_procedures | num_procedures | num_medications | number_outpatient | number_emergency | number_inpatient | number_diagnoses | raceAsian | raceCaucasian | raceHispanic | ⋯ | age_90_100_.medical_specialtyEndocrinology_Metabolism | age_10_20_.medical_specialtyResident | age_20_30_.medical_specialtyResident | age_30_40_.medical_specialtyResident | age_40_50_.medical_specialtyResident | age_50_60_.medical_specialtyResident | age_60_70_.medical_specialtyResident | age_70_80_.medical_specialtyResident | age_80_90_.medical_specialtyResident | age_90_100_.medical_specialtyResident | \n",
       "|---|---|---|---|---|---|\n",
       "| 1 | 41 | 0  |  1 | 0  | 0  | 0  | 1  | 0  | 1  | 0  | ⋯  | 0  | 0  | 0  | 0  | 0  | 0  | 0  | 0  | 0  | 0  | \n",
       "| 2 | 59 | 0  | 18 | 0  | 0  | 0  | 9  | 0  | 1  | 0  | ⋯  | 0  | 0  | 0  | 0  | 0  | 0  | 0  | 0  | 0  | 0  | \n",
       "| 4 | 44 | 1  | 16 | 0  | 0  | 0  | 7  | 0  | 1  | 0  | ⋯  | 0  | 0  | 0  | 0  | 0  | 0  | 0  | 0  | 0  | 0  | \n",
       "| 5 | 51 | 0  |  8 | 0  | 0  | 0  | 5  | 0  | 1  | 0  | ⋯  | 0  | 0  | 0  | 0  | 0  | 0  | 0  | 0  | 0  | 0  | \n",
       "| 6 | 31 | 6  | 16 | 0  | 0  | 0  | 9  | 0  | 1  | 0  | ⋯  | 0  | 0  | 0  | 0  | 0  | 0  | 0  | 0  | 0  | 0  | \n",
       "| 8 | 73 | 0  | 12 | 0  | 0  | 0  | 8  | 0  | 1  | 0  | ⋯  | 0  | 0  | 0  | 0  | 0  | 0  | 0  | 0  | 0  | 0  | \n",
       "\n",
       "\n"
      ],
      "text/plain": [
       "  num_lab_procedures num_procedures num_medications number_outpatient\n",
       "1 41                 0               1              0                \n",
       "2 59                 0              18              0                \n",
       "4 44                 1              16              0                \n",
       "5 51                 0               8              0                \n",
       "6 31                 6              16              0                \n",
       "8 73                 0              12              0                \n",
       "  number_emergency number_inpatient number_diagnoses raceAsian raceCaucasian\n",
       "1 0                0                1                0         1            \n",
       "2 0                0                9                0         1            \n",
       "4 0                0                7                0         1            \n",
       "5 0                0                5                0         1            \n",
       "6 0                0                9                0         1            \n",
       "8 0                0                8                0         1            \n",
       "  raceHispanic ⋯ age_90_100_.medical_specialtyEndocrinology_Metabolism\n",
       "1 0            ⋯ 0                                                    \n",
       "2 0            ⋯ 0                                                    \n",
       "4 0            ⋯ 0                                                    \n",
       "5 0            ⋯ 0                                                    \n",
       "6 0            ⋯ 0                                                    \n",
       "8 0            ⋯ 0                                                    \n",
       "  age_10_20_.medical_specialtyResident age_20_30_.medical_specialtyResident\n",
       "1 0                                    0                                   \n",
       "2 0                                    0                                   \n",
       "4 0                                    0                                   \n",
       "5 0                                    0                                   \n",
       "6 0                                    0                                   \n",
       "8 0                                    0                                   \n",
       "  age_30_40_.medical_specialtyResident age_40_50_.medical_specialtyResident\n",
       "1 0                                    0                                   \n",
       "2 0                                    0                                   \n",
       "4 0                                    0                                   \n",
       "5 0                                    0                                   \n",
       "6 0                                    0                                   \n",
       "8 0                                    0                                   \n",
       "  age_50_60_.medical_specialtyResident age_60_70_.medical_specialtyResident\n",
       "1 0                                    0                                   \n",
       "2 0                                    0                                   \n",
       "4 0                                    0                                   \n",
       "5 0                                    0                                   \n",
       "6 0                                    0                                   \n",
       "8 0                                    0                                   \n",
       "  age_70_80_.medical_specialtyResident age_80_90_.medical_specialtyResident\n",
       "1 0                                    0                                   \n",
       "2 0                                    0                                   \n",
       "4 0                                    0                                   \n",
       "5 0                                    0                                   \n",
       "6 0                                    0                                   \n",
       "8 0                                    0                                   \n",
       "  age_90_100_.medical_specialtyResident\n",
       "1 0                                    \n",
       "2 0                                    \n",
       "4 0                                    \n",
       "5 0                                    \n",
       "6 0                                    \n",
       "8 0                                    "
      ]
     },
     "metadata": {},
     "output_type": "display_data"
    },
    {
     "data": {
      "text/html": [
       "<ol class=list-inline>\n",
       "\t<li>13992</li>\n",
       "\t<li>939</li>\n",
       "</ol>\n"
      ],
      "text/latex": [
       "\\begin{enumerate*}\n",
       "\\item 13992\n",
       "\\item 939\n",
       "\\end{enumerate*}\n"
      ],
      "text/markdown": [
       "1. 13992\n",
       "2. 939\n",
       "\n",
       "\n"
      ],
      "text/plain": [
       "[1] 13992   939"
      ]
     },
     "metadata": {},
     "output_type": "display_data"
    },
    {
     "data": {
      "text/html": [
       "<table>\n",
       "<thead><tr><th></th><th scope=col>num_lab_procedures</th><th scope=col>num_procedures</th><th scope=col>num_medications</th><th scope=col>number_outpatient</th><th scope=col>number_emergency</th><th scope=col>number_inpatient</th><th scope=col>number_diagnoses</th><th scope=col>raceAsian</th><th scope=col>raceCaucasian</th><th scope=col>raceHispanic</th><th scope=col>⋯</th><th scope=col>age_90_100_.medical_specialtyEndocrinology_Metabolism</th><th scope=col>age_10_20_.medical_specialtyResident</th><th scope=col>age_20_30_.medical_specialtyResident</th><th scope=col>age_30_40_.medical_specialtyResident</th><th scope=col>age_40_50_.medical_specialtyResident</th><th scope=col>age_50_60_.medical_specialtyResident</th><th scope=col>age_60_70_.medical_specialtyResident</th><th scope=col>age_70_80_.medical_specialtyResident</th><th scope=col>age_80_90_.medical_specialtyResident</th><th scope=col>age_90_100_.medical_specialtyResident</th></tr></thead>\n",
       "<tbody>\n",
       "\t<tr><th scope=row>3</th><td>11</td><td>5 </td><td>13</td><td>2 </td><td>0 </td><td>1 </td><td>6 </td><td>0 </td><td>0 </td><td>0 </td><td>⋯ </td><td>0 </td><td>0 </td><td>0 </td><td>0 </td><td>0 </td><td>0 </td><td>0 </td><td>0 </td><td>0 </td><td>0 </td></tr>\n",
       "\t<tr><th scope=row>7</th><td>70</td><td>1 </td><td>21</td><td>0 </td><td>0 </td><td>0 </td><td>7 </td><td>0 </td><td>1 </td><td>0 </td><td>⋯ </td><td>0 </td><td>0 </td><td>0 </td><td>0 </td><td>0 </td><td>0 </td><td>0 </td><td>0 </td><td>0 </td><td>0 </td></tr>\n",
       "\t<tr><th scope=row>15</th><td>49</td><td>5 </td><td> 2</td><td>0 </td><td>0 </td><td>0 </td><td>8 </td><td>0 </td><td>0 </td><td>0 </td><td>⋯ </td><td>0 </td><td>0 </td><td>0 </td><td>0 </td><td>0 </td><td>0 </td><td>0 </td><td>0 </td><td>0 </td><td>0 </td></tr>\n",
       "\t<tr><th scope=row>17</th><td>45</td><td>4 </td><td>17</td><td>0 </td><td>0 </td><td>0 </td><td>8 </td><td>0 </td><td>0 </td><td>0 </td><td>⋯ </td><td>0 </td><td>0 </td><td>0 </td><td>0 </td><td>0 </td><td>0 </td><td>0 </td><td>0 </td><td>0 </td><td>0 </td></tr>\n",
       "\t<tr><th scope=row>20</th><td>42</td><td>2 </td><td>23</td><td>0 </td><td>0 </td><td>0 </td><td>8 </td><td>0 </td><td>0 </td><td>0 </td><td>⋯ </td><td>0 </td><td>0 </td><td>0 </td><td>0 </td><td>0 </td><td>0 </td><td>0 </td><td>0 </td><td>0 </td><td>0 </td></tr>\n",
       "\t<tr><th scope=row>23</th><td>47</td><td>0 </td><td>12</td><td>0 </td><td>0 </td><td>0 </td><td>8 </td><td>0 </td><td>0 </td><td>0 </td><td>⋯ </td><td>0 </td><td>0 </td><td>0 </td><td>0 </td><td>0 </td><td>0 </td><td>0 </td><td>0 </td><td>0 </td><td>0 </td></tr>\n",
       "</tbody>\n",
       "</table>\n"
      ],
      "text/latex": [
       "\\begin{tabular}{r|lllllllllllllllllllllllllllllllllllllllllllllllllllllllllllllllllllllllllllllllllllllllllllllllllllllllllllllllllllllllllllllllllllllllllllllllllllllllllllllllllllllllllllllllllllllllllllllllllllllllllllllllllllllllllllllllllllllllllllllllllllllllllllllllllllllllllllllllllllllllllllllllllllllllllllllllllllllllllllllllllllllllllllllllllllllllllllllllllllllllllllllllllllllllllllllllllllllllllllllllllllllllllllllllllllllllllllllllllllllllllllllllllllllllllllllllllllllllllllllllllllllllllllllllllllllllllllllllllllllllllllllllllllllllllllllllllllllllllllllllllllllllllllllllllllllllllllllllllllllllllllllllllllllllllllllllllllllllllllllllllllllllllllllllllllllllllllllllllllllllllllllllllllllllllllllllllllllllllllllllllllllllllllllllllllllllllllllllllllllllllllllllllllllllllllllllllllllllllllllllllllllllllllllllllllllllllllllllllllllllllllllllllllllllllllllllllllllllllllllllllllllllllllllllllllllllllllllllllllllllllllllllllllllllllll}\n",
       "  & num\\_lab\\_procedures & num\\_procedures & num\\_medications & number\\_outpatient & number\\_emergency & number\\_inpatient & number\\_diagnoses & raceAsian & raceCaucasian & raceHispanic & ⋯ & age\\_90\\_100\\_.medical\\_specialtyEndocrinology\\_Metabolism & age\\_10\\_20\\_.medical\\_specialtyResident & age\\_20\\_30\\_.medical\\_specialtyResident & age\\_30\\_40\\_.medical\\_specialtyResident & age\\_40\\_50\\_.medical\\_specialtyResident & age\\_50\\_60\\_.medical\\_specialtyResident & age\\_60\\_70\\_.medical\\_specialtyResident & age\\_70\\_80\\_.medical\\_specialtyResident & age\\_80\\_90\\_.medical\\_specialtyResident & age\\_90\\_100\\_.medical\\_specialtyResident\\\\\n",
       "\\hline\n",
       "\t3 & 11 & 5  & 13 & 2  & 0  & 1  & 6  & 0  & 0  & 0  & ⋯  & 0  & 0  & 0  & 0  & 0  & 0  & 0  & 0  & 0  & 0 \\\\\n",
       "\t7 & 70 & 1  & 21 & 0  & 0  & 0  & 7  & 0  & 1  & 0  & ⋯  & 0  & 0  & 0  & 0  & 0  & 0  & 0  & 0  & 0  & 0 \\\\\n",
       "\t15 & 49 & 5  &  2 & 0  & 0  & 0  & 8  & 0  & 0  & 0  & ⋯  & 0  & 0  & 0  & 0  & 0  & 0  & 0  & 0  & 0  & 0 \\\\\n",
       "\t17 & 45 & 4  & 17 & 0  & 0  & 0  & 8  & 0  & 0  & 0  & ⋯  & 0  & 0  & 0  & 0  & 0  & 0  & 0  & 0  & 0  & 0 \\\\\n",
       "\t20 & 42 & 2  & 23 & 0  & 0  & 0  & 8  & 0  & 0  & 0  & ⋯  & 0  & 0  & 0  & 0  & 0  & 0  & 0  & 0  & 0  & 0 \\\\\n",
       "\t23 & 47 & 0  & 12 & 0  & 0  & 0  & 8  & 0  & 0  & 0  & ⋯  & 0  & 0  & 0  & 0  & 0  & 0  & 0  & 0  & 0  & 0 \\\\\n",
       "\\end{tabular}\n"
      ],
      "text/markdown": [
       "\n",
       "| <!--/--> | num_lab_procedures | num_procedures | num_medications | number_outpatient | number_emergency | number_inpatient | number_diagnoses | raceAsian | raceCaucasian | raceHispanic | ⋯ | age_90_100_.medical_specialtyEndocrinology_Metabolism | age_10_20_.medical_specialtyResident | age_20_30_.medical_specialtyResident | age_30_40_.medical_specialtyResident | age_40_50_.medical_specialtyResident | age_50_60_.medical_specialtyResident | age_60_70_.medical_specialtyResident | age_70_80_.medical_specialtyResident | age_80_90_.medical_specialtyResident | age_90_100_.medical_specialtyResident | \n",
       "|---|---|---|---|---|---|\n",
       "| 3 | 11 | 5  | 13 | 2  | 0  | 1  | 6  | 0  | 0  | 0  | ⋯  | 0  | 0  | 0  | 0  | 0  | 0  | 0  | 0  | 0  | 0  | \n",
       "| 7 | 70 | 1  | 21 | 0  | 0  | 0  | 7  | 0  | 1  | 0  | ⋯  | 0  | 0  | 0  | 0  | 0  | 0  | 0  | 0  | 0  | 0  | \n",
       "| 15 | 49 | 5  |  2 | 0  | 0  | 0  | 8  | 0  | 0  | 0  | ⋯  | 0  | 0  | 0  | 0  | 0  | 0  | 0  | 0  | 0  | 0  | \n",
       "| 17 | 45 | 4  | 17 | 0  | 0  | 0  | 8  | 0  | 0  | 0  | ⋯  | 0  | 0  | 0  | 0  | 0  | 0  | 0  | 0  | 0  | 0  | \n",
       "| 20 | 42 | 2  | 23 | 0  | 0  | 0  | 8  | 0  | 0  | 0  | ⋯  | 0  | 0  | 0  | 0  | 0  | 0  | 0  | 0  | 0  | 0  | \n",
       "| 23 | 47 | 0  | 12 | 0  | 0  | 0  | 8  | 0  | 0  | 0  | ⋯  | 0  | 0  | 0  | 0  | 0  | 0  | 0  | 0  | 0  | 0  | \n",
       "\n",
       "\n"
      ],
      "text/plain": [
       "   num_lab_procedures num_procedures num_medications number_outpatient\n",
       "3  11                 5              13              2                \n",
       "7  70                 1              21              0                \n",
       "15 49                 5               2              0                \n",
       "17 45                 4              17              0                \n",
       "20 42                 2              23              0                \n",
       "23 47                 0              12              0                \n",
       "   number_emergency number_inpatient number_diagnoses raceAsian raceCaucasian\n",
       "3  0                1                6                0         0            \n",
       "7  0                0                7                0         1            \n",
       "15 0                0                8                0         0            \n",
       "17 0                0                8                0         0            \n",
       "20 0                0                8                0         0            \n",
       "23 0                0                8                0         0            \n",
       "   raceHispanic ⋯ age_90_100_.medical_specialtyEndocrinology_Metabolism\n",
       "3  0            ⋯ 0                                                    \n",
       "7  0            ⋯ 0                                                    \n",
       "15 0            ⋯ 0                                                    \n",
       "17 0            ⋯ 0                                                    \n",
       "20 0            ⋯ 0                                                    \n",
       "23 0            ⋯ 0                                                    \n",
       "   age_10_20_.medical_specialtyResident age_20_30_.medical_specialtyResident\n",
       "3  0                                    0                                   \n",
       "7  0                                    0                                   \n",
       "15 0                                    0                                   \n",
       "17 0                                    0                                   \n",
       "20 0                                    0                                   \n",
       "23 0                                    0                                   \n",
       "   age_30_40_.medical_specialtyResident age_40_50_.medical_specialtyResident\n",
       "3  0                                    0                                   \n",
       "7  0                                    0                                   \n",
       "15 0                                    0                                   \n",
       "17 0                                    0                                   \n",
       "20 0                                    0                                   \n",
       "23 0                                    0                                   \n",
       "   age_50_60_.medical_specialtyResident age_60_70_.medical_specialtyResident\n",
       "3  0                                    0                                   \n",
       "7  0                                    0                                   \n",
       "15 0                                    0                                   \n",
       "17 0                                    0                                   \n",
       "20 0                                    0                                   \n",
       "23 0                                    0                                   \n",
       "   age_70_80_.medical_specialtyResident age_80_90_.medical_specialtyResident\n",
       "3  0                                    0                                   \n",
       "7  0                                    0                                   \n",
       "15 0                                    0                                   \n",
       "17 0                                    0                                   \n",
       "20 0                                    0                                   \n",
       "23 0                                    0                                   \n",
       "   age_90_100_.medical_specialtyResident\n",
       "3  0                                    \n",
       "7  0                                    \n",
       "15 0                                    \n",
       "17 0                                    \n",
       "20 0                                    \n",
       "23 0                                    "
      ]
     },
     "metadata": {},
     "output_type": "display_data"
    }
   ],
   "source": [
    "numericFeatures <- c('num_lab_procedures','num_procedures',\n",
    "                 'num_medications','number_outpatient','number_emergency', \n",
    "                 'number_inpatient','number_diagnoses')\n",
    "\n",
    "nominalFeatures <- c('race','age','admission_type_id', 'discharge_disposition_id',\n",
    "                     'medical_specialty','max_glu_serum', 'A1Cresult','metformin',\n",
    "                     'repaglinide','glipizide','insulin', 'change','diabetesMed',\n",
    "                     'time_in_hospital')\n",
    "\n",
    "factorInteractions <- c('race','age','admission_type_id', 'discharge_disposition_id',\n",
    "                        'medical_specialty','max_glu_serum', 'A1Cresult','metformin',\n",
    "                        'repaglinide','glipizide','insulin', 'change','diabetesMed', \n",
    "                        'time_in_hospital',\n",
    "                        'discharge_disposition_id * race', 'medical_specialty * time_in_hospital',\n",
    "                        'medical_specialty * age')\n",
    "\n",
    "\n",
    "# Build the Fature Model Formula\n",
    "factorModel <- bindModel(yLabel=diabetic.labelCol, xFeatures=factorInteractions)\n",
    "\n",
    "\n",
    "# Get the dummy dataframe\n",
    "diabetic.data.dummy <- dummy_DF_Builder(dataIN = diabetic.data, \n",
    "                            factorModel = factorModel, \n",
    "                            factorCols = nominalFeatures,\n",
    "                            numericCols = numericFeatures, \n",
    "                            labelCol = labelFeature,\n",
    "                            intercept=TRUE)\n",
    "\n",
    "dim(diabetic.data.dummy)\n",
    "\n",
    "# Perform Stratified Sampling:\n",
    "dataOUT <- stratifiedSampling(dataIN = diabetic.data.dummy, \n",
    "                               sample_on_col = diabetic.labelCol, \n",
    "                               trainPrcnt = 0.8,\n",
    "                               seed = seed)\n",
    "\n",
    "\n",
    "diabetic.trainData.dummy <- dataOUT[[1]]\n",
    "diabetic.testData.dummy <- dataOUT[[2]]\n",
    "\n",
    "xTrainData <- diabetic.trainData.dummy[, -which(names(diabetic.trainData.dummy) == diabetic.labelCol)]\n",
    "yTrainLabel <- diabetic.trainData.dummy[diabetic.labelCol]\n",
    "xTestData <- diabetic.testData.dummy[, -which(names(diabetic.testData.dummy) == diabetic.labelCol)]\n",
    "yTestLabel <- diabetic.testData.dummy[diabetic.labelCol]\n",
    "\n",
    "dim(xTrainData)\n",
    "head(xTrainData)\n",
    "dim(xTestData)\n",
    "head(xTestData)"
   ]
  },
  {
   "cell_type": "markdown",
   "metadata": {
    "deletable": true,
    "editable": true
   },
   "source": [
    "--> RIDGE:"
   ]
  },
  {
   "cell_type": "code",
   "execution_count": 73,
   "metadata": {
    "collapsed": false,
    "deletable": true,
    "editable": true
   },
   "outputs": [],
   "source": [
    "diabetic.ridge.cv <- cv.glmnet(x=as.matrix(xTrainData), y=as.matrix(yTrainLabel), alpha=0, family='binomial')\n",
    "lambdaBest <- diabetic.ridge.cv$lambda.min\n",
    "\n",
    "diabetic.ridge.fit <- glmnet(x=as.matrix(xTrainData), y=as.matrix(yTrainLabel), alpha=0, lambda=diabetic.ridge.cv$lambda.min, family='binomial')\n",
    "diabetic.ridge.predict <- predict(diabetic.ridge.fit, newx = as.matrix(xTestData), s = lambdaBest, type = \"response\") "
   ]
  },
  {
   "cell_type": "code",
   "execution_count": 66,
   "metadata": {
    "collapsed": false,
    "deletable": true,
    "editable": true
   },
   "outputs": [
    {
     "data": {
      "text/html": [
       "<table>\n",
       "<thead><tr><th scope=col>accuracy</th><th scope=col>precision</th><th scope=col>recall</th></tr></thead>\n",
       "<tbody>\n",
       "\t<tr><td>0.09212407</td><td>0.09192937</td><td>1         </td></tr>\n",
       "\t<tr><td>0.09212407</td><td>0.09192937</td><td>1         </td></tr>\n",
       "\t<tr><td>0.09226701</td><td>0.09194252</td><td>1         </td></tr>\n",
       "\t<tr><td>0.09233848</td><td>0.09194909</td><td>1         </td></tr>\n",
       "\t<tr><td>0.09269583</td><td>0.09198198</td><td>1         </td></tr>\n",
       "\t<tr><td>0.09369640</td><td>0.09207417</td><td>1         </td></tr>\n",
       "</tbody>\n",
       "</table>\n"
      ],
      "text/latex": [
       "\\begin{tabular}{r|lll}\n",
       " accuracy & precision & recall\\\\\n",
       "\\hline\n",
       "\t 0.09212407 & 0.09192937 & 1         \\\\\n",
       "\t 0.09212407 & 0.09192937 & 1         \\\\\n",
       "\t 0.09226701 & 0.09194252 & 1         \\\\\n",
       "\t 0.09233848 & 0.09194909 & 1         \\\\\n",
       "\t 0.09269583 & 0.09198198 & 1         \\\\\n",
       "\t 0.09369640 & 0.09207417 & 1         \\\\\n",
       "\\end{tabular}\n"
      ],
      "text/markdown": [
       "\n",
       "accuracy | precision | recall | \n",
       "|---|---|---|---|---|---|\n",
       "| 0.09212407 | 0.09192937 | 1          | \n",
       "| 0.09212407 | 0.09192937 | 1          | \n",
       "| 0.09226701 | 0.09194252 | 1          | \n",
       "| 0.09233848 | 0.09194909 | 1          | \n",
       "| 0.09269583 | 0.09198198 | 1          | \n",
       "| 0.09369640 | 0.09207417 | 1          | \n",
       "\n",
       "\n"
      ],
      "text/plain": [
       "  accuracy   precision  recall\n",
       "1 0.09212407 0.09192937 1     \n",
       "2 0.09212407 0.09192937 1     \n",
       "3 0.09226701 0.09194252 1     \n",
       "4 0.09233848 0.09194909 1     \n",
       "5 0.09269583 0.09198198 1     \n",
       "6 0.09369640 0.09207417 1     "
      ]
     },
     "metadata": {},
     "output_type": "display_data"
    },
    {
     "name": "stderr",
     "output_type": "stream",
     "text": [
      "Warning message:\n",
      "“Removed 5 rows containing missing values (geom_path).”"
     ]
    },
    {
     "data": {},
     "metadata": {},
     "output_type": "display_data"
    },
    {
     "data": {
      "image/png": "[encoded data removed]",
      "text/plain": [
       "plot without title"
      ]
     },
     "metadata": {},
     "output_type": "display_data"
    }
   ],
   "source": [
    "# Range for cuttoff\n",
    "cutoffRange <- seq(.01,.99,length=1000)\n",
    "perfMatrix <- performanceMetric(cutoffRange = cutoffRange, \n",
    "                                y = yTestLabel$readmitted, \n",
    "                                y_hat = unlist(diabetic.ridge.predict))\n",
    "\n",
    "perfDF <- data.frame(perfMatrix)\n",
    "names(perfDF) <- c('accuracy', 'precision', 'recall')\n",
    "head(perfDF)\n",
    "\n",
    "# Plot Accuracy, precision and recall\n",
    "options(repr.plot.width=10, repr.plot.height=4)\n",
    "p <- plotPerfMetric(perfDF, cutoffRange)\n",
    "p"
   ]
  },
  {
   "cell_type": "markdown",
   "metadata": {
    "deletable": true,
    "editable": true
   },
   "source": [
    "--> LASSO:"
   ]
  },
  {
   "cell_type": "code",
   "execution_count": null,
   "metadata": {
    "collapsed": false,
    "deletable": true,
    "editable": true
   },
   "outputs": [],
   "source": [
    "diabetic.lasso.cv <- cv.glmnet(x=as.matrix(xTrainData), y=as.matrix(yTrainLabel), alpha=1, family='binomial')\n",
    "lambdaBest_ls <- diabetic.lasso.cv$lambda.min\n",
    "\n",
    "diabetic.lasso.fit <- glmnet(x=as.matrix(xTrainData), y=as.matrix(yTrainLabel), alpha=1, lambda=diabetic.lasso.cv$lambda.min, family='binomial')\n",
    "diabetic.lasso.predict <- predict(diabetic.lasso.fit, newx = as.matrix(xTestData), s = lambdaBest, type = \"response\") "
   ]
  },
  {
   "cell_type": "markdown",
   "metadata": {
    "collapsed": false,
    "deletable": true,
    "editable": true
   },
   "source": [
    "## Model 2 : Lasso | Ridge | ELNET:\n",
    "------"
   ]
  },
  {
   "cell_type": "markdown",
   "metadata": {
    "deletable": true,
    "editable": true
   },
   "source": [
    "#### Prepare Data set to use GLMNET:"
   ]
  },
  {
   "cell_type": "code",
   "execution_count": null,
   "metadata": {
    "collapsed": true,
    "deletable": true,
    "editable": true
   },
   "outputs": [],
   "source": []
  },
  {
   "cell_type": "code",
   "execution_count": 16,
   "metadata": {
    "collapsed": false,
    "deletable": true,
    "editable": true
   },
   "outputs": [],
   "source": [
    "# Individual Model Fit\n",
    "model.lasso <- glmnet(x=as.matrix(xTrain.dummy.clean), y=yTrain.dummy.clean, alpha=1, family=\"binomial\")\n",
    "model.ridge <- glmnet(x=as.matrix(xTrain.dummy.clean), y=yTrain.dummy.clean, alpha=0, family=\"binomial\")\n",
    "model.elnet <- glmnet(x=as.matrix(xTrain.dummy.clean), y=yTrain.dummy.clean, alpha=0.5, family=\"binomial\")"
   ]
  },
  {
   "cell_type": "code",
   "execution_count": 17,
   "metadata": {
    "collapsed": true,
    "deletable": true,
    "editable": true
   },
   "outputs": [],
   "source": [
    "# Best Model using Cross Validation\n",
    "model.lasso.cv = cv.glmnet(x=as.matrix(xTrain.dummy.clean), y=yTrain.dummy.clean, alpha=1, family='binomial')\n",
    "model.ridge.cv = cv.glmnet(x=as.matrix(xTrain.dummy.clean), y=yTrain.dummy.clean, alpha=0, family='binomial')\n",
    "model.elnet.cv = cv.glmnet(x=as.matrix(xTrain.dummy.clean), y=yTrain.dummy.clean, alpha=0.5, family='binomial')\n",
    "\n",
    "# Best model using cross validation, where error measure type is \"class\"\n",
    "model.lasso.cv2 = cv.glmnet(x=as.matrix(xTrain.dummy.clean), y=yTrain.dummy.clean, alpha=1, family='binomial', type.measure = \"class\")\n",
    "model.ridge.cv2 = cv.glmnet(x=as.matrix(xTrain.dummy.clean), y=yTrain.dummy.clean, alpha=0, family='binomial', type.measure = \"class\")\n",
    "model.elnet.cv2 = cv.glmnet(x=as.matrix(xTrain.dummy.clean), y=yTrain.dummy.clean, alpha=0.5, family='binomial', type.measure = \"class\")"
   ]
  },
  {
   "cell_type": "code",
   "execution_count": 37,
   "metadata": {
    "collapsed": false,
    "deletable": true,
    "editable": true
   },
   "outputs": [
    {
     "data": {
      "image/png": "[encoded data removed]",
      "text/plain": [
       "Plot with title “LASSO”"
      ]
     },
     "metadata": {},
     "output_type": "display_data"
    }
   ],
   "source": [
    "par(mfrow=c(3,3))\n",
    "# plot(lasso.glm.model)\n",
    "plot(model.lasso, xvar=\"dev\")   # label = TRUE\n",
    "plot(model.lasso.cv, main=\"LASSO\")\n",
    "plot(model.lasso.cv2, main=\"LASSO\")\n",
    "\n",
    "plot(model.ridge, xvar=\"dev\")   # Plots the \n",
    "plot(model.ridge.cv, main=\"RIDGE\")\n",
    "plot(model.ridge.cv2, main=\"RIDGE\")\n",
    "\n",
    "plot(model.elnet, xvar=\"dev\")   # Plots the \n",
    "plot(model.elnet.cv, main=\"ELNET\")\n",
    "plot(model.elnet.cv2, main=\"ELNET\")"
   ]
  },
  {
   "cell_type": "code",
   "execution_count": 58,
   "metadata": {
    "collapsed": true,
    "deletable": true,
    "editable": true
   },
   "outputs": [],
   "source": [
    "# Predict\n",
    "predict.res.model.lasso.cv <- predict(model.lasso.cv, newx = as.matrix(xTest.dummy.clean), s = \"lambda.min\", type = \"class\") # Will produce the probability value\n",
    "predict.cls.model.ridge.cv <- predict(model.ridge.cv, newx = as.matrix(xTest.dummy.clean), s = \"lambda.min\", type = \"class\")\n",
    "predict.cls.model.elnet.cv <- predict(model.elnet.cv, newx = as.matrix(xTest.dummy.clean), s = \"lambda.min\", type = \"class\")\n",
    "\n",
    "predict.res.model.lasso.cv2 <- predict(model.lasso.cv2, newx = as.matrix(xTest.dummy.clean), s = \"lambda.min\", type = \"class\") # Will produce the probability value\n",
    "predict.cls.model.ridge.cv2 <- predict(model.ridge.cv2, newx = as.matrix(xTest.dummy.clean), s = \"lambda.min\", type = \"class\")\n",
    "predict.cls.model.elnet.cv2 <- predict(model.elnet.cv2, newx = as.matrix(xTest.dummy.clean), s = \"lambda.min\", type = \"class\")"
   ]
  },
  {
   "cell_type": "code",
   "execution_count": 62,
   "metadata": {
    "collapsed": false,
    "deletable": true,
    "editable": true
   },
   "outputs": [
    {
     "data": {
      "text/plain": [
       "                  predict.cls.model.elnet.cv     0     1\n",
       "yTest.dummy.clean                                       \n",
       "0                                            12726    11\n",
       "1                                             1250     5"
      ]
     },
     "metadata": {},
     "output_type": "display_data"
    }
   ],
   "source": [
    "predic_table <- table(yTest.dummy.clean, predict.cls.model.ridge.cv)\n",
    "ftable(predic_table)"
   ]
  },
  {
   "cell_type": "code",
   "execution_count": 25,
   "metadata": {
    "collapsed": false,
    "deletable": true,
    "editable": true,
    "scrolled": false
   },
   "outputs": [],
   "source": [
    "opt <- predict(model.lasso, newx = as.matrix(xTrain.dummy.clean), type = \"class\", s = c(0.05, 0.01))  # s is the list of lamdas at which we want to make the prediction\n",
    "# opt\n"
   ]
  },
  {
   "cell_type": "code",
   "execution_count": 29,
   "metadata": {
    "collapsed": false,
    "deletable": true,
    "editable": true,
    "scrolled": true
   },
   "outputs": [
    {
     "data": {
      "text/plain": [
       "140 x 1 sparse Matrix of class \"dgCMatrix\"\n",
       "                                                                1\n",
       "(Intercept)                                           -2.45179091\n",
       "time_in_hospital                                       0.00707845\n",
       "num_lab_procedures                                     .         \n",
       "num_procedures                                         .         \n",
       "num_medications                                        .         \n",
       "number_outpatient                                      .         \n",
       "number_emergency                                       .         \n",
       "number_inpatient                                       0.25967579\n",
       "number_diagnoses                                       .         \n",
       "raceAsian                                              .         \n",
       "raceCaucasian                                          .         \n",
       "raceHispanic                                           .         \n",
       "racemissing                                            .         \n",
       "raceOther                                              .         \n",
       "age_10_20_                                             .         \n",
       "age_20_30_                                             .         \n",
       "age_30_40_                                             .         \n",
       "age_40_50_                                             .         \n",
       "age_50_60_                                             .         \n",
       "age_60_70_                                             .         \n",
       "age_70_80_                                             .         \n",
       "age_80_90_                                             .         \n",
       "age_90_100_                                            .         \n",
       "admission_type_id2                                     .         \n",
       "admission_type_id3                                     .         \n",
       "admission_type_id4                                     .         \n",
       "admission_type_id5                                     .         \n",
       "admission_type_id6                                     .         \n",
       "admission_type_id7                                     .         \n",
       "admission_type_id8                                     .         \n",
       "discharge_disposition_id10                             .         \n",
       "discharge_disposition_id12                             .         \n",
       "discharge_disposition_id15                             .         \n",
       "discharge_disposition_id16                             .         \n",
       "discharge_disposition_id17                             .         \n",
       "discharge_disposition_id18                             .         \n",
       "discharge_disposition_id2                              .         \n",
       "discharge_disposition_id22                             0.87551151\n",
       "discharge_disposition_id23                             .         \n",
       "discharge_disposition_id24                             .         \n",
       "discharge_disposition_id25                             .         \n",
       "discharge_disposition_id27                             .         \n",
       "discharge_disposition_id28                             .         \n",
       "discharge_disposition_id3                              0.16438732\n",
       "discharge_disposition_id4                              .         \n",
       "discharge_disposition_id5                              0.04225613\n",
       "discharge_disposition_id6                              .         \n",
       "discharge_disposition_id7                              .         \n",
       "discharge_disposition_id8                              .         \n",
       "discharge_disposition_id9                              .         \n",
       "medical_specialtyAnesthesiology                        .         \n",
       "medical_specialtyAnesthesiology_Pediatric              .         \n",
       "medical_specialtyCardiology                            .         \n",
       "medical_specialtyDentistry                             .         \n",
       "medical_specialtyEmergency_Trauma                      .         \n",
       "medical_specialtyEndocrinology                         .         \n",
       "medical_specialtyFamily_GeneralPractice                .         \n",
       "medical_specialtyGastroenterology                      .         \n",
       "medical_specialtyGynecology                            .         \n",
       "medical_specialtyHematology                            .         \n",
       "medical_specialtyHematology_Oncology                   .         \n",
       "medical_specialtyInfectiousDiseases                    .         \n",
       "medical_specialtyInternalMedicine                      .         \n",
       "medical_specialtymissing                               .         \n",
       "medical_specialtyNephrology                            .         \n",
       "medical_specialtyNeurology                             .         \n",
       "medical_specialtyObsterics_Gynecology_GynecologicOnco  .         \n",
       "medical_specialtyObstetrics                            .         \n",
       "medical_specialtyObstetricsandGynecology               .         \n",
       "medical_specialtyOncology                              .         \n",
       "medical_specialtyOphthalmology                         .         \n",
       "medical_specialtyOrthopedics                           .         \n",
       "medical_specialtyOrthopedics_Reconstructive            .         \n",
       "medical_specialtyOsteopath                             .         \n",
       "medical_specialtyOtolaryngology                        .         \n",
       "medical_specialtyPediatrics                            .         \n",
       "medical_specialtyPediatrics_CriticalCare               .         \n",
       "medical_specialtyPediatrics_EmergencyMedicine          .         \n",
       "medical_specialtyPediatrics_Endocrinology              .         \n",
       "medical_specialtyPediatrics_Hematology_Oncology        .         \n",
       "medical_specialtyPediatrics_Neurology                  .         \n",
       "medical_specialtyPediatrics_Pulmonology                .         \n",
       "medical_specialtyPhysicalMedicineandRehabilitation     .         \n",
       "medical_specialtyPhysicianNotFound                     .         \n",
       "medical_specialtyPodiatry                              .         \n",
       "medical_specialtyProctology                            .         \n",
       "medical_specialtyPsychiatry                            .         \n",
       "medical_specialtyPsychiatry_Addictive                  .         \n",
       "medical_specialtyPsychiatry_Child_Adolescent           .         \n",
       "medical_specialtyPsychology                            .         \n",
       "medical_specialtyPulmonology                           .         \n",
       "medical_specialtyRadiology                             .         \n",
       "medical_specialtyRheumatology                          .         \n",
       "medical_specialtySurgeon                               .         \n",
       "medical_specialtySurgery_Cardiovascular                .         \n",
       "medical_specialtySurgery_Cardiovascular_Thoracic       .         \n",
       "medical_specialtySurgery_Colon_Rectal                  .         \n",
       "medical_specialtySurgery_General                       .         \n",
       "medical_specialtySurgery_Maxillofacial                 .         \n",
       "medical_specialtySurgery_Neuro                         .         \n",
       "medical_specialtySurgery_Pediatric                     .         \n",
       "medical_specialtySurgery_Plastic                       .         \n",
       "medical_specialtySurgery_PlasticwithinHeadandNeck      .         \n",
       "medical_specialtySurgery_Thoracic                      .         \n",
       "medical_specialtySurgery_Vascular                      .         \n",
       "medical_specialtySurgicalSpecialty                     .         \n",
       "medical_specialtyUrology                               .         \n",
       "medical_specialtyCardiology_Pediatric                  .         \n",
       "medical_specialtyDermatology                           .         \n",
       "medical_specialtyHospitalist                           .         \n",
       "medical_specialtyNeurophysiology                       .         \n",
       "medical_specialtyOutreachServices                      .         \n",
       "medical_specialtyPathology                             .         \n",
       "medical_specialtyPerinatology                          .         \n",
       "medical_specialtyRadiologist                           .         \n",
       "medical_specialtySpeech                                .         \n",
       "medical_specialtySportsMedicine                        .         \n",
       "medical_specialtyDCPTEAM                               .         \n",
       "medical_specialtyEndocrinology_Metabolism              .         \n",
       "medical_specialtyResident                              .         \n",
       "max_glu_serum.300                                      .         \n",
       "max_glu_serumNone                                      .         \n",
       "max_glu_serumNorm                                      .         \n",
       "A1Cresult.8                                            .         \n",
       "A1CresultNone                                          .         \n",
       "A1CresultNorm                                          .         \n",
       "metforminNo                                            .         \n",
       "metforminSteady                                        .         \n",
       "metforminUp                                            .         \n",
       "repaglinideNo                                          .         \n",
       "repaglinideSteady                                      .         \n",
       "repaglinideUp                                          .         \n",
       "glipizideNo                                            .         \n",
       "glipizideSteady                                        .         \n",
       "glipizideUp                                            .         \n",
       "insulinNo                                              .         \n",
       "insulinSteady                                          .         \n",
       "insulinUp                                              .         \n",
       "changeNo                                               .         \n",
       "diabetesMedYes                                         .         "
      ]
     },
     "metadata": {},
     "output_type": "display_data"
    }
   ],
   "source": [
    "# Lets look at the coefficient value at the best lambda value of (lambda.min)\n",
    "coef(model.lasso.cv2, s = \"lambda.min\")"
   ]
  },
  {
   "cell_type": "code",
   "execution_count": 48,
   "metadata": {
    "collapsed": false,
    "deletable": true,
    "editable": true
   },
   "outputs": [],
   "source": []
  }
 ],
 "metadata": {
  "anaconda-cloud": {},
  "kernelspec": {
   "display_name": "R",
   "language": "R",
   "name": "ir"
  },
  "language_info": {
   "codemirror_mode": "r",
   "file_extension": ".r",
   "mimetype": "text/x-r-source",
   "name": "R",
   "pygments_lexer": "r",
   "version": "3.3.2"
  }
 },
 "nbformat": 4,
 "nbformat_minor": 2
}
