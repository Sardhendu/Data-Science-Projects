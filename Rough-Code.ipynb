{
 "cells": [
  {
   "cell_type": "code",
   "execution_count": 3,
   "metadata": {
    "collapsed": false
   },
   "outputs": [],
   "source": [
    "from pyspark import SparkContext, SparkConf\n",
    "from pyspark.mllib.stat import Statistics\n",
    "import csv\n",
    "import numpy as np\n",
    "from ggplot import *\n",
    "\n",
    "# conf = SparkConf().setAppName('ListnerSummarizer')\n",
    "# sc = SparkContext(conf=conf)"
   ]
  },
  {
   "cell_type": "code",
   "execution_count": 5,
   "metadata": {
    "collapsed": false,
    "scrolled": false
   },
   "outputs": [
    {
     "ename": "NameError",
     "evalue": "name 'sc' is not defined",
     "output_type": "error",
     "traceback": [
      "\u001b[0;31m---------------------------------------------------------------------------\u001b[0m",
      "\u001b[0;31mNameError\u001b[0m                                 Traceback (most recent call last)",
      "\u001b[0;32m<ipython-input-5-f1dd1774f752>\u001b[0m in \u001b[0;36m<module>\u001b[0;34m()\u001b[0m\n\u001b[1;32m     10\u001b[0m \u001b[0;34m\u001b[0m\u001b[0m\n\u001b[1;32m     11\u001b[0m \u001b[0;34m\u001b[0m\u001b[0m\n\u001b[0;32m---> 12\u001b[0;31m \u001b[0mdf\u001b[0m \u001b[0;34m=\u001b[0m \u001b[0msc\u001b[0m\u001b[0;34m.\u001b[0m\u001b[0mtextFile\u001b[0m\u001b[0;34m(\u001b[0m\u001b[0mtrackfilepath\u001b[0m\u001b[0;34m)\u001b[0m\u001b[0;34m.\u001b[0m\u001b[0mmap\u001b[0m\u001b[0;34m(\u001b[0m\u001b[0mparseLine\u001b[0m\u001b[0;34m)\u001b[0m\u001b[0;34m\u001b[0m\u001b[0m\n\u001b[0m\u001b[1;32m     13\u001b[0m \u001b[0mprint\u001b[0m \u001b[0;34m(\u001b[0m\u001b[0mdf\u001b[0m\u001b[0;34m)\u001b[0m\u001b[0;34m\u001b[0m\u001b[0m\n\u001b[1;32m     14\u001b[0m \u001b[0;34m\u001b[0m\u001b[0m\n",
      "\u001b[0;31mNameError\u001b[0m: name 'sc' is not defined"
     ]
    }
   ],
   "source": [
    "trackfilepath = \"/Users/sam/All-Program/App-DataSet/Spark-Operations/input1.txt\"\n",
    "\n",
    "# trackfile = sc.texFile(trackfilepath)\n",
    "\n",
    "def parseLine(line):\n",
    "    infoArray = line.split(\",\")       # Split the line into tokens\n",
    "#     print (bits)\n",
    "    print ([e for e in infoArray])\n",
    "    return np.array([float(e) for e in infoArray[4:12]])\n",
    "    \n",
    "    \n",
    "df = sc.textFile(trackfilepath).map(parseLine)\n",
    "print (df)\n",
    "\n",
    "# Run the Map Task to find the summary statistics\n",
    "stats = df.map(lambda e: e[0])\n",
    "print (stats)\n",
    "# print (df.head)\n",
    "# a = .join()"
   ]
  },
  {
   "cell_type": "code",
   "execution_count": 3,
   "metadata": {
    "collapsed": true
   },
   "outputs": [],
   "source": [
    "del sc"
   ]
  },
  {
   "cell_type": "code",
   "execution_count": 1,
   "metadata": {
    "collapsed": true
   },
   "outputs": [],
   "source": [
    "# Rough:"
   ]
  },
  {
   "cell_type": "code",
   "execution_count": null,
   "metadata": {
    "collapsed": true
   },
   "outputs": [],
   "source": [
    "from pyspark import SparkContext#, SparkConf\n",
    "from pyspark.sql import SQLContext\n",
    "import csv\n",
    "import numpy as np\n",
    "# from pyspark.mllib.stat import Statistics\n",
    "# import csv\n",
    "# import numpy as np\n",
    "# from ggplot import *\n",
    "\n",
    "directory = \"/Users/sam/All-Program/App-DataSet/Spark-Operations/test138026.txt\"\n",
    "trackfilepath = \"/Users/sam/All-Program/App-DataSet/Spark-Operations/input.csv\""
   ]
  },
  {
   "cell_type": "code",
   "execution_count": null,
   "metadata": {
    "collapsed": true
   },
   "outputs": [],
   "source": [
    "dataRDD = sc.textFile(trackfilepath)\n",
    "dataRDD = dataRDD.mapPartitions(lambda x: csv.reader(x))\n",
    "dataDF = sqlContext.read.load(trackfilepath, \n",
    "                          format='com.databricks.spark.csv', \n",
    "                          header='true', \n",
    "                          inferSchema='true')\n",
    "\n",
    "schema = dataDF.schema            \n",
    "            \n",
    "\n",
    "# schema1 = dataDF1.schema\n",
    "print (dataRDD.take(3))\n",
    "# print ('')\n",
    "print (dataDF.show())\n",
    "print('')\n",
    "print (schema)\n",
    "print ('')\n",
    "\n",
    "\n",
    "from pyspark.sql.functions import udf\n",
    "from pyspark.sql.types import StructType, StructField, IntegerType, StringType\n",
    "def scoreToCategory(value):\n",
    "    if value == 'Joe': return 'Joewa'\n",
    "    else: return np.NaN\n",
    "\n",
    "udfScoreToCategory=udf(scoreToCategory, StringType())\n",
    "dataDF.withColumn(\"Name\", udfScoreToCategory(\"Name\")).show(10)\n",
    "\n",
    "\n"
   ]
  },
  {
   "cell_type": "code",
   "execution_count": null,
   "metadata": {
    "collapsed": true
   },
   "outputs": [],
   "source": [
    "def splitWords(line):\n",
    "    return line.split(\",\")\n",
    "\n",
    "def createPair(words):\n",
    "    return (words, 1)\n",
    "\n",
    "def wordCount(cnt1,cnt2):\n",
    "    return cnt1+cnt2\n",
    "\n",
    "def records_wth_joy(word):\n",
    "    if word == \"Joy\":\n",
    "        return word\n",
    "    #     print (word)\n",
    "\n",
    "    \n",
    "ex1RDD = sc.textFile(directory)\n",
    "\n",
    "print (ex1RDD.take(5))\n",
    "\n",
    "\n",
    "# Operation Map\n",
    "wordToken = ex1RDD.flatMap(splitWords)\n",
    "wordPair = wordToken.map(createPair)\n",
    "print ('WordToken operation :', wordToken.take(1))\n",
    "print ('')\n",
    "print ('WordCountPair operation :', wordPair.take(1))\n",
    "print ('')\n",
    "\n",
    "# Operation Reduce\n",
    "reduceRDD = wordPair.reduceByKey(wordCount)\n",
    "# See the Output\n",
    "print ('Reduce by operation :', reduceRDD.collect())\n",
    "print ('')\n",
    "\n",
    "# Operation Filter\n",
    "filtRDD = wordToken.filter(records_wth_joy)\n",
    "print ('Filter by operation :', filtRDD.collect())\n",
    "print ('')\n",
    "\n",
    "# Operation Coelesce: Some times a filter may result in RDD partitions of different size, Hence we coelesce to make partitin of similar size\n",
    "partitionRDD = filtRDD.coalesce(2).glom()\n",
    "print ('Coelesce operation :', partitionRDD.collect())  # This will partition the data in two uniform parts.\n",
    "print ('')\n",
    "\n",
    "# GroupBY Operation\n",
    "groupbyRDD = wordPair.groupByKey()\n",
    "# print ('Group by key : ', groupbyRDD.collect())   # This will print the RDD object\n",
    "for key,value in groupbyRDD.collect():\n",
    "    print (key,list(value))"
   ]
  },
  {
   "cell_type": "code",
   "execution_count": null,
   "metadata": {
    "collapsed": true
   },
   "outputs": [],
   "source": [
    "def splitLines(lines):\n",
    "    val = lines.split(',')\n",
    "    return val\n",
    "\n",
    "def thirdWordInt(value):\n",
    "    value[2] = int(value[2])\n",
    "    return value\n",
    "\n",
    "def keyValueList(splitList):\n",
    "#     key = spitList[0]\n",
    "#     value = (splitList[1])\n",
    "    return (splitList[0], tuple(splitList))\n",
    "    \n",
    "    \n",
    "# Question 1\n",
    "print ('Question 1')\n",
    "print (ex1RDD.take(5))\n",
    "print ('')\n",
    "# print (testData.take(5))\n",
    "\n",
    "# Question 2:\n",
    "print ('Question 2')\n",
    "ex2RDD = ex1RDD.flatMap(lambda line: line.split(\" \")).map(lambda sep: sep.split(','))\n",
    "# ex2RDD1 = ex2RDD.reduceByKey(lambda out: out)\n",
    "# OR\n",
    "ex2RDD_al = ex1RDD.flatMap(lambda line: line.split(\" \")).map(splitLines)\n",
    "print (ex2RDD.take(5))\n",
    "print ('')\n",
    "print (ex2RDD_al.take(5))\n",
    "print ('')\n",
    "# print (ex2RDD1.collect(10))\n",
    "\n",
    "\n",
    "# Question 3:\n",
    "print ('Question 3')\n",
    "ex3RDD = ex2RDD.map(lambda cnvrt: [cnvrt[0], cnvrt[1], int(cnvrt[2]), cnvrt[3], cnvrt[4]])\n",
    "# OR\n",
    "ex3RDD_al = ex2RDD.map(thirdWordInt)\n",
    "print (ex3RDD.take(5))\n",
    "print ('')\n",
    "print (ex3RDD_al.take(5))\n",
    "print ('')\n",
    "\n",
    "\n",
    "# Question 4\n",
    "print ('Question 4')\n",
    "ex4RDD = ex3RDD.filter(lambda cond: cond[2]<25)\n",
    "ex4RDD_al = ex3RDD.map(lambda cond: cond if cond[2]<25 else None)\n",
    "print (ex4RDD.take(5))\n",
    "print ('')\n",
    "print (ex4RDD_al.take(5))\n",
    "print ('')\n",
    "\n",
    "\n",
    "# Question 5\n",
    "print ('Question 5')\n",
    "ex5RDD = ex4RDD.map(lambda a: (a[0],tuple(a)))\n",
    "ex5RDD_al = ex4RDD.map(keyValueList)\n",
    "print (ex5RDD.take(5))\n",
    "print ('')\n",
    "print (ex5RDD_al.take(5))\n",
    "print ('')\n",
    "\n",
    "# Question 6\n",
    "print ('Question 6')\n",
    "ex6RDD = ex5RDD.sortByKey(True)\n",
    "print (ex6RDD.take(5))\n",
    "\n"
   ]
  }
 ],
 "metadata": {
  "anaconda-cloud": {},
  "kernelspec": {
   "display_name": "Python [Root]",
   "language": "python",
   "name": "Python [Root]"
  },
  "language_info": {
   "codemirror_mode": {
    "name": "ipython",
    "version": 3
   },
   "file_extension": ".py",
   "mimetype": "text/x-python",
   "name": "python",
   "nbconvert_exporter": "python",
   "pygments_lexer": "ipython3",
   "version": "3.5.2"
  }
 },
 "nbformat": 4,
 "nbformat_minor": 0
}
